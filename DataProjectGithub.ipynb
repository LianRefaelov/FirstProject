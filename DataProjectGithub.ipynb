{
 "cells": [
  {
   "cell_type": "markdown",
   "metadata": {},
   "source": [
    "# Industriel Engineering Data Analysis\n",
    "### **Presented By :       Lian Refaelov , Shifra Fuchs, Osher Moyal , Dolev Levavi**"
   ]
  },
  {
   "cell_type": "code",
   "execution_count": 155,
   "metadata": {},
   "outputs": [],
   "source": [
    "#תמונה"
   ]
  },
  {
   "cell_type": "markdown",
   "metadata": {},
   "source": [
    "## Data Understanding:\n",
    "### The data file we analyzed is a survey conducted between industrial engineering students and industrial engineering graduates.\n",
    "### The data presents information about the lives of students and graduates of industrial engineering around their profession- (facility, Specialization, Experience, Salary etc.)\n"
   ]
  },
  {
   "cell_type": "code",
   "execution_count": 184,
   "metadata": {
    "tags": []
   },
   "outputs": [
    {
     "ename": "ParserError",
     "evalue": "Error tokenizing data. C error: Expected 1 fields in line 100, saw 2\n",
     "output_type": "error",
     "traceback": [
      "\u001b[1;31m---------------------------------------------------------------------------\u001b[0m",
      "\u001b[1;31mParserError\u001b[0m                               Traceback (most recent call last)",
      "\u001b[1;32m<ipython-input-184-396d7b267772>\u001b[0m in \u001b[0;36m<module>\u001b[1;34m\u001b[0m\n\u001b[0;32m      8\u001b[0m \u001b[1;33m\u001b[0m\u001b[0m\n\u001b[0;32m      9\u001b[0m \u001b[0murl\u001b[0m \u001b[1;33m=\u001b[0m \u001b[1;34m\"https://github.com/LianRefaelov/FirstProject/blob/main/IndustrielEngineeringData.csv\"\u001b[0m\u001b[1;33m\u001b[0m\u001b[1;33m\u001b[0m\u001b[0m\n\u001b[1;32m---> 10\u001b[1;33m \u001b[0mindustriel_data_df\u001b[0m \u001b[1;33m=\u001b[0m \u001b[0mpd\u001b[0m\u001b[1;33m.\u001b[0m\u001b[0mread_csv\u001b[0m\u001b[1;33m(\u001b[0m\u001b[0murl\u001b[0m\u001b[1;33m)\u001b[0m\u001b[1;33m\u001b[0m\u001b[1;33m\u001b[0m\u001b[0m\n\u001b[0m\u001b[0;32m     11\u001b[0m \u001b[0mindustriel_data_df\u001b[0m\u001b[1;33m.\u001b[0m\u001b[0mhead\u001b[0m\u001b[1;33m(\u001b[0m\u001b[1;33m)\u001b[0m\u001b[1;33m\u001b[0m\u001b[1;33m\u001b[0m\u001b[0m\n",
      "\u001b[1;32m~\\anaconda3\\lib\\site-packages\\pandas\\io\\parsers.py\u001b[0m in \u001b[0;36mparser_f\u001b[1;34m(filepath_or_buffer, sep, delimiter, header, names, index_col, usecols, squeeze, prefix, mangle_dupe_cols, dtype, engine, converters, true_values, false_values, skipinitialspace, skiprows, skipfooter, nrows, na_values, keep_default_na, na_filter, verbose, skip_blank_lines, parse_dates, infer_datetime_format, keep_date_col, date_parser, dayfirst, cache_dates, iterator, chunksize, compression, thousands, decimal, lineterminator, quotechar, quoting, doublequote, escapechar, comment, encoding, dialect, error_bad_lines, warn_bad_lines, delim_whitespace, low_memory, memory_map, float_precision)\u001b[0m\n\u001b[0;32m    674\u001b[0m         )\n\u001b[0;32m    675\u001b[0m \u001b[1;33m\u001b[0m\u001b[0m\n\u001b[1;32m--> 676\u001b[1;33m         \u001b[1;32mreturn\u001b[0m \u001b[0m_read\u001b[0m\u001b[1;33m(\u001b[0m\u001b[0mfilepath_or_buffer\u001b[0m\u001b[1;33m,\u001b[0m \u001b[0mkwds\u001b[0m\u001b[1;33m)\u001b[0m\u001b[1;33m\u001b[0m\u001b[1;33m\u001b[0m\u001b[0m\n\u001b[0m\u001b[0;32m    677\u001b[0m \u001b[1;33m\u001b[0m\u001b[0m\n\u001b[0;32m    678\u001b[0m     \u001b[0mparser_f\u001b[0m\u001b[1;33m.\u001b[0m\u001b[0m__name__\u001b[0m \u001b[1;33m=\u001b[0m \u001b[0mname\u001b[0m\u001b[1;33m\u001b[0m\u001b[1;33m\u001b[0m\u001b[0m\n",
      "\u001b[1;32m~\\anaconda3\\lib\\site-packages\\pandas\\io\\parsers.py\u001b[0m in \u001b[0;36m_read\u001b[1;34m(filepath_or_buffer, kwds)\u001b[0m\n\u001b[0;32m    452\u001b[0m \u001b[1;33m\u001b[0m\u001b[0m\n\u001b[0;32m    453\u001b[0m     \u001b[1;32mtry\u001b[0m\u001b[1;33m:\u001b[0m\u001b[1;33m\u001b[0m\u001b[1;33m\u001b[0m\u001b[0m\n\u001b[1;32m--> 454\u001b[1;33m         \u001b[0mdata\u001b[0m \u001b[1;33m=\u001b[0m \u001b[0mparser\u001b[0m\u001b[1;33m.\u001b[0m\u001b[0mread\u001b[0m\u001b[1;33m(\u001b[0m\u001b[0mnrows\u001b[0m\u001b[1;33m)\u001b[0m\u001b[1;33m\u001b[0m\u001b[1;33m\u001b[0m\u001b[0m\n\u001b[0m\u001b[0;32m    455\u001b[0m     \u001b[1;32mfinally\u001b[0m\u001b[1;33m:\u001b[0m\u001b[1;33m\u001b[0m\u001b[1;33m\u001b[0m\u001b[0m\n\u001b[0;32m    456\u001b[0m         \u001b[0mparser\u001b[0m\u001b[1;33m.\u001b[0m\u001b[0mclose\u001b[0m\u001b[1;33m(\u001b[0m\u001b[1;33m)\u001b[0m\u001b[1;33m\u001b[0m\u001b[1;33m\u001b[0m\u001b[0m\n",
      "\u001b[1;32m~\\anaconda3\\lib\\site-packages\\pandas\\io\\parsers.py\u001b[0m in \u001b[0;36mread\u001b[1;34m(self, nrows)\u001b[0m\n\u001b[0;32m   1131\u001b[0m     \u001b[1;32mdef\u001b[0m \u001b[0mread\u001b[0m\u001b[1;33m(\u001b[0m\u001b[0mself\u001b[0m\u001b[1;33m,\u001b[0m \u001b[0mnrows\u001b[0m\u001b[1;33m=\u001b[0m\u001b[1;32mNone\u001b[0m\u001b[1;33m)\u001b[0m\u001b[1;33m:\u001b[0m\u001b[1;33m\u001b[0m\u001b[1;33m\u001b[0m\u001b[0m\n\u001b[0;32m   1132\u001b[0m         \u001b[0mnrows\u001b[0m \u001b[1;33m=\u001b[0m \u001b[0m_validate_integer\u001b[0m\u001b[1;33m(\u001b[0m\u001b[1;34m\"nrows\"\u001b[0m\u001b[1;33m,\u001b[0m \u001b[0mnrows\u001b[0m\u001b[1;33m)\u001b[0m\u001b[1;33m\u001b[0m\u001b[1;33m\u001b[0m\u001b[0m\n\u001b[1;32m-> 1133\u001b[1;33m         \u001b[0mret\u001b[0m \u001b[1;33m=\u001b[0m \u001b[0mself\u001b[0m\u001b[1;33m.\u001b[0m\u001b[0m_engine\u001b[0m\u001b[1;33m.\u001b[0m\u001b[0mread\u001b[0m\u001b[1;33m(\u001b[0m\u001b[0mnrows\u001b[0m\u001b[1;33m)\u001b[0m\u001b[1;33m\u001b[0m\u001b[1;33m\u001b[0m\u001b[0m\n\u001b[0m\u001b[0;32m   1134\u001b[0m \u001b[1;33m\u001b[0m\u001b[0m\n\u001b[0;32m   1135\u001b[0m         \u001b[1;31m# May alter columns / col_dict\u001b[0m\u001b[1;33m\u001b[0m\u001b[1;33m\u001b[0m\u001b[1;33m\u001b[0m\u001b[0m\n",
      "\u001b[1;32m~\\anaconda3\\lib\\site-packages\\pandas\\io\\parsers.py\u001b[0m in \u001b[0;36mread\u001b[1;34m(self, nrows)\u001b[0m\n\u001b[0;32m   2035\u001b[0m     \u001b[1;32mdef\u001b[0m \u001b[0mread\u001b[0m\u001b[1;33m(\u001b[0m\u001b[0mself\u001b[0m\u001b[1;33m,\u001b[0m \u001b[0mnrows\u001b[0m\u001b[1;33m=\u001b[0m\u001b[1;32mNone\u001b[0m\u001b[1;33m)\u001b[0m\u001b[1;33m:\u001b[0m\u001b[1;33m\u001b[0m\u001b[1;33m\u001b[0m\u001b[0m\n\u001b[0;32m   2036\u001b[0m         \u001b[1;32mtry\u001b[0m\u001b[1;33m:\u001b[0m\u001b[1;33m\u001b[0m\u001b[1;33m\u001b[0m\u001b[0m\n\u001b[1;32m-> 2037\u001b[1;33m             \u001b[0mdata\u001b[0m \u001b[1;33m=\u001b[0m \u001b[0mself\u001b[0m\u001b[1;33m.\u001b[0m\u001b[0m_reader\u001b[0m\u001b[1;33m.\u001b[0m\u001b[0mread\u001b[0m\u001b[1;33m(\u001b[0m\u001b[0mnrows\u001b[0m\u001b[1;33m)\u001b[0m\u001b[1;33m\u001b[0m\u001b[1;33m\u001b[0m\u001b[0m\n\u001b[0m\u001b[0;32m   2038\u001b[0m         \u001b[1;32mexcept\u001b[0m \u001b[0mStopIteration\u001b[0m\u001b[1;33m:\u001b[0m\u001b[1;33m\u001b[0m\u001b[1;33m\u001b[0m\u001b[0m\n\u001b[0;32m   2039\u001b[0m             \u001b[1;32mif\u001b[0m \u001b[0mself\u001b[0m\u001b[1;33m.\u001b[0m\u001b[0m_first_chunk\u001b[0m\u001b[1;33m:\u001b[0m\u001b[1;33m\u001b[0m\u001b[1;33m\u001b[0m\u001b[0m\n",
      "\u001b[1;32mpandas\\_libs\\parsers.pyx\u001b[0m in \u001b[0;36mpandas._libs.parsers.TextReader.read\u001b[1;34m()\u001b[0m\n",
      "\u001b[1;32mpandas\\_libs\\parsers.pyx\u001b[0m in \u001b[0;36mpandas._libs.parsers.TextReader._read_low_memory\u001b[1;34m()\u001b[0m\n",
      "\u001b[1;32mpandas\\_libs\\parsers.pyx\u001b[0m in \u001b[0;36mpandas._libs.parsers.TextReader._read_rows\u001b[1;34m()\u001b[0m\n",
      "\u001b[1;32mpandas\\_libs\\parsers.pyx\u001b[0m in \u001b[0;36mpandas._libs.parsers.TextReader._tokenize_rows\u001b[1;34m()\u001b[0m\n",
      "\u001b[1;32mpandas\\_libs\\parsers.pyx\u001b[0m in \u001b[0;36mpandas._libs.parsers.raise_parser_error\u001b[1;34m()\u001b[0m\n",
      "\u001b[1;31mParserError\u001b[0m: Error tokenizing data. C error: Expected 1 fields in line 100, saw 2\n"
     ]
    }
   ],
   "source": [
    "import pandas as pd\n",
    "import numpy as np\n",
    "import matplotlib.pyplot as plt\n",
    "import seaborn as sns\n",
    "\n",
    "font1 = {'family':'serif','color':'darkblue','size':25}\n",
    "font2 = {'family':'serif','color':'darkblue','size':15}\n",
    "\n",
    "url = \"https://github.com/LianRefaelov/FirstProject/blob/main/IndustrielEngineeringData.csv\"\n",
    "industriel_data_df = pd.read_csv(url)\n",
    "industriel_data_df.head()"
   ]
  },
  {
   "cell_type": "markdown",
   "metadata": {},
   "source": [
    "## Data Preperation:\n",
    "### Our data is in hebrew and in order to make it easier to work with we transferred column headings of the data to english:"
   ]
  },
  {
   "cell_type": "code",
   "execution_count": 157,
   "metadata": {
    "jupyter": {
     "source_hidden": true
    },
    "tags": []
   },
   "outputs": [
    {
     "data": {
      "text/html": [
       "<div>\n",
       "<style scoped>\n",
       "    .dataframe tbody tr th:only-of-type {\n",
       "        vertical-align: middle;\n",
       "    }\n",
       "\n",
       "    .dataframe tbody tr th {\n",
       "        vertical-align: top;\n",
       "    }\n",
       "\n",
       "    .dataframe thead th {\n",
       "        text-align: right;\n",
       "    }\n",
       "</style>\n",
       "<table border=\"1\" class=\"dataframe\">\n",
       "  <thead>\n",
       "    <tr style=\"text-align: right;\">\n",
       "      <th></th>\n",
       "      <th>Date</th>\n",
       "      <th>Status</th>\n",
       "      <th>Facility</th>\n",
       "      <th>Classification</th>\n",
       "      <th>Specialization</th>\n",
       "      <th>Company</th>\n",
       "      <th>Experience</th>\n",
       "      <th>Salary</th>\n",
       "      <th>Salary_kind</th>\n",
       "      <th>Remarks</th>\n",
       "      <th>Car</th>\n",
       "    </tr>\n",
       "  </thead>\n",
       "  <tbody>\n",
       "    <tr>\n",
       "      <th>0</th>\n",
       "      <td>08/01/2019 11:41</td>\n",
       "      <td>סטודנט/ית</td>\n",
       "      <td>אוניברסיטה פתוחה</td>\n",
       "      <td>NaN</td>\n",
       "      <td>ניתוח נתונים</td>\n",
       "      <td>NaN</td>\n",
       "      <td>2+</td>\n",
       "      <td>20000.0</td>\n",
       "      <td>גלובלי</td>\n",
       "      <td>NaN</td>\n",
       "      <td>NaN</td>\n",
       "    </tr>\n",
       "    <tr>\n",
       "      <th>1</th>\n",
       "      <td>08/01/2019 11:49</td>\n",
       "      <td>סטודנט/ית</td>\n",
       "      <td>אוניברסיטה פתוחה</td>\n",
       "      <td>הייטק</td>\n",
       "      <td>QA</td>\n",
       "      <td>Oracle</td>\n",
       "      <td>2+</td>\n",
       "      <td>30000.0</td>\n",
       "      <td>גלובלי</td>\n",
       "      <td>NaN</td>\n",
       "      <td>לא</td>\n",
       "    </tr>\n",
       "    <tr>\n",
       "      <th>2</th>\n",
       "      <td>08/01/2019 12:03</td>\n",
       "      <td>סטודנט/ית</td>\n",
       "      <td>אוניברסיטה פתוחה</td>\n",
       "      <td>מוסד ממשלתי</td>\n",
       "      <td>רכז פרוייקטים</td>\n",
       "      <td>NaN</td>\n",
       "      <td>1</td>\n",
       "      <td>3000.0</td>\n",
       "      <td>שעתי</td>\n",
       "      <td>NaN</td>\n",
       "      <td>לא</td>\n",
       "    </tr>\n",
       "    <tr>\n",
       "      <th>3</th>\n",
       "      <td>08/01/2019 12:05</td>\n",
       "      <td>סטודנט/ית</td>\n",
       "      <td>אוניברסיטה פתוחה</td>\n",
       "      <td>מוסד ממשלתי</td>\n",
       "      <td>ניתוח נתונים</td>\n",
       "      <td>ZIM</td>\n",
       "      <td>1</td>\n",
       "      <td>40.0</td>\n",
       "      <td>שעתי</td>\n",
       "      <td>NaN</td>\n",
       "      <td>לא</td>\n",
       "    </tr>\n",
       "    <tr>\n",
       "      <th>4</th>\n",
       "      <td>08/01/2019 12:09</td>\n",
       "      <td>סטודנט/ית</td>\n",
       "      <td>אוניברסיטה פתוחה</td>\n",
       "      <td>הייטק</td>\n",
       "      <td>ניהול פרוייקטים PMO</td>\n",
       "      <td>AtoZ</td>\n",
       "      <td>1</td>\n",
       "      <td>12000.0</td>\n",
       "      <td>גלובלי</td>\n",
       "      <td>NaN</td>\n",
       "      <td>לא</td>\n",
       "    </tr>\n",
       "  </tbody>\n",
       "</table>\n",
       "</div>"
      ],
      "text/plain": [
       "               Date     Status          Facility Classification  \\\n",
       "0  08/01/2019 11:41  סטודנט/ית  אוניברסיטה פתוחה            NaN   \n",
       "1  08/01/2019 11:49  סטודנט/ית  אוניברסיטה פתוחה          הייטק   \n",
       "2  08/01/2019 12:03  סטודנט/ית  אוניברסיטה פתוחה    מוסד ממשלתי   \n",
       "3  08/01/2019 12:05  סטודנט/ית  אוניברסיטה פתוחה    מוסד ממשלתי   \n",
       "4  08/01/2019 12:09  סטודנט/ית  אוניברסיטה פתוחה          הייטק   \n",
       "\n",
       "        Specialization Company Experience   Salary Salary_kind Remarks  Car  \n",
       "0         ניתוח נתונים     NaN         2+  20000.0      גלובלי     NaN  NaN  \n",
       "1                   QA  Oracle         2+  30000.0      גלובלי     NaN   לא  \n",
       "2        רכז פרוייקטים     NaN          1   3000.0        שעתי     NaN   לא  \n",
       "3         ניתוח נתונים     ZIM          1     40.0        שעתי     NaN   לא  \n",
       "4  ניהול פרוייקטים PMO    AtoZ          1  12000.0      גלובלי     NaN   לא  "
      ]
     },
     "execution_count": 157,
     "metadata": {},
     "output_type": "execute_result"
    }
   ],
   "source": [
    "industriel_data_df.columns = ['Date', 'Status', 'Facility', 'Classification', 'Specialization', 'Company', 'Experience', 'Salary', 'Salary_kind', 'Remarks', 'Car']\n",
    "industriel_data_df.head()"
   ]
  },
  {
   "cell_type": "markdown",
   "metadata": {},
   "source": [
    "## Then we started to change types, fix missing values or improper answers and adding collumns based on the old ones that reflects the data in a more accurate way:"
   ]
  },
  {
   "cell_type": "code",
   "execution_count": 158,
   "metadata": {
    "jupyter": {
     "source_hidden": true
    },
    "tags": []
   },
   "outputs": [
    {
     "data": {
      "text/html": [
       "<div>\n",
       "<style scoped>\n",
       "    .dataframe tbody tr th:only-of-type {\n",
       "        vertical-align: middle;\n",
       "    }\n",
       "\n",
       "    .dataframe tbody tr th {\n",
       "        vertical-align: top;\n",
       "    }\n",
       "\n",
       "    .dataframe thead th {\n",
       "        text-align: right;\n",
       "    }\n",
       "</style>\n",
       "<table border=\"1\" class=\"dataframe\">\n",
       "  <thead>\n",
       "    <tr style=\"text-align: right;\">\n",
       "      <th></th>\n",
       "      <th>Date</th>\n",
       "      <th>Status</th>\n",
       "      <th>Facility</th>\n",
       "      <th>Classification</th>\n",
       "      <th>Specialization</th>\n",
       "      <th>Company</th>\n",
       "      <th>Experience</th>\n",
       "      <th>Salary</th>\n",
       "      <th>Salary_kind</th>\n",
       "      <th>Remarks</th>\n",
       "      <th>Car</th>\n",
       "      <th>Year</th>\n",
       "    </tr>\n",
       "  </thead>\n",
       "  <tbody>\n",
       "    <tr>\n",
       "      <th>0</th>\n",
       "      <td>2019-08-01 11:41:00</td>\n",
       "      <td>סטודנט/ית</td>\n",
       "      <td>אוניברסיטה פתוחה</td>\n",
       "      <td>NaN</td>\n",
       "      <td>ניתוח נתונים</td>\n",
       "      <td>NaN</td>\n",
       "      <td>2+</td>\n",
       "      <td>20000.0</td>\n",
       "      <td>גלובלי</td>\n",
       "      <td>NaN</td>\n",
       "      <td>NaN</td>\n",
       "      <td>2019</td>\n",
       "    </tr>\n",
       "    <tr>\n",
       "      <th>1</th>\n",
       "      <td>2019-08-01 11:49:00</td>\n",
       "      <td>סטודנט/ית</td>\n",
       "      <td>אוניברסיטה פתוחה</td>\n",
       "      <td>הייטק</td>\n",
       "      <td>QA</td>\n",
       "      <td>Oracle</td>\n",
       "      <td>2+</td>\n",
       "      <td>30000.0</td>\n",
       "      <td>גלובלי</td>\n",
       "      <td>NaN</td>\n",
       "      <td>לא</td>\n",
       "      <td>2019</td>\n",
       "    </tr>\n",
       "    <tr>\n",
       "      <th>2</th>\n",
       "      <td>2019-08-01 12:03:00</td>\n",
       "      <td>סטודנט/ית</td>\n",
       "      <td>אוניברסיטה פתוחה</td>\n",
       "      <td>מוסד ממשלתי</td>\n",
       "      <td>רכז פרוייקטים</td>\n",
       "      <td>NaN</td>\n",
       "      <td>1</td>\n",
       "      <td>3000.0</td>\n",
       "      <td>שעתי</td>\n",
       "      <td>NaN</td>\n",
       "      <td>לא</td>\n",
       "      <td>2019</td>\n",
       "    </tr>\n",
       "    <tr>\n",
       "      <th>3</th>\n",
       "      <td>2019-08-01 12:05:00</td>\n",
       "      <td>סטודנט/ית</td>\n",
       "      <td>אוניברסיטה פתוחה</td>\n",
       "      <td>מוסד ממשלתי</td>\n",
       "      <td>ניתוח נתונים</td>\n",
       "      <td>ZIM</td>\n",
       "      <td>1</td>\n",
       "      <td>40.0</td>\n",
       "      <td>שעתי</td>\n",
       "      <td>NaN</td>\n",
       "      <td>לא</td>\n",
       "      <td>2019</td>\n",
       "    </tr>\n",
       "    <tr>\n",
       "      <th>4</th>\n",
       "      <td>2019-08-01 12:09:00</td>\n",
       "      <td>סטודנט/ית</td>\n",
       "      <td>אוניברסיטה פתוחה</td>\n",
       "      <td>הייטק</td>\n",
       "      <td>ניהול פרוייקטים PMO</td>\n",
       "      <td>AtoZ</td>\n",
       "      <td>1</td>\n",
       "      <td>12000.0</td>\n",
       "      <td>גלובלי</td>\n",
       "      <td>NaN</td>\n",
       "      <td>לא</td>\n",
       "      <td>2019</td>\n",
       "    </tr>\n",
       "  </tbody>\n",
       "</table>\n",
       "</div>"
      ],
      "text/plain": [
       "                 Date     Status          Facility Classification  \\\n",
       "0 2019-08-01 11:41:00  סטודנט/ית  אוניברסיטה פתוחה            NaN   \n",
       "1 2019-08-01 11:49:00  סטודנט/ית  אוניברסיטה פתוחה          הייטק   \n",
       "2 2019-08-01 12:03:00  סטודנט/ית  אוניברסיטה פתוחה    מוסד ממשלתי   \n",
       "3 2019-08-01 12:05:00  סטודנט/ית  אוניברסיטה פתוחה    מוסד ממשלתי   \n",
       "4 2019-08-01 12:09:00  סטודנט/ית  אוניברסיטה פתוחה          הייטק   \n",
       "\n",
       "        Specialization Company Experience   Salary Salary_kind Remarks  Car  \\\n",
       "0         ניתוח נתונים     NaN         2+  20000.0      גלובלי     NaN  NaN   \n",
       "1                   QA  Oracle         2+  30000.0      גלובלי     NaN   לא   \n",
       "2        רכז פרוייקטים     NaN          1   3000.0        שעתי     NaN   לא   \n",
       "3         ניתוח נתונים     ZIM          1     40.0        שעתי     NaN   לא   \n",
       "4  ניהול פרוייקטים PMO    AtoZ          1  12000.0      גלובלי     NaN   לא   \n",
       "\n",
       "   Year  \n",
       "0  2019  \n",
       "1  2019  \n",
       "2  2019  \n",
       "3  2019  \n",
       "4  2019  "
      ]
     },
     "execution_count": 158,
     "metadata": {},
     "output_type": "execute_result"
    }
   ],
   "source": [
    "industriel_data_df['Date'] = pd.to_datetime(industriel_data_df['Date'])\n",
    "industriel_data_df['Year'] = pd.DatetimeIndex(industriel_data_df['Date']).year\n",
    "industriel_data_df.head()"
   ]
  },
  {
   "cell_type": "code",
   "execution_count": 159,
   "metadata": {
    "jupyter": {
     "source_hidden": true
    },
    "tags": []
   },
   "outputs": [
    {
     "data": {
      "text/plain": [
       "Date              datetime64[ns]\n",
       "Status                    object\n",
       "Facility                  object\n",
       "Classification            object\n",
       "Specialization            object\n",
       "Company                   object\n",
       "Experience                object\n",
       "Salary                   float64\n",
       "Salary_kind               object\n",
       "Remarks                   object\n",
       "Car                       object\n",
       "Year                       int64\n",
       "dtype: object"
      ]
     },
     "execution_count": 159,
     "metadata": {},
     "output_type": "execute_result"
    }
   ],
   "source": [
    "industriel_data_df.dtypes"
   ]
  },
  {
   "cell_type": "code",
   "execution_count": 160,
   "metadata": {
    "jupyter": {
     "source_hidden": true
    },
    "tags": []
   },
   "outputs": [
    {
     "data": {
      "text/plain": [
       "Remarks           278\n",
       "Company           238\n",
       "Car                19\n",
       "Classification      1\n",
       "Year                0\n",
       "Salary_kind         0\n",
       "Salary              0\n",
       "Experience          0\n",
       "Specialization      0\n",
       "Facility            0\n",
       "Status              0\n",
       "Date                0\n",
       "dtype: int64"
      ]
     },
     "execution_count": 160,
     "metadata": {},
     "output_type": "execute_result"
    }
   ],
   "source": [
    "industriel_data_df.isnull().sum().sort_values(ascending=False)"
   ]
  },
  {
   "cell_type": "code",
   "execution_count": 161,
   "metadata": {
    "jupyter": {
     "source_hidden": true
    },
    "tags": []
   },
   "outputs": [
    {
     "data": {
      "text/html": [
       "<div>\n",
       "<style scoped>\n",
       "    .dataframe tbody tr th:only-of-type {\n",
       "        vertical-align: middle;\n",
       "    }\n",
       "\n",
       "    .dataframe tbody tr th {\n",
       "        vertical-align: top;\n",
       "    }\n",
       "\n",
       "    .dataframe thead th {\n",
       "        text-align: right;\n",
       "    }\n",
       "</style>\n",
       "<table border=\"1\" class=\"dataframe\">\n",
       "  <thead>\n",
       "    <tr style=\"text-align: right;\">\n",
       "      <th></th>\n",
       "      <th>Status</th>\n",
       "      <th>Facility</th>\n",
       "      <th>Classification</th>\n",
       "      <th>Specialization</th>\n",
       "      <th>Company</th>\n",
       "      <th>Experience</th>\n",
       "      <th>Salary</th>\n",
       "      <th>Salary_kind</th>\n",
       "      <th>Car</th>\n",
       "      <th>Year</th>\n",
       "    </tr>\n",
       "  </thead>\n",
       "  <tbody>\n",
       "    <tr>\n",
       "      <th>0</th>\n",
       "      <td>סטודנט/ית</td>\n",
       "      <td>אוניברסיטה פתוחה</td>\n",
       "      <td>לא הוזן</td>\n",
       "      <td>ניתוח נתונים</td>\n",
       "      <td>לא הוזן</td>\n",
       "      <td>2+</td>\n",
       "      <td>20000.0</td>\n",
       "      <td>גלובלי</td>\n",
       "      <td>לא הוזן</td>\n",
       "      <td>2019</td>\n",
       "    </tr>\n",
       "    <tr>\n",
       "      <th>1</th>\n",
       "      <td>סטודנט/ית</td>\n",
       "      <td>אוניברסיטה פתוחה</td>\n",
       "      <td>הייטק</td>\n",
       "      <td>QA</td>\n",
       "      <td>Oracle</td>\n",
       "      <td>2+</td>\n",
       "      <td>30000.0</td>\n",
       "      <td>גלובלי</td>\n",
       "      <td>לא</td>\n",
       "      <td>2019</td>\n",
       "    </tr>\n",
       "    <tr>\n",
       "      <th>2</th>\n",
       "      <td>סטודנט/ית</td>\n",
       "      <td>אוניברסיטה פתוחה</td>\n",
       "      <td>מוסד ממשלתי</td>\n",
       "      <td>רכז פרוייקטים</td>\n",
       "      <td>לא הוזן</td>\n",
       "      <td>1</td>\n",
       "      <td>3000.0</td>\n",
       "      <td>שעתי</td>\n",
       "      <td>לא</td>\n",
       "      <td>2019</td>\n",
       "    </tr>\n",
       "    <tr>\n",
       "      <th>3</th>\n",
       "      <td>סטודנט/ית</td>\n",
       "      <td>אוניברסיטה פתוחה</td>\n",
       "      <td>מוסד ממשלתי</td>\n",
       "      <td>ניתוח נתונים</td>\n",
       "      <td>ZIM</td>\n",
       "      <td>1</td>\n",
       "      <td>40.0</td>\n",
       "      <td>שעתי</td>\n",
       "      <td>לא</td>\n",
       "      <td>2019</td>\n",
       "    </tr>\n",
       "    <tr>\n",
       "      <th>4</th>\n",
       "      <td>סטודנט/ית</td>\n",
       "      <td>אוניברסיטה פתוחה</td>\n",
       "      <td>הייטק</td>\n",
       "      <td>ניהול פרוייקטים PMO</td>\n",
       "      <td>AtoZ</td>\n",
       "      <td>1</td>\n",
       "      <td>12000.0</td>\n",
       "      <td>גלובלי</td>\n",
       "      <td>לא</td>\n",
       "      <td>2019</td>\n",
       "    </tr>\n",
       "  </tbody>\n",
       "</table>\n",
       "</div>"
      ],
      "text/plain": [
       "      Status          Facility Classification       Specialization  Company  \\\n",
       "0  סטודנט/ית  אוניברסיטה פתוחה        לא הוזן         ניתוח נתונים  לא הוזן   \n",
       "1  סטודנט/ית  אוניברסיטה פתוחה          הייטק                   QA   Oracle   \n",
       "2  סטודנט/ית  אוניברסיטה פתוחה    מוסד ממשלתי        רכז פרוייקטים  לא הוזן   \n",
       "3  סטודנט/ית  אוניברסיטה פתוחה    מוסד ממשלתי         ניתוח נתונים      ZIM   \n",
       "4  סטודנט/ית  אוניברסיטה פתוחה          הייטק  ניהול פרוייקטים PMO     AtoZ   \n",
       "\n",
       "  Experience   Salary Salary_kind      Car  Year  \n",
       "0         2+  20000.0      גלובלי  לא הוזן  2019  \n",
       "1         2+  30000.0      גלובלי       לא  2019  \n",
       "2          1   3000.0        שעתי       לא  2019  \n",
       "3          1     40.0        שעתי       לא  2019  \n",
       "4          1  12000.0      גלובלי       לא  2019  "
      ]
     },
     "execution_count": 161,
     "metadata": {},
     "output_type": "execute_result"
    }
   ],
   "source": [
    "irrelevant_columns=['Remarks','Date']\n",
    "industriel_data_df.drop(irrelevant_columns,axis='columns' ,inplace=True)\n",
    "industriel_data_df[\"Company\"].fillna(\"לא הוזן\",inplace=True)\n",
    "industriel_data_df[\"Car\"].fillna(\"לא הוזן\",inplace=True)\n",
    "industriel_data_df[\"Classification\"].fillna(\"לא הוזן\",inplace=True)\n",
    "industriel_data_df.head()"
   ]
  },
  {
   "cell_type": "code",
   "execution_count": 162,
   "metadata": {
    "jupyter": {
     "source_hidden": true
    }
   },
   "outputs": [
    {
     "data": {
      "text/plain": [
       "Year              0\n",
       "Car               0\n",
       "Salary_kind       0\n",
       "Salary            0\n",
       "Experience        0\n",
       "Company           0\n",
       "Specialization    0\n",
       "Classification    0\n",
       "Facility          0\n",
       "Status            0\n",
       "dtype: int64"
      ]
     },
     "execution_count": 162,
     "metadata": {},
     "output_type": "execute_result"
    }
   ],
   "source": [
    "industriel_data_df.isnull().sum().sort_values(ascending=False)"
   ]
  },
  {
   "cell_type": "code",
   "execution_count": 163,
   "metadata": {
    "jupyter": {
     "source_hidden": true
    }
   },
   "outputs": [
    {
     "data": {
      "text/plain": [
       "array(['אוניברסיטה פתוחה', 'אוניברסיטת אריאל', 'אוניברסיטת בר אילן',\n",
       "       'אוניברסיטת חיפה', 'אוניברסיטת תל אביב', 'בן גוריון',\n",
       "       'האקדמית עמק יזרעאל', 'האקדמית תל אביב יפו',\n",
       "       'המכללה להנדסה ירושלים', 'המכללה למינהל', 'המרכז האקדמי לב',\n",
       "       'טכניון', 'לא מהנדס , הנדסאי', 'מוסד ממש טוב', 'מכללת אורט בראודה',\n",
       "       'מכללת אפקה', 'מכללת סמי שמעון', 'מכללת ספיר', 'מכללת רופין',\n",
       "       'מכללת שנקר'], dtype=object)"
      ]
     },
     "execution_count": 163,
     "metadata": {},
     "output_type": "execute_result"
    }
   ],
   "source": [
    "pd.unique(industriel_data_df.Facility)"
   ]
  },
  {
   "cell_type": "code",
   "execution_count": 164,
   "metadata": {
    "jupyter": {
     "source_hidden": true
    }
   },
   "outputs": [
    {
     "data": {
      "text/plain": [
       "array(['אוניברסיטה פתוחה', 'אוניברסיטת אריאל', 'אוניברסיטת בר אילן',\n",
       "       'אוניברסיטת חיפה', 'אוניברסיטת תל אביב', 'אוניברסיטת בן גוריון',\n",
       "       'האקדמית עמק יזרעאל', 'האקדמית תל אביב יפו',\n",
       "       'המכללה להנדסה ירושלים', 'המכללה למינהל', 'המרכז האקדמי לב',\n",
       "       'טכניון', 'מכללת אורט בראודה', 'מכללת אפקה', 'מכללת סמי שמעון',\n",
       "       'מכללת ספיר', 'מכללת רופין', 'מכללת שנקר'], dtype=object)"
      ]
     },
     "execution_count": 164,
     "metadata": {},
     "output_type": "execute_result"
    }
   ],
   "source": [
    "industriel_data_df.drop(industriel_data_df[industriel_data_df.Facility == \"מוסד ממש טוב\"].index, inplace=True)\n",
    "industriel_data_df.drop(industriel_data_df[industriel_data_df.Facility == \"לא מהנדס , הנדסאי\"].index, inplace=True)\n",
    "industriel_data_df.loc[industriel_data_df[industriel_data_df.Facility == \"בן גוריון\"].index, \"Facility\"] = \"אוניברסיטת בן גוריון\"\n",
    "pd.unique(industriel_data_df.Facility)"
   ]
  },
  {
   "cell_type": "markdown",
   "metadata": {},
   "source": [
    "### We divided the facility data to 2 groups based on their type: college / university"
   ]
  },
  {
   "cell_type": "code",
   "execution_count": 165,
   "metadata": {
    "jupyter": {
     "source_hidden": true
    }
   },
   "outputs": [
    {
     "data": {
      "text/html": [
       "<div>\n",
       "<style scoped>\n",
       "    .dataframe tbody tr th:only-of-type {\n",
       "        vertical-align: middle;\n",
       "    }\n",
       "\n",
       "    .dataframe tbody tr th {\n",
       "        vertical-align: top;\n",
       "    }\n",
       "\n",
       "    .dataframe thead th {\n",
       "        text-align: right;\n",
       "    }\n",
       "</style>\n",
       "<table border=\"1\" class=\"dataframe\">\n",
       "  <thead>\n",
       "    <tr style=\"text-align: right;\">\n",
       "      <th></th>\n",
       "      <th>Status</th>\n",
       "      <th>Facility</th>\n",
       "      <th>Classification</th>\n",
       "      <th>Specialization</th>\n",
       "      <th>Company</th>\n",
       "      <th>Experience</th>\n",
       "      <th>Salary</th>\n",
       "      <th>Salary_kind</th>\n",
       "      <th>Car</th>\n",
       "      <th>Year</th>\n",
       "      <th>type</th>\n",
       "    </tr>\n",
       "  </thead>\n",
       "  <tbody>\n",
       "    <tr>\n",
       "      <th>0</th>\n",
       "      <td>סטודנט/ית</td>\n",
       "      <td>אוניברסיטה פתוחה</td>\n",
       "      <td>לא הוזן</td>\n",
       "      <td>ניתוח נתונים</td>\n",
       "      <td>לא הוזן</td>\n",
       "      <td>2+</td>\n",
       "      <td>20000.0</td>\n",
       "      <td>גלובלי</td>\n",
       "      <td>לא הוזן</td>\n",
       "      <td>2019</td>\n",
       "      <td>אוניברסיטה</td>\n",
       "    </tr>\n",
       "    <tr>\n",
       "      <th>1</th>\n",
       "      <td>סטודנט/ית</td>\n",
       "      <td>אוניברסיטה פתוחה</td>\n",
       "      <td>הייטק</td>\n",
       "      <td>QA</td>\n",
       "      <td>Oracle</td>\n",
       "      <td>2+</td>\n",
       "      <td>30000.0</td>\n",
       "      <td>גלובלי</td>\n",
       "      <td>לא</td>\n",
       "      <td>2019</td>\n",
       "      <td>אוניברסיטה</td>\n",
       "    </tr>\n",
       "    <tr>\n",
       "      <th>2</th>\n",
       "      <td>סטודנט/ית</td>\n",
       "      <td>אוניברסיטה פתוחה</td>\n",
       "      <td>מוסד ממשלתי</td>\n",
       "      <td>רכז פרוייקטים</td>\n",
       "      <td>לא הוזן</td>\n",
       "      <td>1</td>\n",
       "      <td>3000.0</td>\n",
       "      <td>שעתי</td>\n",
       "      <td>לא</td>\n",
       "      <td>2019</td>\n",
       "      <td>אוניברסיטה</td>\n",
       "    </tr>\n",
       "    <tr>\n",
       "      <th>3</th>\n",
       "      <td>סטודנט/ית</td>\n",
       "      <td>אוניברסיטה פתוחה</td>\n",
       "      <td>מוסד ממשלתי</td>\n",
       "      <td>ניתוח נתונים</td>\n",
       "      <td>ZIM</td>\n",
       "      <td>1</td>\n",
       "      <td>40.0</td>\n",
       "      <td>שעתי</td>\n",
       "      <td>לא</td>\n",
       "      <td>2019</td>\n",
       "      <td>אוניברסיטה</td>\n",
       "    </tr>\n",
       "    <tr>\n",
       "      <th>4</th>\n",
       "      <td>סטודנט/ית</td>\n",
       "      <td>אוניברסיטה פתוחה</td>\n",
       "      <td>הייטק</td>\n",
       "      <td>ניהול פרוייקטים PMO</td>\n",
       "      <td>AtoZ</td>\n",
       "      <td>1</td>\n",
       "      <td>12000.0</td>\n",
       "      <td>גלובלי</td>\n",
       "      <td>לא</td>\n",
       "      <td>2019</td>\n",
       "      <td>אוניברסיטה</td>\n",
       "    </tr>\n",
       "    <tr>\n",
       "      <th>...</th>\n",
       "      <td>...</td>\n",
       "      <td>...</td>\n",
       "      <td>...</td>\n",
       "      <td>...</td>\n",
       "      <td>...</td>\n",
       "      <td>...</td>\n",
       "      <td>...</td>\n",
       "      <td>...</td>\n",
       "      <td>...</td>\n",
       "      <td>...</td>\n",
       "      <td>...</td>\n",
       "    </tr>\n",
       "    <tr>\n",
       "      <th>474</th>\n",
       "      <td>סטודנט/ית</td>\n",
       "      <td>מכללת שנקר</td>\n",
       "      <td>הייטק</td>\n",
       "      <td>ניתוח, עיצוב, איפיון והטמעה של מערכות מידע</td>\n",
       "      <td>FBC</td>\n",
       "      <td>1</td>\n",
       "      <td>5000.0</td>\n",
       "      <td>שעתי</td>\n",
       "      <td>לא</td>\n",
       "      <td>2021</td>\n",
       "      <td>מכללה</td>\n",
       "    </tr>\n",
       "    <tr>\n",
       "      <th>475</th>\n",
       "      <td>סטודנט/ית</td>\n",
       "      <td>מכללת שנקר</td>\n",
       "      <td>הייטק</td>\n",
       "      <td>Noc</td>\n",
       "      <td>Radware</td>\n",
       "      <td>1</td>\n",
       "      <td>70.0</td>\n",
       "      <td>שעתי</td>\n",
       "      <td>לא</td>\n",
       "      <td>2021</td>\n",
       "      <td>מכללה</td>\n",
       "    </tr>\n",
       "    <tr>\n",
       "      <th>476</th>\n",
       "      <td>סטודנט/ית</td>\n",
       "      <td>מכללת שנקר</td>\n",
       "      <td>הייטק</td>\n",
       "      <td>תפעול וייצור</td>\n",
       "      <td>לא הוזן</td>\n",
       "      <td>1</td>\n",
       "      <td>9500.0</td>\n",
       "      <td>גלובלי</td>\n",
       "      <td>לא</td>\n",
       "      <td>2021</td>\n",
       "      <td>מכללה</td>\n",
       "    </tr>\n",
       "    <tr>\n",
       "      <th>477</th>\n",
       "      <td>סטודנט/ית</td>\n",
       "      <td>מכללת שנקר</td>\n",
       "      <td>תעשייה מסורתית</td>\n",
       "      <td>ניתוח נתונים</td>\n",
       "      <td>לא הוזן</td>\n",
       "      <td>1</td>\n",
       "      <td>4000.0</td>\n",
       "      <td>שעתי</td>\n",
       "      <td>לא</td>\n",
       "      <td>2021</td>\n",
       "      <td>מכללה</td>\n",
       "    </tr>\n",
       "    <tr>\n",
       "      <th>478</th>\n",
       "      <td>בוגר/ת</td>\n",
       "      <td>מכללת שנקר</td>\n",
       "      <td>חברת ecommerce</td>\n",
       "      <td>ניהול פרוייקטים,  PMO</td>\n",
       "      <td>פאנקו</td>\n",
       "      <td>1</td>\n",
       "      <td>11000.0</td>\n",
       "      <td>שעתי</td>\n",
       "      <td>לא</td>\n",
       "      <td>2021</td>\n",
       "      <td>מכללה</td>\n",
       "    </tr>\n",
       "  </tbody>\n",
       "</table>\n",
       "<p>477 rows × 11 columns</p>\n",
       "</div>"
      ],
      "text/plain": [
       "        Status          Facility  Classification  \\\n",
       "0    סטודנט/ית  אוניברסיטה פתוחה         לא הוזן   \n",
       "1    סטודנט/ית  אוניברסיטה פתוחה           הייטק   \n",
       "2    סטודנט/ית  אוניברסיטה פתוחה     מוסד ממשלתי   \n",
       "3    סטודנט/ית  אוניברסיטה פתוחה     מוסד ממשלתי   \n",
       "4    סטודנט/ית  אוניברסיטה פתוחה           הייטק   \n",
       "..         ...               ...             ...   \n",
       "474  סטודנט/ית        מכללת שנקר           הייטק   \n",
       "475  סטודנט/ית        מכללת שנקר           הייטק   \n",
       "476  סטודנט/ית        מכללת שנקר           הייטק   \n",
       "477  סטודנט/ית        מכללת שנקר  תעשייה מסורתית   \n",
       "478     בוגר/ת        מכללת שנקר  חברת ecommerce   \n",
       "\n",
       "                                 Specialization  Company Experience   Salary  \\\n",
       "0                                  ניתוח נתונים  לא הוזן         2+  20000.0   \n",
       "1                                            QA   Oracle         2+  30000.0   \n",
       "2                                 רכז פרוייקטים  לא הוזן          1   3000.0   \n",
       "3                                  ניתוח נתונים      ZIM          1     40.0   \n",
       "4                           ניהול פרוייקטים PMO     AtoZ          1  12000.0   \n",
       "..                                          ...      ...        ...      ...   \n",
       "474  ניתוח, עיצוב, איפיון והטמעה של מערכות מידע      FBC          1   5000.0   \n",
       "475                                         Noc  Radware          1     70.0   \n",
       "476                                תפעול וייצור  לא הוזן          1   9500.0   \n",
       "477                                ניתוח נתונים  לא הוזן          1   4000.0   \n",
       "478                       ניהול פרוייקטים,  PMO    פאנקו          1  11000.0   \n",
       "\n",
       "    Salary_kind      Car  Year        type  \n",
       "0        גלובלי  לא הוזן  2019  אוניברסיטה  \n",
       "1        גלובלי       לא  2019  אוניברסיטה  \n",
       "2          שעתי       לא  2019  אוניברסיטה  \n",
       "3          שעתי       לא  2019  אוניברסיטה  \n",
       "4        גלובלי       לא  2019  אוניברסיטה  \n",
       "..          ...      ...   ...         ...  \n",
       "474        שעתי       לא  2021       מכללה  \n",
       "475        שעתי       לא  2021       מכללה  \n",
       "476      גלובלי       לא  2021       מכללה  \n",
       "477        שעתי       לא  2021       מכללה  \n",
       "478        שעתי       לא  2021       מכללה  \n",
       "\n",
       "[477 rows x 11 columns]"
      ]
     },
     "execution_count": 165,
     "metadata": {},
     "output_type": "execute_result"
    }
   ],
   "source": [
    "my_type = []\n",
    "for facility in industriel_data_df.Facility:\n",
    "    if \"אוניברסיטה\" in facility or \"אוניברסיטת\" in facility:\n",
    "        my_type.append(\"אוניברסיטה\")\n",
    "    elif \"טכניון\" in facility:\n",
    "        my_type.append(\"אוניברסיטה\")\n",
    "    else:\n",
    "        my_type.append(\"מכללה\")\n",
    "industriel_data_df['type'] = my_type\n",
    "industriel_data_df"
   ]
  },
  {
   "cell_type": "markdown",
   "metadata": {},
   "source": [
    "### We divided the specialization data to 6 groups that connects to the same spacialization: project management, data analysis, product managment, organization and methods, quality assurance, other..."
   ]
  },
  {
   "cell_type": "code",
   "execution_count": 166,
   "metadata": {
    "jupyter": {
     "source_hidden": true
    }
   },
   "outputs": [
    {
     "data": {
      "text/plain": [
       "array(['ניתוח נתונים', 'QA', 'רכז פרוייקטים', 'ניהול פרוייקטים PMO',\n",
       "       'ניתוח, עיצוב, איפיון והטמעה של מערכות מידע, QA',\n",
       "       'הנדסת ארגון ושיטות', 'ניתוח, עיצוב, איפיון והטמעה של מערכות מידע',\n",
       "       'ניהול פרוייקטים,  PMO, ניתוח, עיצוב, איפיון והטמעה של מערכות מידע',\n",
       "       'מיישם מערכות מידע', 'פלנר', 'אינטגרטור', 'תפעול וייצור',\n",
       "       'תכנון ובקרה', 'רכש', 'ערכית תוכן , רשתות חברתיות',\n",
       "       'ניהול פרוייקטים, PMO', 'ניהול פרוייקטים,  PMO',\n",
       "       'ניתוח נתונים , ניתוח, עיצוב, איפיון והטמעה של מערכות מידע, QA',\n",
       "       'Devops', 'הנדסת ארגון ושיטות, תפעול וייצור, לוגיסטיקה',\n",
       "       'פתיחות תיקים ודוחות תפעוליים',\n",
       "       'ניהול פרוייקטים,  PMO, ניתוח נתונים ',\n",
       "       'פקיד מזונות, פתיחת תיקים ודוחות תפעוליים', 'הנדסת איכות',\n",
       "       'הנדסת ארגון ושיטות, ייעוץ לוגיסטי', 'ניתוח נתונים , כלכלן',\n",
       "       'ניהול מערכות מידע', 'ניתוח נתונים , הנדסת ארגון ושיטות',\n",
       "       'ניתוח נתונים , מדעי נתונים ', 'ניהול פרוייקטים,  PMO, System',\n",
       "       'הנדסת ארגון ושיטות, תפעול וייצור',\n",
       "       'ניהול פרוייקטים,  PMO, ניתוח נתונים , הנדסת ארגון ושיטות, תפעול וייצור, תכנות: Frontend/Backend/Fullstack, ניתוח, עיצוב, איפיון והטמעה של מערכות מידע, QA, QA, Devops',\n",
       "       'מדעי נתונים - Data science',\n",
       "       'ניהול פרוייקטים,  PMO, ניתוח, עיצוב, איפיון והטמעה של מערכות מידע, QA',\n",
       "       'תכנות: Frontend/Backend/Fullstack, ניתוח, עיצוב, איפיון והטמעה של מערכות מידע',\n",
       "       'ניהול פרוייקטים,  PMO, הנדסת ארגון ושיטות', 'רכש ולוגיסטיקה',\n",
       "       'עוזרת מנהל פרוייקט לוגיסטי', 'ניהול',\n",
       "       'ניהול פרוייקטים,  PMO, תפעול וייצור', 'ניהול משרד טכני',\n",
       "       'ניהול פרוייקטים,  PMO, הנדסת ארגון ושיטות, מנהל תהליכים',\n",
       "       'ניהול פרוייקטים,  PMO, ניתוח נתונים , ניתוח, עיצוב, איפיון והטמעה של מערכות מידע',\n",
       "       'Rpa', 'Support',\n",
       "       'ניהול פרוייקטים,  PMO, תפעול וייצור, ניתוח, עיצוב, איפיון והטמעה של מערכות מידע',\n",
       "       'HELP DESK',\n",
       "       'ניתוח, עיצוב, איפיון והטמעה של מערכות מידע, Salesforce',\n",
       "       'הנדסת ארגון ושיטות, ניתוח, עיצוב, איפיון והטמעה של מערכות מידע',\n",
       "       'לוגיסטיקה',\n",
       "       'ניהול פרוייקטים,  PMO, ניתוח נתונים , מדעי נתונים , תפעול וייצור, תכנות: Frontend/Backend/Fullstack, ניתוח, עיצוב, איפיון והטמעה של מערכות מידע',\n",
       "       'אנליסט', 'ניתוח נתונים , תפעול וייצור',\n",
       "       'תכנות: Frontend/Backend/Fullstack',\n",
       "       'ניהול פרוייקטים,  PMO, מדעי נתונים - ניתוח, עיצוב, איפיון והטמעה של מערכות מידע',\n",
       "       'מדעי נתונים - Data science, Data engineering',\n",
       "       'ניהול פרוייקטים,  PMO, ניתוח נתונים , הנדסת ארגון ושיטות, ניתוח, עיצוב, איפיון והטמעה של מערכות מידע',\n",
       "       'חברת ייעוץ', 'תרגום', 'Product analyst', 'מנהל קמפיינים',\n",
       "       'מיישם SFMC', 'מכירות ??',\n",
       "       'תכנות: Frontend/Backend/Fullstack, Devops',\n",
       "       'ייעוץ מערכות טכנולוגיות, ניהול פרויקטים', 'Analyst soc tier 2',\n",
       "       'Cyber security analyst',\n",
       "       'ניהול פרוייקטים,  PMO, ניתוח נתונים , הנדסת ארגון ושיטות',\n",
       "       'Data engineer', 'CI', 'ניתוח נתונים , מדעי נתונים , Devops',\n",
       "       'בקרה תקציבית', 'עוזרת במטלות השוטפות', 'תו\"ב',\n",
       "       'משרת סטודנט בקרת פרויקטים', 'CRM Manager', 'מנהל רכש וקניינות',\n",
       "       'Business Analyst',\n",
       "       'ניהול פרוייקטים,  PMO, הנדסת ארגון ושיטות, תפעול וייצור, ניתוח, עיצוב, איפיון והטמעה של מערכות מידע',\n",
       "       'מפתח RPA', 'מנהלת תפעול ובקרה', 'ניתוח נתונים , Devops',\n",
       "       'System support',\n",
       "       'ניתוח נתונים , ניתוח, עיצוב, איפיון והטמעה של מערכות מידע',\n",
       "       'Operation', 'DevOps &apm engineer',\n",
       "       'ניהול פרוייקטים במערכות מידע',\n",
       "       'ניהול פרוייקטים,  PMO, ניתוח נתונים , הנדסת ארגון ושיטות, תפעול וייצור, ניתוח, עיצוב, איפיון והטמעה של מערכות מידע',\n",
       "       'ניהול פרוייקטים,  PMO, ניתוח נתונים , תכנות: Frontend/Backend/Fullstack',\n",
       "       'ניתוח נתונים , תפעול וייצור, ניתוח, עיצוב, איפיון והטמעה של מערכות מידע',\n",
       "       'יישום מערכות מידע', 'מנהל פרויקטים ומנתח מערכות',\n",
       "       'ניהול קמפיינים דיגיטליים', 'Product manager',\n",
       "       'ניהול פרויקטים מערכות מידע', 'תפעול וייצור, פלנר',\n",
       "       'sales force - support and solutions', 'ייבוא ייצוא',\n",
       "       'יועץ מערכות מידע', 'ביקורת פנימית מבקר ויועץ מערכות מידע',\n",
       "       'יבוא ויצוא', 'IT', 'רכש כ\"א',\n",
       "       'ניהול פרוייקטים,  PMO, אנאליסט מחקר', 'קניינית רכש ומנהלת ספקים',\n",
       "       'הבטחת איכות - הכשרה ותיקוף מערכות ותהליכים',\n",
       "       'ניתוח, עיצוב, איפיון והטמעה של מערכות מידע, יישום מערכת אוטומציה',\n",
       "       'שליחויות', 'ניהול פרוייקטים,  PMO, ייעוץ ניהולי ועסקי',\n",
       "       'הנדסת ארגון ושיטות, Devops, Operations/NOC', 'NOC', 'Noc'],\n",
       "      dtype=object)"
      ]
     },
     "execution_count": 166,
     "metadata": {},
     "output_type": "execute_result"
    }
   ],
   "source": [
    "pd.unique(industriel_data_df.Specialization)"
   ]
  },
  {
   "cell_type": "code",
   "execution_count": 167,
   "metadata": {
    "jupyter": {
     "source_hidden": true
    }
   },
   "outputs": [
    {
     "data": {
      "text/html": [
       "<div>\n",
       "<style scoped>\n",
       "    .dataframe tbody tr th:only-of-type {\n",
       "        vertical-align: middle;\n",
       "    }\n",
       "\n",
       "    .dataframe tbody tr th {\n",
       "        vertical-align: top;\n",
       "    }\n",
       "\n",
       "    .dataframe thead th {\n",
       "        text-align: right;\n",
       "    }\n",
       "</style>\n",
       "<table border=\"1\" class=\"dataframe\">\n",
       "  <thead>\n",
       "    <tr style=\"text-align: right;\">\n",
       "      <th></th>\n",
       "      <th>Status</th>\n",
       "      <th>Facility</th>\n",
       "      <th>Classification</th>\n",
       "      <th>Specialization</th>\n",
       "      <th>Company</th>\n",
       "      <th>Experience</th>\n",
       "      <th>Salary</th>\n",
       "      <th>Salary_kind</th>\n",
       "      <th>Car</th>\n",
       "      <th>Year</th>\n",
       "      <th>type</th>\n",
       "      <th>speciality</th>\n",
       "    </tr>\n",
       "  </thead>\n",
       "  <tbody>\n",
       "    <tr>\n",
       "      <th>0</th>\n",
       "      <td>סטודנט/ית</td>\n",
       "      <td>אוניברסיטה פתוחה</td>\n",
       "      <td>לא הוזן</td>\n",
       "      <td>ניתוח נתונים</td>\n",
       "      <td>לא הוזן</td>\n",
       "      <td>2+</td>\n",
       "      <td>20000.0</td>\n",
       "      <td>גלובלי</td>\n",
       "      <td>לא הוזן</td>\n",
       "      <td>2019</td>\n",
       "      <td>אוניברסיטה</td>\n",
       "      <td>ניתוח נתונים</td>\n",
       "    </tr>\n",
       "    <tr>\n",
       "      <th>1</th>\n",
       "      <td>סטודנט/ית</td>\n",
       "      <td>אוניברסיטה פתוחה</td>\n",
       "      <td>הייטק</td>\n",
       "      <td>QA</td>\n",
       "      <td>Oracle</td>\n",
       "      <td>2+</td>\n",
       "      <td>30000.0</td>\n",
       "      <td>גלובלי</td>\n",
       "      <td>לא</td>\n",
       "      <td>2019</td>\n",
       "      <td>אוניברסיטה</td>\n",
       "      <td>אבטחת איכות</td>\n",
       "    </tr>\n",
       "    <tr>\n",
       "      <th>2</th>\n",
       "      <td>סטודנט/ית</td>\n",
       "      <td>אוניברסיטה פתוחה</td>\n",
       "      <td>מוסד ממשלתי</td>\n",
       "      <td>רכז פרוייקטים</td>\n",
       "      <td>לא הוזן</td>\n",
       "      <td>1</td>\n",
       "      <td>3000.0</td>\n",
       "      <td>שעתי</td>\n",
       "      <td>לא</td>\n",
       "      <td>2019</td>\n",
       "      <td>אוניברסיטה</td>\n",
       "      <td>ניהול פרוייקטים</td>\n",
       "    </tr>\n",
       "    <tr>\n",
       "      <th>3</th>\n",
       "      <td>סטודנט/ית</td>\n",
       "      <td>אוניברסיטה פתוחה</td>\n",
       "      <td>מוסד ממשלתי</td>\n",
       "      <td>ניתוח נתונים</td>\n",
       "      <td>ZIM</td>\n",
       "      <td>1</td>\n",
       "      <td>40.0</td>\n",
       "      <td>שעתי</td>\n",
       "      <td>לא</td>\n",
       "      <td>2019</td>\n",
       "      <td>אוניברסיטה</td>\n",
       "      <td>ניתוח נתונים</td>\n",
       "    </tr>\n",
       "    <tr>\n",
       "      <th>4</th>\n",
       "      <td>סטודנט/ית</td>\n",
       "      <td>אוניברסיטה פתוחה</td>\n",
       "      <td>הייטק</td>\n",
       "      <td>ניהול פרוייקטים PMO</td>\n",
       "      <td>AtoZ</td>\n",
       "      <td>1</td>\n",
       "      <td>12000.0</td>\n",
       "      <td>גלובלי</td>\n",
       "      <td>לא</td>\n",
       "      <td>2019</td>\n",
       "      <td>אוניברסיטה</td>\n",
       "      <td>ניהול פרוייקטים</td>\n",
       "    </tr>\n",
       "    <tr>\n",
       "      <th>...</th>\n",
       "      <td>...</td>\n",
       "      <td>...</td>\n",
       "      <td>...</td>\n",
       "      <td>...</td>\n",
       "      <td>...</td>\n",
       "      <td>...</td>\n",
       "      <td>...</td>\n",
       "      <td>...</td>\n",
       "      <td>...</td>\n",
       "      <td>...</td>\n",
       "      <td>...</td>\n",
       "      <td>...</td>\n",
       "    </tr>\n",
       "    <tr>\n",
       "      <th>474</th>\n",
       "      <td>סטודנט/ית</td>\n",
       "      <td>מכללת שנקר</td>\n",
       "      <td>הייטק</td>\n",
       "      <td>ניתוח, עיצוב, איפיון והטמעה של מערכות מידע</td>\n",
       "      <td>FBC</td>\n",
       "      <td>1</td>\n",
       "      <td>5000.0</td>\n",
       "      <td>שעתי</td>\n",
       "      <td>לא</td>\n",
       "      <td>2021</td>\n",
       "      <td>מכללה</td>\n",
       "      <td>ניתוח נתונים</td>\n",
       "    </tr>\n",
       "    <tr>\n",
       "      <th>475</th>\n",
       "      <td>סטודנט/ית</td>\n",
       "      <td>מכללת שנקר</td>\n",
       "      <td>הייטק</td>\n",
       "      <td>Noc</td>\n",
       "      <td>Radware</td>\n",
       "      <td>1</td>\n",
       "      <td>70.0</td>\n",
       "      <td>שעתי</td>\n",
       "      <td>לא</td>\n",
       "      <td>2021</td>\n",
       "      <td>מכללה</td>\n",
       "      <td>אחר</td>\n",
       "    </tr>\n",
       "    <tr>\n",
       "      <th>476</th>\n",
       "      <td>סטודנט/ית</td>\n",
       "      <td>מכללת שנקר</td>\n",
       "      <td>הייטק</td>\n",
       "      <td>תפעול וייצור</td>\n",
       "      <td>לא הוזן</td>\n",
       "      <td>1</td>\n",
       "      <td>9500.0</td>\n",
       "      <td>גלובלי</td>\n",
       "      <td>לא</td>\n",
       "      <td>2021</td>\n",
       "      <td>מכללה</td>\n",
       "      <td>ניהול היצור</td>\n",
       "    </tr>\n",
       "    <tr>\n",
       "      <th>477</th>\n",
       "      <td>סטודנט/ית</td>\n",
       "      <td>מכללת שנקר</td>\n",
       "      <td>תעשייה מסורתית</td>\n",
       "      <td>ניתוח נתונים</td>\n",
       "      <td>לא הוזן</td>\n",
       "      <td>1</td>\n",
       "      <td>4000.0</td>\n",
       "      <td>שעתי</td>\n",
       "      <td>לא</td>\n",
       "      <td>2021</td>\n",
       "      <td>מכללה</td>\n",
       "      <td>ניתוח נתונים</td>\n",
       "    </tr>\n",
       "    <tr>\n",
       "      <th>478</th>\n",
       "      <td>בוגר/ת</td>\n",
       "      <td>מכללת שנקר</td>\n",
       "      <td>חברת ecommerce</td>\n",
       "      <td>ניהול פרוייקטים,  PMO</td>\n",
       "      <td>פאנקו</td>\n",
       "      <td>1</td>\n",
       "      <td>11000.0</td>\n",
       "      <td>שעתי</td>\n",
       "      <td>לא</td>\n",
       "      <td>2021</td>\n",
       "      <td>מכללה</td>\n",
       "      <td>ניהול פרוייקטים</td>\n",
       "    </tr>\n",
       "  </tbody>\n",
       "</table>\n",
       "<p>477 rows × 12 columns</p>\n",
       "</div>"
      ],
      "text/plain": [
       "        Status          Facility  Classification  \\\n",
       "0    סטודנט/ית  אוניברסיטה פתוחה         לא הוזן   \n",
       "1    סטודנט/ית  אוניברסיטה פתוחה           הייטק   \n",
       "2    סטודנט/ית  אוניברסיטה פתוחה     מוסד ממשלתי   \n",
       "3    סטודנט/ית  אוניברסיטה פתוחה     מוסד ממשלתי   \n",
       "4    סטודנט/ית  אוניברסיטה פתוחה           הייטק   \n",
       "..         ...               ...             ...   \n",
       "474  סטודנט/ית        מכללת שנקר           הייטק   \n",
       "475  סטודנט/ית        מכללת שנקר           הייטק   \n",
       "476  סטודנט/ית        מכללת שנקר           הייטק   \n",
       "477  סטודנט/ית        מכללת שנקר  תעשייה מסורתית   \n",
       "478     בוגר/ת        מכללת שנקר  חברת ecommerce   \n",
       "\n",
       "                                 Specialization  Company Experience   Salary  \\\n",
       "0                                  ניתוח נתונים  לא הוזן         2+  20000.0   \n",
       "1                                            QA   Oracle         2+  30000.0   \n",
       "2                                 רכז פרוייקטים  לא הוזן          1   3000.0   \n",
       "3                                  ניתוח נתונים      ZIM          1     40.0   \n",
       "4                           ניהול פרוייקטים PMO     AtoZ          1  12000.0   \n",
       "..                                          ...      ...        ...      ...   \n",
       "474  ניתוח, עיצוב, איפיון והטמעה של מערכות מידע      FBC          1   5000.0   \n",
       "475                                         Noc  Radware          1     70.0   \n",
       "476                                תפעול וייצור  לא הוזן          1   9500.0   \n",
       "477                                ניתוח נתונים  לא הוזן          1   4000.0   \n",
       "478                       ניהול פרוייקטים,  PMO    פאנקו          1  11000.0   \n",
       "\n",
       "    Salary_kind      Car  Year        type       speciality  \n",
       "0        גלובלי  לא הוזן  2019  אוניברסיטה     ניתוח נתונים  \n",
       "1        גלובלי       לא  2019  אוניברסיטה      אבטחת איכות  \n",
       "2          שעתי       לא  2019  אוניברסיטה  ניהול פרוייקטים  \n",
       "3          שעתי       לא  2019  אוניברסיטה     ניתוח נתונים  \n",
       "4        גלובלי       לא  2019  אוניברסיטה  ניהול פרוייקטים  \n",
       "..          ...      ...   ...         ...              ...  \n",
       "474        שעתי       לא  2021       מכללה     ניתוח נתונים  \n",
       "475        שעתי       לא  2021       מכללה              אחר  \n",
       "476      גלובלי       לא  2021       מכללה      ניהול היצור  \n",
       "477        שעתי       לא  2021       מכללה     ניתוח נתונים  \n",
       "478        שעתי       לא  2021       מכללה  ניהול פרוייקטים  \n",
       "\n",
       "[477 rows x 12 columns]"
      ]
     },
     "execution_count": 167,
     "metadata": {},
     "output_type": "execute_result"
    }
   ],
   "source": [
    "my_speciality = []\n",
    "for speciality in industriel_data_df.Specialization:\n",
    "    if \"פרוייקטים\" in speciality or \"PMO\" in speciality or \"Product\" in speciality:\n",
    "        my_speciality.append(\"ניהול פרוייקטים\")\n",
    "\n",
    "    elif \"ניתוח\" in speciality or \"אנאליסט\" in speciality or \"נתונים\" in speciality:\n",
    "        my_speciality.append(\"ניתוח נתונים\")\n",
    "        \n",
    "    elif \"רכש\" in speciality or \"ייצור\" in speciality or \"הטמעה\" in speciality:\n",
    "        my_speciality.append(\"ניהול היצור\")\n",
    "        \n",
    "    elif \"QA\" in speciality:\n",
    "        my_speciality.append(\"אבטחת איכות\") \n",
    "\n",
    "    elif \"ארגון ושיטות\" in speciality:\n",
    "        my_speciality.append(\"ארגון ושיטות\")\n",
    "        \n",
    "    else:\n",
    "        my_speciality.append(\"אחר\")\n",
    "industriel_data_df['speciality'] = my_speciality\n",
    "industriel_data_df"
   ]
  },
  {
   "cell_type": "markdown",
   "metadata": {},
   "source": [
    "## Getting to know the basic information about those who answered the survey:"
   ]
  },
  {
   "cell_type": "code",
   "execution_count": 168,
   "metadata": {
    "jupyter": {
     "source_hidden": true
    }
   },
   "outputs": [
    {
     "data": {
      "image/png": "[encoded data removed]",
      "text/plain": [
       "<Figure size 936x936 with 2 Axes>"
      ]
     },
     "metadata": {},
     "output_type": "display_data"
    }
   ],
   "source": [
    "plt.figure(figsize=(10, 5))\n",
    "plt.subplot(1,2,1)\n",
    "plt.title(\"Students vs. Graduates\",fontdict = font1,size=(20))\n",
    "industriel_data_df['Status'].value_counts().rename(index={'בוגר/ת':'Graduates','סטודנט/ית':'Students'}).plot.pie(figsize=(13,13),autopct='%1.1f%%',colors = ['cornflowerblue','lightblue'])\n",
    "plt.subplot(1,2,2)\n",
    "plt.title(\"Universities vs. Colleges\",fontdict = font1,size=(20))\n",
    "industriel_data_df['type'].value_counts().rename(index={'אוניברסיטה':'University','מכללה':'College'}).plot.pie(figsize=(13,13),autopct='%1.1f%%',colors = ['cornflowerblue','lightblue'])\n",
    "\n",
    "plt.show()"
   ]
  },
  {
   "cell_type": "code",
   "execution_count": 169,
   "metadata": {},
   "outputs": [
    {
     "data": {
      "text/plain": [
       "<matplotlib.axes._subplots.AxesSubplot at 0x19db2821d90>"
      ]
     },
     "execution_count": 169,
     "metadata": {},
     "output_type": "execute_result"
    },
    {
     "data": {
      "image/png": "[encoded data removed]",
      "text/plain": [
       "<Figure size 792x432 with 1 Axes>"
      ]
     },
     "metadata": {
      "needs_background": "light"
     },
     "output_type": "display_data"
    }
   ],
   "source": [
    "plt.title(\"Facilities count\") \n",
    "industriel_data_df[\"Facility\"].value_counts(ascending=True).rename(index={'אוניברסיטה פתוחה':'Open University','אוניברסיטת אריאל':'Ariel Unuversity','אוניברסיטת בן גוריון':'Ben-Gurion University','אוניברסיטת בר אילן':'Bar-Ilan University','אוניברסיטת חיפה':'University of Haifa','אוניברסיטת תל אביב':'Tel Aviv University','האקדמית עמק יזרעאל':'Yezreel Valley College','מכללת שנקר':'Shenkar College','טכניון':'Technion','מכללת ספיר':'Sapir Academic College','מכללת אורט בראודה':'ORT Braude College','מכללת סמי שמעון':'Sami Shamoon College','מכללת רופין':'Ruppin Academic Center','האקדמית עמק יזרעאל':'Yezreel Valley College','האקדמית תל אביב יפו':'Tel Aviv-Yafo Academic College','המכללה להנדסה ירושלים':'College of Engineering Jerusalem','מכללת אפקה':'Afeka College','האקדמית תל אביב יפו':'Tel Aviv-Yafo Academic College','המרכז האקדמי לב':'Lev Academic Center','המכללה למינהל':'College of Management'}).plot.barh(figsize=(11,6),color=['plum','mediumpurple','indigo','purple','hotpink','palevioletred','deeppink','red','firebrick','darkorange','orange','yellow','yellowgreen','green','darkblue','blue','cornflowerblue','lightblue'])"
   ]
  },
  {
   "cell_type": "markdown",
   "metadata": {},
   "source": [
    "# Digging in the data in order to find correlations:"
   ]
  },
  {
   "cell_type": "markdown",
   "metadata": {},
   "source": [
    "## Specializations Observations:\n",
    "#### - Specialization preference\n",
    "#### - Mean Salary For Students Per Speciality"
   ]
  },
  {
   "cell_type": "code",
   "execution_count": 170,
   "metadata": {},
   "outputs": [],
   "source": [
    "#תמונה"
   ]
  },
  {
   "cell_type": "code",
   "execution_count": 171,
   "metadata": {
    "jupyter": {
     "source_hidden": true
    },
    "tags": []
   },
   "outputs": [
    {
     "data": {
      "text/plain": [
       "Text(0, 0.5, 'Amount')"
      ]
     },
     "execution_count": 171,
     "metadata": {},
     "output_type": "execute_result"
    },
    {
     "data": {
      "image/png": "[encoded data removed]",
      "text/plain": [
       "<Figure size 720x432 with 1 Axes>"
      ]
     },
     "metadata": {
      "needs_background": "light"
     },
     "output_type": "display_data"
    }
   ],
   "source": [
    "g10=industriel_data_df.groupby(\"speciality\")[['speciality']].count().rename(index={'אבטחת איכות':'Quality assurance','אחר':'other','ארגון ושיטות':'Organization and Methods','ניהול היצור':'Production Management','ניהול פרוייקטים':'Project management','ניתוח נתונים':'Data Analysis'}).plot.bar(figsize=(10,6),color=['cornflowerblue'])\n",
    "plt.legend()\n",
    "plt.xticks(rotation=60, horizontalalignment=\"right\",fontsize=14)\n",
    "plt.title(\"specialization preference\",fontdict = font1)\n",
    "g10.set_xlabel(\"Speciality\",fontdict = font2,fontsize=20)\n",
    "g10.set_ylabel(\"Amount\",fontdict = font2,fontsize=20)"
   ]
  },
  {
   "cell_type": "code",
   "execution_count": 172,
   "metadata": {
    "jupyter": {
     "source_hidden": true
    },
    "tags": []
   },
   "outputs": [
    {
     "data": {
      "text/plain": [
       "Text(0, 0.5, 'Salary')"
      ]
     },
     "execution_count": 172,
     "metadata": {},
     "output_type": "execute_result"
    },
    {
     "data": {
      "image/png": "[encoded data removed]",
      "text/plain": [
       "<Figure size 792x360 with 1 Axes>"
      ]
     },
     "metadata": {
      "needs_background": "light"
     },
     "output_type": "display_data"
    }
   ],
   "source": [
    "counts = pd.value_counts(industriel_data_df.Facility)\n",
    "industriel_data_df_filter = industriel_data_df.loc[industriel_data_df.Facility.isin(counts[counts > 10].index), :]\n",
    "industriel_data_df_filter = industriel_data_df_filter[industriel_data_df_filter.Status == \"בוגר/ת\"]\n",
    "\n",
    "g11=industriel_data_df_filter.groupby(\"speciality\").Salary.mean().rename(index={'אבטחת איכות':'Quality assurance','אחר':'other','ארגון ושיטות':'Organization and Methods','ניהול היצור':'Production Management','ניהול פרוייקטים':'Project management','ניתוח נתונים':'Data Analysis'}).sort_values(ascending=False).plot(figsize=(11,5),kind=\"bar\",color='cornflowerblue')\n",
    "\n",
    "plt.xticks(rotation=60, horizontalalignment=\"right\",fontsize=14)\n",
    "plt.title(\"Mean Salary Per Speciality\",fontdict = font1)\n",
    "g11.set_xlabel(\"Speciality\",fontdict = font2,fontsize=20)\n",
    "g11.set_ylabel(\"Salary\",fontdict = font2,fontsize=20)"
   ]
  },
  {
   "cell_type": "markdown",
   "metadata": {},
   "source": [
    "### Observation 1:\n",
    "### -The specialty that most people choose is Data Analysis, which is also the most rewarding in terms of salary."
   ]
  },
  {
   "cell_type": "markdown",
   "metadata": {},
   "source": [
    "# Salary Observations:\n",
    "#### 1) Students salary based on the facility\n",
    "#### 2) Graduets salary based on the facility\n",
    "#### 3) The connection between facility-salary and experience-salary\n"
   ]
  },
  {
   "cell_type": "code",
   "execution_count": 173,
   "metadata": {},
   "outputs": [],
   "source": [
    "#תמונה"
   ]
  },
  {
   "cell_type": "markdown",
   "metadata": {},
   "source": [
    "### In our salary observations we chose to look at the data filled by 10+ people and we divided the observations between the ones that reflects the students and the ones that reflects the graduates"
   ]
  },
  {
   "cell_type": "code",
   "execution_count": 174,
   "metadata": {
    "jupyter": {
     "source_hidden": true
    }
   },
   "outputs": [],
   "source": [
    "counts = pd.value_counts(industriel_data_df.Facility)\n",
    "industriel_data_df_filter = industriel_data_df.loc[industriel_data_df.Facility.isin(counts[counts > 10].index), :]\n",
    "industriel_data_df_filter_graduets = industriel_data_df_filter[industriel_data_df_filter.Status == \"בוגר/ת\"]\n",
    "industriel_data_df_filter_students = industriel_data_df_filter[industriel_data_df_filter.Status == \"סטודנט/ית\"]"
   ]
  },
  {
   "cell_type": "code",
   "execution_count": 175,
   "metadata": {
    "jupyter": {
     "source_hidden": true
    },
    "tags": []
   },
   "outputs": [],
   "source": [
    "#industriel_data_df_filter_students= industriel_data_df_filter_students[industriel_data_df_filter_students.type == \"מכללה\"]\n",
    "#g11=industriel_data_df_filter_students.groupby(\"Facility\").Salary.mean().rename(index={'אוניברסיטה פתוחה':'Open University','אוניברסיטת אריאל':'Ariel Unuversity','אוניברסיטת בן גוריון':'Ben-Gurion University','אוניברסיטת בר אילן':'Bar-Ilan University','אוניברסיטת חיפה':'University of Haifa','אוניברסיטת תל אביב':'Tel Aviv University','האקדמית עמק יזרעאל':'Yezreel Valley College','מכללת שנקר':'Shenkar College','טכניון':'Technion','מכללת ספיר':'Sapir Academic College','מכללת אורט בראודה':'ORT Braude College','מכללת סמי שמעון':'Sami Shamoon College','מכללת רופין':'Ruppin Academic Center','האקדמית עמק יזרעאל':'Yezreel Valley College','האקדמית תל אביב יפו':'Tel Aviv-Yafo Academic College','המכללה להנדסה ירושלים':'College of Engineering Jerusalem','מכללת אפקה':'Afeka College','האקדמית תל אביב יפו':'Tel Aviv-Yafo Academic College'}).sort_values(ascending=False).plot(figsize=(11,5),kind=\"bar\",color=\"darkorange\")\n",
    "#plt.legend()\n",
    "#plt.xticks(rotation=60, horizontalalignment=\"right\",fontsize=14)\n",
    "#plt.title(\"Mean Salary For Students Per College\",fontdict = font1)\n",
    "#g11.set_xlabel(\"Facility\",fontdict = font2,fontsize=20)\n",
    "#g11.set_ylabel(\"Salary\",fontdict = font2,fontsize=20)"
   ]
  },
  {
   "cell_type": "code",
   "execution_count": 176,
   "metadata": {
    "jupyter": {
     "source_hidden": true
    },
    "tags": []
   },
   "outputs": [],
   "source": [
    "#counts = pd.value_counts(industriel_data_df.Facility)\n",
    "#industriel_data_df_filter = industriel_data_df.loc[industriel_data_df.Facility.isin(counts[counts > 10].index), :]\n",
    "#industriel_data_df_filter = industriel_data_df_filter[industriel_data_df_filter.Status == \"סטודנט/ית\"]\n",
    "#industriel_data_df_filter = industriel_data_df_filter[industriel_data_df_filter.type == \"אוניברסיטה\"]\n",
    "\n",
    "#g11=industriel_data_df_filter.groupby(\"Facility\").Salary.mean().rename(index={'אוניברסיטה פתוחה':'Open University','אוניברסיטת אריאל':'Ariel Unuversity','אוניברסיטת בן גוריון':'Ben-Gurion University','אוניברסיטת בר אילן':'Bar-Ilan University','אוניברסיטת חיפה':'University of Haifa','אוניברסיטת תל אביב':'Tel Aviv University','האקדמית עמק יזרעאל':'Yezreel Valley College','מכללת שנקר':'Shenkar College','טכניון':'Technion','מכללת ספיר':'Sapir Academic College','מכללת אורט בראודה':'ORT Braude College','מכללת סמי שמעון':'Sami Shamoon College','מכללת רופין':'Ruppin Academic Center','האקדמית עמק יזרעאל':'Yezreel Valley College','האקדמית תל אביב יפו':'Tel Aviv-Yafo Academic College','המכללה להנדסה ירושלים':'College of Engineering Jerusalem','מכללת אפקה':'Afeka College','האקדמית תל אביב יפו':'Tel Aviv-Yafo Academic College'}).sort_values(ascending=False).plot(figsize=(11,5),kind=\"bar\",color=\"darkorange\")\n",
    "#plt.legend()\n",
    "#plt.xticks(rotation=60, horizontalalignment=\"right\",fontsize=14)\n",
    "#plt.title(\"Mean Salary For Students Per University\",fontdict = font1)\n",
    "#g11.set_xlabel(\"Facility\",fontdict = font2,fontsize=20)\n",
    "#g11.set_ylabel(\"Salary\",fontdict = font2,fontsize=20)"
   ]
  },
  {
   "cell_type": "markdown",
   "metadata": {},
   "source": [
    "### 1) Correlations between students-salary based on the facility: "
   ]
  },
  {
   "cell_type": "code",
   "execution_count": 177,
   "metadata": {
    "jupyter": {
     "source_hidden": true
    }
   },
   "outputs": [
    {
     "data": {
      "text/plain": [
       "Text(0, 0.5, 'Salary')"
      ]
     },
     "execution_count": 177,
     "metadata": {},
     "output_type": "execute_result"
    },
    {
     "data": {
      "image/png": "[encoded data removed]",
      "text/plain": [
       "<Figure size 792x360 with 2 Axes>"
      ]
     },
     "metadata": {
      "needs_background": "light"
     },
     "output_type": "display_data"
    }
   ],
   "source": [
    "plt.figure(figsize=(20, 10))\n",
    "plt.subplots_adjust(wspace=0.9)\n",
    "\n",
    "plt.subplot(1,2,1)\n",
    "g11=industriel_data_df_filter_students.groupby(\"Facility\").Salary.mean().rename(index={'אוניברסיטה פתוחה':'Open University','אוניברסיטת אריאל':'Ariel Unuversity','אוניברסיטת בן גוריון':'Ben-Gurion University','אוניברסיטת בר אילן':'Bar-Ilan University','אוניברסיטת חיפה':'University of Haifa','אוניברסיטת תל אביב':'Tel Aviv University','האקדמית עמק יזרעאל':'Yezreel Valley College','מכללת שנקר':'Shenkar College','טכניון':'Technion','מכללת ספיר':'Sapir Academic College','מכללת אורט בראודה':'ORT Braude College','מכללת סמי שמעון':'Sami Shamoon College','מכללת רופין':'Ruppin Academic Center','האקדמית עמק יזרעאל':'Yezreel Valley College','האקדמית תל אביב יפו':'Tel Aviv-Yafo Academic College','המכללה להנדסה ירושלים':'College of Engineering Jerusalem','מכללת אפקה':'Afeka College','האקדמית תל אביב יפו':'Tel Aviv-Yafo Academic College'}).sort_values(ascending=False).plot(figsize=(11,5),kind=\"bar\",color=\"lightblue\")\n",
    "plt.legend()\n",
    "plt.xticks(rotation=60, horizontalalignment=\"right\",fontsize=14)\n",
    "plt.title(\"Mean Salary For Students Per College\",fontdict = font2)\n",
    "g11.set_xlabel(\"Facility\",fontdict = font2,fontsize=20)\n",
    "g11.set_ylabel(\"Salary\",fontdict = font2,fontsize=20)\n",
    "\n",
    "counts = pd.value_counts(industriel_data_df.Facility)\n",
    "industriel_data_df_filter = industriel_data_df.loc[industriel_data_df.Facility.isin(counts[counts > 10].index), :]\n",
    "industriel_data_df_filter = industriel_data_df_filter[industriel_data_df_filter.Status == \"סטודנט/ית\"]\n",
    "industriel_data_df_filter = industriel_data_df_filter[industriel_data_df_filter.type == \"אוניברסיטה\"]\n",
    "\n",
    "plt.subplot(1,2,2)\n",
    "g11=industriel_data_df_filter.groupby(\"Facility\").Salary.mean().rename(index={'אוניברסיטה פתוחה':'Open University','אוניברסיטת אריאל':'Ariel Unuversity','אוניברסיטת בן גוריון':'Ben-Gurion University','אוניברסיטת בר אילן':'Bar-Ilan University','אוניברסיטת חיפה':'University of Haifa','אוניברסיטת תל אביב':'Tel Aviv University','האקדמית עמק יזרעאל':'Yezreel Valley College','מכללת שנקר':'Shenkar College','טכניון':'Technion','מכללת ספיר':'Sapir Academic College','מכללת אורט בראודה':'ORT Braude College','מכללת סמי שמעון':'Sami Shamoon College','מכללת רופין':'Ruppin Academic Center','האקדמית עמק יזרעאל':'Yezreel Valley College','האקדמית תל אביב יפו':'Tel Aviv-Yafo Academic College','המכללה להנדסה ירושלים':'College of Engineering Jerusalem','מכללת אפקה':'Afeka College','האקדמית תל אביב יפו':'Tel Aviv-Yafo Academic College'}).sort_values(ascending=False).plot(figsize=(11,5),kind=\"bar\",color=\"lightblue\")\n",
    "plt.legend()\n",
    "plt.xticks(rotation=60, horizontalalignment=\"right\",fontsize=14)\n",
    "plt.title(\"Mean Salary For Students Per University\",fontdict = font2)\n",
    "g11.set_xlabel(\"Facility\",fontdict = font2,fontsize=20)\n",
    "g11.set_ylabel(\"Salary\",fontdict = font2,fontsize=20)"
   ]
  },
  {
   "cell_type": "markdown",
   "metadata": {},
   "source": [
    "### The salary based on our data for college students is 3,000-5,000 NIS and for university students it stands on 1,000-5,000 NIS (while ignoring the Open-University that doesn't reflect the salary that most students receive)."
   ]
  },
  {
   "cell_type": "code",
   "execution_count": 178,
   "metadata": {
    "jupyter": {
     "source_hidden": true
    },
    "tags": []
   },
   "outputs": [],
   "source": [
    "#counts = pd.value_counts(industriel_data_df.Facility)\n",
    "#industriel_data_df_filter = industriel_data_df.loc[industriel_data_df.Facility.isin(counts[counts > 10].index), :]\n",
    "#industriel_data_df_filter = industriel_data_df_filter[industriel_data_df_filter.Status == \"בוגר/ת\"]\n",
    "#industriel_data_df_filter = industriel_data_df_filter[industriel_data_df_filter.type == \"מכללה\"]\n",
    "\n",
    "#g11=industriel_data_df_filter.groupby(\"Facility\").Salary.mean().rename(index={'אוניברסיטה פתוחה':'Open University','אוניברסיטת אריאל':'Ariel Unuversity','אוניברסיטת בן גוריון':'Ben-Gurion University','אוניברסיטת בר אילן':'Bar-Ilan University','אוניברסיטת חיפה':'University of Haifa','אוניברסיטת תל אביב':'Tel Aviv University','האקדמית עמק יזרעאל':'Yezreel Valley College','מכללת שנקר':'Shenkar College','טכניון':'Technion','מכללת ספיר':'Sapir Academic College','מכללת אורט בראודה':'ORT Braude College','מכללת סמי שמעון':'Sami Shamoon College','מכללת רופין':'Ruppin Academic Center','האקדמית עמק יזרעאל':'Yezreel Valley College','האקדמית תל אביב יפו':'Tel Aviv-Yafo Academic College','המכללה להנדסה ירושלים':'College of Engineering Jerusalem','מכללת אפקה':'Afeka College','האקדמית תל אביב יפו':'Tel Aviv-Yafo Academic College'}).sort_values(ascending=False).plot(figsize=(11,5),kind=\"bar\",color=\"plum\")\n",
    "#plt.legend()\n",
    "#plt.xticks(rotation=60, horizontalalignment=\"right\",fontsize=14)\n",
    "#plt.title(\"Mean Salary For Graduets Per College\",fontdict = font1)\n",
    "#g11.set_xlabel(\"Facility\",fontdict = font2,fontsize=20)\n",
    "#g11.set_ylabel(\"Salary\",fontdict = font2,fontsize=20)"
   ]
  },
  {
   "cell_type": "code",
   "execution_count": 179,
   "metadata": {
    "jupyter": {
     "source_hidden": true
    },
    "tags": []
   },
   "outputs": [],
   "source": [
    "#counts = pd.value_counts(industriel_data_df.Facility)\n",
    "#industriel_data_df_filter = industriel_data_df.loc[industriel_data_df.Facility.isin(counts[counts > 10].index), :]\n",
    "#industriel_data_df_filter = industriel_data_df_filter[industriel_data_df_filter.Status == \"בוגר/ת\"]\n",
    "#industriel_data_df_filter = industriel_data_df_filter[industriel_data_df_filter.type == \"אוניברסיטה\"]\n",
    "\n",
    "#g11=industriel_data_df_filter.groupby(\"Facility\").Salary.mean().rename(index={'אוניברסיטה פתוחה':'Open University','אוניברסיטת אריאל':'Ariel Unuversity','אוניברסיטת בן גוריון':'Ben-Gurion University','אוניברסיטת בר אילן':'Bar-Ilan University','אוניברסיטת חיפה':'University of Haifa','אוניברסיטת תל אביב':'Tel Aviv University','האקדמית עמק יזרעאל':'Yezreel Valley College','מכללת שנקר':'Shenkar College','טכניון':'Technion','מכללת ספיר':'Sapir Academic College','מכללת אורט בראודה':'ORT Braude College','מכללת סמי שמעון':'Sami Shamoon College','מכללת רופין':'Ruppin Academic Center','האקדמית עמק יזרעאל':'Yezreel Valley College','האקדמית תל אביב יפו':'Tel Aviv-Yafo Academic College','המכללה להנדסה ירושלים':'College of Engineering Jerusalem','מכללת אפקה':'Afeka College','האקדמית תל אביב יפו':'Tel Aviv-Yafo Academic College'}).sort_values(ascending=False).plot(figsize=(11,5),kind=\"bar\",color=\"plum\")\n",
    "#plt.legend()\n",
    "#plt.xticks(rotation=60, horizontalalignment=\"right\",fontsize=14)\n",
    "#plt.title(\"Mean Salary For Graduets Per University\",fontdict = font1)\n",
    "#g11.set_xlabel(\"Facility\",fontdict = font2,fontsize=20)\n",
    "#g11.set_ylabel(\"Salary\",fontdict = font2,fontsize=20)"
   ]
  },
  {
   "cell_type": "markdown",
   "metadata": {},
   "source": [
    "### 2) Correlations between graduets-salary based on the facility: "
   ]
  },
  {
   "cell_type": "code",
   "execution_count": 180,
   "metadata": {
    "jupyter": {
     "source_hidden": true
    }
   },
   "outputs": [
    {
     "data": {
      "text/plain": [
       "Text(0, 0.5, 'Salary')"
      ]
     },
     "execution_count": 180,
     "metadata": {},
     "output_type": "execute_result"
    },
    {
     "data": {
      "image/png": "[encoded data removed]",
      "text/plain": [
       "<Figure size 792x360 with 2 Axes>"
      ]
     },
     "metadata": {
      "needs_background": "light"
     },
     "output_type": "display_data"
    }
   ],
   "source": [
    "plt.figure(figsize=(20, 10))\n",
    "plt.subplots_adjust(wspace=0.9)\n",
    "\n",
    "counts = pd.value_counts(industriel_data_df.Facility)\n",
    "industriel_data_df_filter = industriel_data_df.loc[industriel_data_df.Facility.isin(counts[counts > 10].index), :]\n",
    "industriel_data_df_filter = industriel_data_df_filter[industriel_data_df_filter.Status == \"בוגר/ת\"]\n",
    "industriel_data_df_filter = industriel_data_df_filter[industriel_data_df_filter.type == \"מכללה\"]\n",
    "\n",
    "plt.subplot(1,2,1)\n",
    "g11=industriel_data_df_filter.groupby(\"Facility\").Salary.mean().rename(index={'אוניברסיטה פתוחה':'Open University','אוניברסיטת אריאל':'Ariel Unuversity','אוניברסיטת בן גוריון':'Ben-Gurion University','אוניברסיטת בר אילן':'Bar-Ilan University','אוניברסיטת חיפה':'University of Haifa','אוניברסיטת תל אביב':'Tel Aviv University','האקדמית עמק יזרעאל':'Yezreel Valley College','מכללת שנקר':'Shenkar College','טכניון':'Technion','מכללת ספיר':'Sapir Academic College','מכללת אורט בראודה':'ORT Braude College','מכללת סמי שמעון':'Sami Shamoon College','מכללת רופין':'Ruppin Academic Center','האקדמית עמק יזרעאל':'Yezreel Valley College','האקדמית תל אביב יפו':'Tel Aviv-Yafo Academic College','המכללה להנדסה ירושלים':'College of Engineering Jerusalem','מכללת אפקה':'Afeka College','האקדמית תל אביב יפו':'Tel Aviv-Yafo Academic College'}).sort_values(ascending=False).plot(figsize=(11,5),kind=\"bar\",color=\"lightblue\")\n",
    "plt.legend()\n",
    "plt.xticks(rotation=60, horizontalalignment=\"right\",fontsize=14)\n",
    "plt.title(\"Mean Salary For Graduets Per College\",fontdict = font2)\n",
    "g11.set_xlabel(\"Facility\",fontdict = font2,fontsize=20)\n",
    "g11.set_ylabel(\"Salary\",fontdict = font2,fontsize=20)\n",
    "\n",
    "counts = pd.value_counts(industriel_data_df.Facility)\n",
    "industriel_data_df_filter = industriel_data_df.loc[industriel_data_df.Facility.isin(counts[counts > 10].index), :]\n",
    "industriel_data_df_filter = industriel_data_df_filter[industriel_data_df_filter.Status == \"בוגר/ת\"]\n",
    "industriel_data_df_filter = industriel_data_df_filter[industriel_data_df_filter.type == \"אוניברסיטה\"]\n",
    "\n",
    "plt.subplot(1,2,2)\n",
    "g11=industriel_data_df_filter.groupby(\"Facility\").Salary.mean().rename(index={'אוניברסיטה פתוחה':'Open University','אוניברסיטת אריאל':'Ariel Unuversity','אוניברסיטת בן גוריון':'Ben-Gurion University','אוניברסיטת בר אילן':'Bar-Ilan University','אוניברסיטת חיפה':'University of Haifa','אוניברסיטת תל אביב':'Tel Aviv University','האקדמית עמק יזרעאל':'Yezreel Valley College','מכללת שנקר':'Shenkar College','טכניון':'Technion','מכללת ספיר':'Sapir Academic College','מכללת אורט בראודה':'ORT Braude College','מכללת סמי שמעון':'Sami Shamoon College','מכללת רופין':'Ruppin Academic Center','האקדמית עמק יזרעאל':'Yezreel Valley College','האקדמית תל אביב יפו':'Tel Aviv-Yafo Academic College','המכללה להנדסה ירושלים':'College of Engineering Jerusalem','מכללת אפקה':'Afeka College','האקדמית תל אביב יפו':'Tel Aviv-Yafo Academic College'}).sort_values(ascending=False).plot(figsize=(11,5),kind=\"bar\",color=\"lightblue\")\n",
    "plt.legend()\n",
    "plt.xticks(rotation=60, horizontalalignment=\"right\",fontsize=14)\n",
    "plt.title(\"Mean Salary For Graduets Per University\",fontdict = font2)\n",
    "g11.set_xlabel(\"Facility\",fontdict = font2,fontsize=20)\n",
    "g11.set_ylabel(\"Salary\",fontdict = font2,fontsize=20)"
   ]
  },
  {
   "cell_type": "markdown",
   "metadata": {},
   "source": [
    "### The salary based on our data for college graduets is 10,000-14,000 NIS and for university graduets it stands on 12,500-17,500 NIS."
   ]
  },
  {
   "cell_type": "markdown",
   "metadata": {},
   "source": [
    "### Observation 2:\n",
    "### - College students earn on average more than university students\n",
    "### - University graduates earn on average more than college graduates"
   ]
  },
  {
   "cell_type": "markdown",
   "metadata": {},
   "source": [
    "### 3) Correlations between facility-salary and experience-salary: "
   ]
  },
  {
   "cell_type": "code",
   "execution_count": 181,
   "metadata": {
    "jupyter": {
     "source_hidden": true
    },
    "tags": []
   },
   "outputs": [],
   "source": [
    "#fig, axes=plt.subplots(1,2,figsize=(20,10))\n",
    "#plt.subplots_adjust(wspace=0.2)\n",
    "#sns.barplot(x=\"type\", y=\"Salary\", data=industriel_data_df_filter_graduets, ax=axes[0])\n",
    "#sns.barplot(x=\"Experience\", y=\"Salary\", data=industriel_data_df_filter_graduets, ax=axes[1])\n",
    "#plt.show()"
   ]
  },
  {
   "cell_type": "code",
   "execution_count": 182,
   "metadata": {
    "jupyter": {
     "source_hidden": true
    },
    "tags": []
   },
   "outputs": [
    {
     "data": {
      "text/plain": [
       "Text(0, 0.5, 'Salary')"
      ]
     },
     "execution_count": 182,
     "metadata": {},
     "output_type": "execute_result"
    },
    {
     "data": {
      "image/png": "[encoded data removed]",
      "text/plain": [
       "<Figure size 720x360 with 2 Axes>"
      ]
     },
     "metadata": {
      "needs_background": "light"
     },
     "output_type": "display_data"
    }
   ],
   "source": [
    "plt.figure(figsize=(10, 5))\n",
    "plt.subplots_adjust(wspace=0.4)\n",
    "\n",
    "counts = pd.value_counts(industriel_data_df.Facility)\n",
    "industriel_data_df_filter = industriel_data_df.loc[industriel_data_df.Facility.isin(counts[counts > 10].index), :]\n",
    "industriel_data_df_filter = industriel_data_df_filter[industriel_data_df_filter.Status == \"בוגר/ת\"]\n",
    "\n",
    "plt.subplot(1,2,1)\n",
    "g19=industriel_data_df_filter.groupby('type').Salary.mean().rename(index={'אוניברסיטה':'University','מכללה':'College'}).plot.bar(color=['darkorange'])\n",
    "plt.xticks(rotation=60, horizontalalignment=\"right\",fontsize=14)\n",
    "plt.title(\"Mean Salary-University VS College\",fontdict = font1,fontsize=14)\n",
    "g19.set_xlabel(\"Type\",fontdict = font2,fontsize=14)\n",
    "g19.set_ylabel(\"Salary\",fontdict = font2,fontsize=14)\n",
    "\n",
    "plt.subplot(1,2,2)\n",
    "g20=industriel_data_df_filter.groupby('Experience').Salary.mean().sort_values(ascending=True).plot.bar(color=['orange'])\n",
    "plt.xticks(rotation=0, horizontalalignment=\"right\",fontsize=14)\n",
    "plt.title(\"Mean Salary per years of experience\",fontdict=font1 ,fontsize=14)\n",
    "g20.set_xlabel(\"Experience\",fontdict = font2,fontsize=14)\n",
    "g20.set_ylabel(\"Salary\",fontdict = font2,fontsize=14)"
   ]
  },
  {
   "cell_type": "markdown",
   "metadata": {},
   "source": [
    "### We can see university graduets earn on average more than college graduets and that as the experience rise so does the salary."
   ]
  },
  {
   "cell_type": "markdown",
   "metadata": {},
   "source": [
    "### Seeing the affection of the experience and the facility together on the salary:"
   ]
  },
  {
   "cell_type": "code",
   "execution_count": 183,
   "metadata": {
    "jupyter": {
     "source_hidden": true
    }
   },
   "outputs": [
    {
     "data": {
      "text/plain": [
       "<matplotlib.axes._subplots.AxesSubplot at 0x19dad78e970>"
      ]
     },
     "execution_count": 183,
     "metadata": {},
     "output_type": "execute_result"
    },
    {
     "data": {
      "image/png": "[encoded data removed]",
      "text/plain": [
       "<Figure size 432x288 with 1 Axes>"
      ]
     },
     "metadata": {
      "needs_background": "light"
     },
     "output_type": "display_data"
    }
   ],
   "source": [
    "sns.boxplot(x=\"Experience\", y=\"Salary\", hue=\"type\", data=industriel_data_df[industriel_data_df.Status == \"בוגר/ת\"])"
   ]
  },
  {
   "cell_type": "markdown",
   "metadata": {},
   "source": [
    "### Observation 3:\n",
    "### As shown above, the type of facility and the number of experience years both affects the mean salary.\n",
    "### But combining the affections we get to see that as the years of experience increase, the effect of the facility type decreases."
   ]
  },
  {
   "cell_type": "markdown",
   "metadata": {},
   "source": [
    "## To sum up:\n",
    "### The data provided us with 3 main observations about the Industrial Engineering field-\n",
    "#### 1. Data Analysis- the specialty that most people choose which is also the most rewarding in terms of salary.\n",
    "#### 2. College students earn on average more than university students but university graduates earn on average more than college graduates\n",
    "#### 3. The more experience an industrial engineer gains- the less impact there is from the type of study facility on his salary"
   ]
  },
  {
   "cell_type": "code",
   "execution_count": 43,
   "metadata": {
    "jupyter": {
     "source_hidden": true
    }
   },
   "outputs": [],
   "source": [
    "#plt.figure(figsize = (30,30))\n",
    "#plt.subplot(3, 2, 1,)\n",
    "\n",
    "#g10=industriel_data_df.groupby(\"speciality\")[['speciality']].count().rename(index={'אבטחת איכות':'Quality assurance','אחר':'other','ארגון ושיטות':'Organization and Methods','ניהול היצור':'Production Management','ניהול פרוייקטים':'Project management','ניתוח נתונים':'Data Analysis'}).plot.bar(figsize=(10,6),color=['orange'])\n",
    "#plt.legend()\n",
    "#plt.xticks(rotation=60, horizontalalignment=\"right\",fontsize=14)\n",
    "#plt.title(\"specialization preference\",fontdict = font1)\n",
    "#g10.set_xlabel(\"Speciality\",fontdict = font2,fontsize=20)\n",
    "#g10.set_ylabel(\"Amount\",fontdict = font2,fontsize=20)\n",
    "\n",
    "#plt.subplot(3, 2, 2,)\n",
    "#counts = pd.value_counts(industriel_data_df.Facility)\n",
    "#industriel_data_df_filter = industriel_data_df.loc[industriel_data_df.Facility.isin(counts[counts > 10].index), :]\n",
    "#industriel_data_df_filter = industriel_data_df_filter[industriel_data_df_filter.Status == \"בוגר/ת\"]\n",
    "\n",
    "#g11=industriel_data_df_filter.groupby(\"speciality\").Salary.mean().rename(index={'אבטחת איכות':'Quality assurance','אחר':'other','ארגון ושיטות':'Organization and Methods','ניהול היצור':'Production Management','ניהול פרוייקטים':'Project management','ניתוח נתונים':'Data Analysis'}).sort_values(ascending=False).plot(figsize=(11,5),kind=\"bar\",color=\"firebrick\")\n",
    "#plt.xticks(rotation=60, horizontalalignment=\"right\",fontsize=14)\n",
    "#plt.title(\"Mean Salary Per Speciality\",fontdict = font1)\n",
    "#g11.set_xlabel(\"Speciality\",fontdict = font2,fontsize=20)\n",
    "#g11.set_ylabel(\"Salary\",fontdict = font2,fontsize=20)\n",
    "\n",
    "\n",
    "#plt.subplot(3, 2, 3,)\n",
    "#counts = pd.value_counts(industriel_data_df.Facility)\n",
    "#industriel_data_df_filter = industriel_data_df.loc[industriel_data_df.Facility.isin(counts[counts > 10].index), :]\n",
    "#industriel_data_df_filter_graduets = industriel_data_df_filter[industriel_data_df_filter.Status == \"בוגר/ת\"]\n",
    "#industriel_data_df_filter_students = industriel_data_df_filter[industriel_data_df_filter.Status == \"סטודנט/ית\"]\n",
    "\n",
    "#industriel_data_df_filter_students= industriel_data_df_filter_students[industriel_data_df_filter_students.type == \"מכללה\"]\n",
    "#g11=industriel_data_df_filter_students.groupby(\"Facility\").Salary.mean().rename(index={'אוניברסיטה פתוחה':'Open University','אוניברסיטת אריאל':'Ariel Unuversity','אוניברסיטת בן גוריון':'Ben-Gurion University','אוניברסיטת בר אילן':'Bar-Ilan University','אוניברסיטת חיפה':'University of Haifa','אוניברסיטת תל אביב':'Tel Aviv University','האקדמית עמק יזרעאל':'Yezreel Valley College','מכללת שנקר':'Shenkar College','טכניון':'Technion','מכללת ספיר':'Sapir Academic College','מכללת אורט בראודה':'ORT Braude College','מכללת סמי שמעון':'Sami Shamoon College','מכללת רופין':'Ruppin Academic Center','האקדמית עמק יזרעאל':'Yezreel Valley College','האקדמית תל אביב יפו':'Tel Aviv-Yafo Academic College','המכללה להנדסה ירושלים':'College of Engineering Jerusalem','מכללת אפקה':'Afeka College','האקדמית תל אביב יפו':'Tel Aviv-Yafo Academic College'}).sort_values(ascending=False).plot(figsize=(11,5),kind=\"bar\",color=\"purple\")\n",
    "#plt.legend()\n",
    "#plt.xticks(rotation=60, horizontalalignment=\"right\",fontsize=14)\n",
    "#plt.title(\"Mean Salary For Students Per College\",fontdict = font1)\n",
    "#g11.set_xlabel(\"Facility\",fontdict = font2,fontsize=20)\n",
    "#g11.set_ylabel(\"Salary\",fontdict = font2,fontsize=20)\n",
    "\n",
    "#plt.subplot(3, 2, 4,)\n",
    "#counts = pd.value_counts(industriel_data_df.Facility)\n",
    "#industriel_data_df_filter = industriel_data_df.loc[industriel_data_df.Facility.isin(counts[counts > 10].index), :]\n",
    "#industriel_data_df_filter = industriel_data_df_filter[industriel_data_df_filter.Status == \"סטודנט/ית\"]\n",
    "#industriel_data_df_filter = industriel_data_df_filter[industriel_data_df_filter.type == \"אוניברסיטה\"]\n",
    "\n",
    "#g11=industriel_data_df_filter.groupby(\"Facility\").Salary.mean().rename(index={'אוניברסיטה פתוחה':'Open University','אוניברסיטת אריאל':'Ariel Unuversity','אוניברסיטת בן גוריון':'Ben-Gurion University','אוניברסיטת בר אילן':'Bar-Ilan University','אוניברסיטת חיפה':'University of Haifa','אוניברסיטת תל אביב':'Tel Aviv University','האקדמית עמק יזרעאל':'Yezreel Valley College','מכללת שנקר':'Shenkar College','טכניון':'Technion','מכללת ספיר':'Sapir Academic College','מכללת אורט בראודה':'ORT Braude College','מכללת סמי שמעון':'Sami Shamoon College','מכללת רופין':'Ruppin Academic Center','האקדמית עמק יזרעאל':'Yezreel Valley College','האקדמית תל אביב יפו':'Tel Aviv-Yafo Academic College','המכללה להנדסה ירושלים':'College of Engineering Jerusalem','מכללת אפקה':'Afeka College','האקדמית תל אביב יפו':'Tel Aviv-Yafo Academic College'}).sort_values(ascending=False).plot(figsize=(11,5),kind=\"bar\",color=\"plum\")\n",
    "#plt.legend()\n",
    "#plt.xticks(rotation=60, horizontalalignment=\"right\",fontsize=14)\n",
    "#plt.title(\"Mean Salary For Students Per University\",fontdict = font1)\n",
    "#g11.set_xlabel(\"Facility\",fontdict = font2,fontsize=20)\n",
    "#g11.set_ylabel(\"Salary\",fontdict = font2,fontsize=20)\n",
    "\n",
    "#plt.subplot(3, 2, 5,)\n",
    "#counts = pd.value_counts(industriel_data_df.Facility)\n",
    "#industriel_data_df_filter = industriel_data_df.loc[industriel_data_df.Facility.isin(counts[counts > 10].index), :]\n",
    "#industriel_data_df_filter = industriel_data_df_filter[industriel_data_df_filter.Status == \"בוגר/ת\"]\n",
    "#industriel_data_df_filter = industriel_data_df_filter[industriel_data_df_filter.type == \"מכללה\"]\n",
    "\n",
    "#g11=industriel_data_df_filter.groupby(\"Facility\").Salary.mean().rename(index={'אוניברסיטה פתוחה':'Open University','אוניברסיטת אריאל':'Ariel Unuversity','אוניברסיטת בן גוריון':'Ben-Gurion University','אוניברסיטת בר אילן':'Bar-Ilan University','אוניברסיטת חיפה':'University of Haifa','אוניברסיטת תל אביב':'Tel Aviv University','האקדמית עמק יזרעאל':'Yezreel Valley College','מכללת שנקר':'Shenkar College','טכניון':'Technion','מכללת ספיר':'Sapir Academic College','מכללת אורט בראודה':'ORT Braude College','מכללת סמי שמעון':'Sami Shamoon College','מכללת רופין':'Ruppin Academic Center','האקדמית עמק יזרעאל':'Yezreel Valley College','האקדמית תל אביב יפו':'Tel Aviv-Yafo Academic College','המכללה להנדסה ירושלים':'College of Engineering Jerusalem','מכללת אפקה':'Afeka College','האקדמית תל אביב יפו':'Tel Aviv-Yafo Academic College'}).sort_values(ascending=False).plot(figsize=(11,5),kind=\"bar\",color=\"cornflowerblue\")\n",
    "#plt.legend()\n",
    "#plt.xticks(rotation=60, horizontalalignment=\"right\",fontsize=14)\n",
    "#plt.title(\"Mean Salary For Graduets Per College\",fontdict = font1)\n",
    "#g11.set_xlabel(\"Facility\",fontdict = font2,fontsize=20)\n",
    "#g11.set_ylabel(\"Salary\",fontdict = font2,fontsize=20)\n",
    "\n",
    "#plt.subplot(3, 2, 6,)\n",
    "#counts = pd.value_counts(industriel_data_df.Facility)\n",
    "#industriel_data_df_filter = industriel_data_df.loc[industriel_data_df.Facility.isin(counts[counts > 10].index), :]\n",
    "#industriel_data_df_filter = industriel_data_df_filter[industriel_data_df_filter.Status == \"בוגר/ת\"]\n",
    "#industriel_data_df_filter = industriel_data_df_filter[industriel_data_df_filter.type == \"אוניברסיטה\"]\n",
    "\n",
    "#g11=industriel_data_df_filter.groupby(\"Facility\").Salary.mean().rename(index={'אוניברסיטה פתוחה':'Open University','אוניברסיטת אריאל':'Ariel Unuversity','אוניברסיטת בן גוריון':'Ben-Gurion University','אוניברסיטת בר אילן':'Bar-Ilan University','אוניברסיטת חיפה':'University of Haifa','אוניברסיטת תל אביב':'Tel Aviv University','האקדמית עמק יזרעאל':'Yezreel Valley College','מכללת שנקר':'Shenkar College','טכניון':'Technion','מכללת ספיר':'Sapir Academic College','מכללת אורט בראודה':'ORT Braude College','מכללת סמי שמעון':'Sami Shamoon College','מכללת רופין':'Ruppin Academic Center','האקדמית עמק יזרעאל':'Yezreel Valley College','האקדמית תל אביב יפו':'Tel Aviv-Yafo Academic College','המכללה להנדסה ירושלים':'College of Engineering Jerusalem','מכללת אפקה':'Afeka College','האקדמית תל אביב יפו':'Tel Aviv-Yafo Academic College'}).sort_values(ascending=False).plot(figsize=(11,5),kind=\"bar\",color=\"lightblue\")\n",
    "#plt.legend()\n",
    "#plt.xticks(rotation=60, horizontalalignment=\"right\",fontsize=14)\n",
    "#plt.title(\"Mean Salary For Graduets Per University\",fontdict = font1)\n",
    "#g11.set_xlabel(\"Facility\",fontdict = font2,fontsize=20)\n",
    "#g11.set_ylabel(\"Salary\",fontdict = font2,fontsize=20)"
   ]
  },
  {
   "cell_type": "code",
   "execution_count": null,
   "metadata": {},
   "outputs": [],
   "source": []
  }
 ],
 "metadata": {
  "kernelspec": {
   "display_name": "Python 3",
   "language": "python",
   "name": "python3"
  },
  "language_info": {
   "codemirror_mode": {
    "name": "ipython",
    "version": 3
   },
   "file_extension": ".py",
   "mimetype": "text/x-python",
   "name": "python",
   "nbconvert_exporter": "python",
   "pygments_lexer": "ipython3",
   "version": "3.8.3"
  }
 },
 "nbformat": 4,
 "nbformat_minor": 4
}
