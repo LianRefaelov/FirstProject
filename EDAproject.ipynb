{
 "cells": [
  {
   "cell_type": "markdown",
   "metadata": {},
   "source": [
    "# Industriel Engineering \n",
    "#### **Presented By :       Lian Refaelov , Shifra Fuchs, Osher Moyal , Dolev Levavi**"
   ]
  },
  {
   "cell_type": "markdown",
   "metadata": {},
   "source": [
    "- Wrangling the data and Understanding it\n",
    "- Audience Quiz: The most wanted position, The specialization where you earn the most\n",
    "- Facility vs Salary\n",
    "- Specialization vs Salary \n",
    "- Position vs Salary"
   ]
  },
  {
   "cell_type": "markdown",
   "metadata": {},
   "source": [
    "### *Wrangling the data and Understanding it*"
   ]
  },
  {
   "cell_type": "code",
   "execution_count": 59,
   "metadata": {},
   "outputs": [],
   "source": [
    "import pandas as pd\n",
    "import numpy as np\n",
    "import matplotlib.pyplot as plt\n",
    "import seaborn as sns"
   ]
  },
  {
   "cell_type": "code",
   "execution_count": 60,
   "metadata": {},
   "outputs": [],
   "source": [
    "font1 = {'family':'serif','color':'darkorange','size':25}\n",
    "font2 = {'family':'serif','color':'purple','size':15}"
   ]
  },
  {
   "cell_type": "code",
   "execution_count": 61,
   "metadata": {
    "tags": []
   },
   "outputs": [
    {
     "data": {
      "text/html": [
       "<div>\n",
       "<style scoped>\n",
       "    .dataframe tbody tr th:only-of-type {\n",
       "        vertical-align: middle;\n",
       "    }\n",
       "\n",
       "    .dataframe tbody tr th {\n",
       "        vertical-align: top;\n",
       "    }\n",
       "\n",
       "    .dataframe thead th {\n",
       "        text-align: right;\n",
       "    }\n",
       "</style>\n",
       "<table border=\"1\" class=\"dataframe\">\n",
       "  <thead>\n",
       "    <tr style=\"text-align: right;\">\n",
       "      <th></th>\n",
       "      <th>תאריך</th>\n",
       "      <th>סטטוס</th>\n",
       "      <th>מוסד לימודי</th>\n",
       "      <th>תחום</th>\n",
       "      <th>תפקיד</th>\n",
       "      <th>חברה</th>\n",
       "      <th>ניסיון</th>\n",
       "      <th>משכורת</th>\n",
       "      <th>סוג תשלום</th>\n",
       "      <th>הערות</th>\n",
       "      <th>רכב</th>\n",
       "    </tr>\n",
       "  </thead>\n",
       "  <tbody>\n",
       "    <tr>\n",
       "      <th>0</th>\n",
       "      <td>08/01/2019 11:41</td>\n",
       "      <td>סטודנט/ית</td>\n",
       "      <td>אוניברסיטה פתוחה</td>\n",
       "      <td>NaN</td>\n",
       "      <td>ניתוח נתונים</td>\n",
       "      <td>NaN</td>\n",
       "      <td>2+</td>\n",
       "      <td>20000.0</td>\n",
       "      <td>גלובלי</td>\n",
       "      <td>NaN</td>\n",
       "      <td>NaN</td>\n",
       "    </tr>\n",
       "    <tr>\n",
       "      <th>1</th>\n",
       "      <td>08/01/2019 11:49</td>\n",
       "      <td>סטודנט/ית</td>\n",
       "      <td>אוניברסיטה פתוחה</td>\n",
       "      <td>הייטק</td>\n",
       "      <td>QA</td>\n",
       "      <td>Oracle</td>\n",
       "      <td>2+</td>\n",
       "      <td>30000.0</td>\n",
       "      <td>גלובלי</td>\n",
       "      <td>NaN</td>\n",
       "      <td>לא</td>\n",
       "    </tr>\n",
       "    <tr>\n",
       "      <th>2</th>\n",
       "      <td>08/01/2019 12:03</td>\n",
       "      <td>סטודנט/ית</td>\n",
       "      <td>אוניברסיטה פתוחה</td>\n",
       "      <td>מוסד ממשלתי</td>\n",
       "      <td>רכז פרוייקטים</td>\n",
       "      <td>NaN</td>\n",
       "      <td>1</td>\n",
       "      <td>3000.0</td>\n",
       "      <td>שעתי</td>\n",
       "      <td>NaN</td>\n",
       "      <td>לא</td>\n",
       "    </tr>\n",
       "    <tr>\n",
       "      <th>3</th>\n",
       "      <td>08/01/2019 12:05</td>\n",
       "      <td>סטודנט/ית</td>\n",
       "      <td>אוניברסיטה פתוחה</td>\n",
       "      <td>מוסד ממשלתי</td>\n",
       "      <td>ניתוח נתונים</td>\n",
       "      <td>ZIM</td>\n",
       "      <td>1</td>\n",
       "      <td>40.0</td>\n",
       "      <td>שעתי</td>\n",
       "      <td>NaN</td>\n",
       "      <td>לא</td>\n",
       "    </tr>\n",
       "    <tr>\n",
       "      <th>4</th>\n",
       "      <td>08/01/2019 12:09</td>\n",
       "      <td>סטודנט/ית</td>\n",
       "      <td>אוניברסיטה פתוחה</td>\n",
       "      <td>הייטק</td>\n",
       "      <td>ניהול פרוייקטים PMO</td>\n",
       "      <td>AtoZ</td>\n",
       "      <td>1</td>\n",
       "      <td>12000.0</td>\n",
       "      <td>גלובלי</td>\n",
       "      <td>NaN</td>\n",
       "      <td>לא</td>\n",
       "    </tr>\n",
       "  </tbody>\n",
       "</table>\n",
       "</div>"
      ],
      "text/plain": [
       "              תאריך      סטטוס       מוסד לימודי         תחום  \\\n",
       "0  08/01/2019 11:41  סטודנט/ית  אוניברסיטה פתוחה          NaN   \n",
       "1  08/01/2019 11:49  סטודנט/ית  אוניברסיטה פתוחה        הייטק   \n",
       "2  08/01/2019 12:03  סטודנט/ית  אוניברסיטה פתוחה  מוסד ממשלתי   \n",
       "3  08/01/2019 12:05  סטודנט/ית  אוניברסיטה פתוחה  מוסד ממשלתי   \n",
       "4  08/01/2019 12:09  סטודנט/ית  אוניברסיטה פתוחה        הייטק   \n",
       "\n",
       "                 תפקיד    חברה ניסיון   משכורת סוג תשלום הערות  רכב  \n",
       "0         ניתוח נתונים     NaN     2+  20000.0    גלובלי   NaN  NaN  \n",
       "1                   QA  Oracle     2+  30000.0    גלובלי   NaN   לא  \n",
       "2        רכז פרוייקטים     NaN      1   3000.0      שעתי   NaN   לא  \n",
       "3         ניתוח נתונים     ZIM      1     40.0      שעתי   NaN   לא  \n",
       "4  ניהול פרוייקטים PMO    AtoZ      1  12000.0    גלובלי   NaN   לא  "
      ]
     },
     "execution_count": 61,
     "metadata": {},
     "output_type": "execute_result"
    }
   ],
   "source": [
    "url = \"IndustrielEngineeringData.csv\"\n",
    "industriel_data_df = pd.read_csv(url)\n",
    "industriel_data_df.head()"
   ]
  },
  {
   "cell_type": "code",
   "execution_count": 62,
   "metadata": {},
   "outputs": [
    {
     "data": {
      "text/html": [
       "<div>\n",
       "<style scoped>\n",
       "    .dataframe tbody tr th:only-of-type {\n",
       "        vertical-align: middle;\n",
       "    }\n",
       "\n",
       "    .dataframe tbody tr th {\n",
       "        vertical-align: top;\n",
       "    }\n",
       "\n",
       "    .dataframe thead th {\n",
       "        text-align: right;\n",
       "    }\n",
       "</style>\n",
       "<table border=\"1\" class=\"dataframe\">\n",
       "  <thead>\n",
       "    <tr style=\"text-align: right;\">\n",
       "      <th></th>\n",
       "      <th>Date</th>\n",
       "      <th>Status</th>\n",
       "      <th>Facility</th>\n",
       "      <th>Classification</th>\n",
       "      <th>Specialization</th>\n",
       "      <th>Company</th>\n",
       "      <th>Experience</th>\n",
       "      <th>Salary</th>\n",
       "      <th>Salary_kind</th>\n",
       "      <th>Remarks</th>\n",
       "      <th>Car</th>\n",
       "    </tr>\n",
       "  </thead>\n",
       "  <tbody>\n",
       "    <tr>\n",
       "      <th>0</th>\n",
       "      <td>08/01/2019 11:41</td>\n",
       "      <td>סטודנט/ית</td>\n",
       "      <td>אוניברסיטה פתוחה</td>\n",
       "      <td>NaN</td>\n",
       "      <td>ניתוח נתונים</td>\n",
       "      <td>NaN</td>\n",
       "      <td>2+</td>\n",
       "      <td>20000.0</td>\n",
       "      <td>גלובלי</td>\n",
       "      <td>NaN</td>\n",
       "      <td>NaN</td>\n",
       "    </tr>\n",
       "    <tr>\n",
       "      <th>1</th>\n",
       "      <td>08/01/2019 11:49</td>\n",
       "      <td>סטודנט/ית</td>\n",
       "      <td>אוניברסיטה פתוחה</td>\n",
       "      <td>הייטק</td>\n",
       "      <td>QA</td>\n",
       "      <td>Oracle</td>\n",
       "      <td>2+</td>\n",
       "      <td>30000.0</td>\n",
       "      <td>גלובלי</td>\n",
       "      <td>NaN</td>\n",
       "      <td>לא</td>\n",
       "    </tr>\n",
       "    <tr>\n",
       "      <th>2</th>\n",
       "      <td>08/01/2019 12:03</td>\n",
       "      <td>סטודנט/ית</td>\n",
       "      <td>אוניברסיטה פתוחה</td>\n",
       "      <td>מוסד ממשלתי</td>\n",
       "      <td>רכז פרוייקטים</td>\n",
       "      <td>NaN</td>\n",
       "      <td>1</td>\n",
       "      <td>3000.0</td>\n",
       "      <td>שעתי</td>\n",
       "      <td>NaN</td>\n",
       "      <td>לא</td>\n",
       "    </tr>\n",
       "    <tr>\n",
       "      <th>3</th>\n",
       "      <td>08/01/2019 12:05</td>\n",
       "      <td>סטודנט/ית</td>\n",
       "      <td>אוניברסיטה פתוחה</td>\n",
       "      <td>מוסד ממשלתי</td>\n",
       "      <td>ניתוח נתונים</td>\n",
       "      <td>ZIM</td>\n",
       "      <td>1</td>\n",
       "      <td>40.0</td>\n",
       "      <td>שעתי</td>\n",
       "      <td>NaN</td>\n",
       "      <td>לא</td>\n",
       "    </tr>\n",
       "    <tr>\n",
       "      <th>4</th>\n",
       "      <td>08/01/2019 12:09</td>\n",
       "      <td>סטודנט/ית</td>\n",
       "      <td>אוניברסיטה פתוחה</td>\n",
       "      <td>הייטק</td>\n",
       "      <td>ניהול פרוייקטים PMO</td>\n",
       "      <td>AtoZ</td>\n",
       "      <td>1</td>\n",
       "      <td>12000.0</td>\n",
       "      <td>גלובלי</td>\n",
       "      <td>NaN</td>\n",
       "      <td>לא</td>\n",
       "    </tr>\n",
       "  </tbody>\n",
       "</table>\n",
       "</div>"
      ],
      "text/plain": [
       "               Date     Status          Facility Classification  \\\n",
       "0  08/01/2019 11:41  סטודנט/ית  אוניברסיטה פתוחה            NaN   \n",
       "1  08/01/2019 11:49  סטודנט/ית  אוניברסיטה פתוחה          הייטק   \n",
       "2  08/01/2019 12:03  סטודנט/ית  אוניברסיטה פתוחה    מוסד ממשלתי   \n",
       "3  08/01/2019 12:05  סטודנט/ית  אוניברסיטה פתוחה    מוסד ממשלתי   \n",
       "4  08/01/2019 12:09  סטודנט/ית  אוניברסיטה פתוחה          הייטק   \n",
       "\n",
       "        Specialization Company Experience   Salary Salary_kind Remarks  Car  \n",
       "0         ניתוח נתונים     NaN         2+  20000.0      גלובלי     NaN  NaN  \n",
       "1                   QA  Oracle         2+  30000.0      גלובלי     NaN   לא  \n",
       "2        רכז פרוייקטים     NaN          1   3000.0        שעתי     NaN   לא  \n",
       "3         ניתוח נתונים     ZIM          1     40.0        שעתי     NaN   לא  \n",
       "4  ניהול פרוייקטים PMO    AtoZ          1  12000.0      גלובלי     NaN   לא  "
      ]
     },
     "execution_count": 62,
     "metadata": {},
     "output_type": "execute_result"
    }
   ],
   "source": [
    "industriel_data_df.columns = ['Date', 'Status', 'Facility', 'Classification', 'Specialization', 'Company', 'Experience', 'Salary', 'Salary_kind', 'Remarks', 'Car']\n",
    "industriel_data_df.head()"
   ]
  },
  {
   "cell_type": "code",
   "execution_count": 63,
   "metadata": {},
   "outputs": [
    {
     "data": {
      "text/html": [
       "<div>\n",
       "<style scoped>\n",
       "    .dataframe tbody tr th:only-of-type {\n",
       "        vertical-align: middle;\n",
       "    }\n",
       "\n",
       "    .dataframe tbody tr th {\n",
       "        vertical-align: top;\n",
       "    }\n",
       "\n",
       "    .dataframe thead th {\n",
       "        text-align: right;\n",
       "    }\n",
       "</style>\n",
       "<table border=\"1\" class=\"dataframe\">\n",
       "  <thead>\n",
       "    <tr style=\"text-align: right;\">\n",
       "      <th></th>\n",
       "      <th>Date</th>\n",
       "      <th>Status</th>\n",
       "      <th>Facility</th>\n",
       "      <th>Classification</th>\n",
       "      <th>Specialization</th>\n",
       "      <th>Company</th>\n",
       "      <th>Experience</th>\n",
       "      <th>Salary</th>\n",
       "      <th>Salary_kind</th>\n",
       "      <th>Remarks</th>\n",
       "      <th>Car</th>\n",
       "      <th>Year</th>\n",
       "    </tr>\n",
       "  </thead>\n",
       "  <tbody>\n",
       "    <tr>\n",
       "      <th>0</th>\n",
       "      <td>2019-08-01 11:41:00</td>\n",
       "      <td>סטודנט/ית</td>\n",
       "      <td>אוניברסיטה פתוחה</td>\n",
       "      <td>NaN</td>\n",
       "      <td>ניתוח נתונים</td>\n",
       "      <td>NaN</td>\n",
       "      <td>2+</td>\n",
       "      <td>20000.0</td>\n",
       "      <td>גלובלי</td>\n",
       "      <td>NaN</td>\n",
       "      <td>NaN</td>\n",
       "      <td>2019</td>\n",
       "    </tr>\n",
       "    <tr>\n",
       "      <th>1</th>\n",
       "      <td>2019-08-01 11:49:00</td>\n",
       "      <td>סטודנט/ית</td>\n",
       "      <td>אוניברסיטה פתוחה</td>\n",
       "      <td>הייטק</td>\n",
       "      <td>QA</td>\n",
       "      <td>Oracle</td>\n",
       "      <td>2+</td>\n",
       "      <td>30000.0</td>\n",
       "      <td>גלובלי</td>\n",
       "      <td>NaN</td>\n",
       "      <td>לא</td>\n",
       "      <td>2019</td>\n",
       "    </tr>\n",
       "    <tr>\n",
       "      <th>2</th>\n",
       "      <td>2019-08-01 12:03:00</td>\n",
       "      <td>סטודנט/ית</td>\n",
       "      <td>אוניברסיטה פתוחה</td>\n",
       "      <td>מוסד ממשלתי</td>\n",
       "      <td>רכז פרוייקטים</td>\n",
       "      <td>NaN</td>\n",
       "      <td>1</td>\n",
       "      <td>3000.0</td>\n",
       "      <td>שעתי</td>\n",
       "      <td>NaN</td>\n",
       "      <td>לא</td>\n",
       "      <td>2019</td>\n",
       "    </tr>\n",
       "    <tr>\n",
       "      <th>3</th>\n",
       "      <td>2019-08-01 12:05:00</td>\n",
       "      <td>סטודנט/ית</td>\n",
       "      <td>אוניברסיטה פתוחה</td>\n",
       "      <td>מוסד ממשלתי</td>\n",
       "      <td>ניתוח נתונים</td>\n",
       "      <td>ZIM</td>\n",
       "      <td>1</td>\n",
       "      <td>40.0</td>\n",
       "      <td>שעתי</td>\n",
       "      <td>NaN</td>\n",
       "      <td>לא</td>\n",
       "      <td>2019</td>\n",
       "    </tr>\n",
       "    <tr>\n",
       "      <th>4</th>\n",
       "      <td>2019-08-01 12:09:00</td>\n",
       "      <td>סטודנט/ית</td>\n",
       "      <td>אוניברסיטה פתוחה</td>\n",
       "      <td>הייטק</td>\n",
       "      <td>ניהול פרוייקטים PMO</td>\n",
       "      <td>AtoZ</td>\n",
       "      <td>1</td>\n",
       "      <td>12000.0</td>\n",
       "      <td>גלובלי</td>\n",
       "      <td>NaN</td>\n",
       "      <td>לא</td>\n",
       "      <td>2019</td>\n",
       "    </tr>\n",
       "  </tbody>\n",
       "</table>\n",
       "</div>"
      ],
      "text/plain": [
       "                 Date     Status          Facility Classification  \\\n",
       "0 2019-08-01 11:41:00  סטודנט/ית  אוניברסיטה פתוחה            NaN   \n",
       "1 2019-08-01 11:49:00  סטודנט/ית  אוניברסיטה פתוחה          הייטק   \n",
       "2 2019-08-01 12:03:00  סטודנט/ית  אוניברסיטה פתוחה    מוסד ממשלתי   \n",
       "3 2019-08-01 12:05:00  סטודנט/ית  אוניברסיטה פתוחה    מוסד ממשלתי   \n",
       "4 2019-08-01 12:09:00  סטודנט/ית  אוניברסיטה פתוחה          הייטק   \n",
       "\n",
       "        Specialization Company Experience   Salary Salary_kind Remarks  Car  \\\n",
       "0         ניתוח נתונים     NaN         2+  20000.0      גלובלי     NaN  NaN   \n",
       "1                   QA  Oracle         2+  30000.0      גלובלי     NaN   לא   \n",
       "2        רכז פרוייקטים     NaN          1   3000.0        שעתי     NaN   לא   \n",
       "3         ניתוח נתונים     ZIM          1     40.0        שעתי     NaN   לא   \n",
       "4  ניהול פרוייקטים PMO    AtoZ          1  12000.0      גלובלי     NaN   לא   \n",
       "\n",
       "   Year  \n",
       "0  2019  \n",
       "1  2019  \n",
       "2  2019  \n",
       "3  2019  \n",
       "4  2019  "
      ]
     },
     "execution_count": 63,
     "metadata": {},
     "output_type": "execute_result"
    }
   ],
   "source": [
    "industriel_data_df['Date'] = pd.to_datetime(industriel_data_df['Date'])\n",
    "industriel_data_df['Year'] = pd.DatetimeIndex(industriel_data_df['Date']).year\n",
    "industriel_data_df.head()"
   ]
  },
  {
   "cell_type": "code",
   "execution_count": 64,
   "metadata": {},
   "outputs": [
    {
     "data": {
      "text/plain": [
       "Date              datetime64[ns]\n",
       "Status                    object\n",
       "Facility                  object\n",
       "Classification            object\n",
       "Specialization            object\n",
       "Company                   object\n",
       "Experience                object\n",
       "Salary                   float64\n",
       "Salary_kind               object\n",
       "Remarks                   object\n",
       "Car                       object\n",
       "Year                       int64\n",
       "dtype: object"
      ]
     },
     "execution_count": 64,
     "metadata": {},
     "output_type": "execute_result"
    }
   ],
   "source": [
    "industriel_data_df.dtypes"
   ]
  },
  {
   "cell_type": "markdown",
   "metadata": {},
   "source": [
    "##### droping unnecessary columns and fixing missing values"
   ]
  },
  {
   "cell_type": "code",
   "execution_count": 66,
   "metadata": {},
   "outputs": [
    {
     "data": {
      "text/plain": [
       "Remarks           278\n",
       "Company           238\n",
       "Car                19\n",
       "Classification      1\n",
       "Year                0\n",
       "Salary_kind         0\n",
       "Salary              0\n",
       "Experience          0\n",
       "Specialization      0\n",
       "Facility            0\n",
       "Status              0\n",
       "Date                0\n",
       "dtype: int64"
      ]
     },
     "execution_count": 66,
     "metadata": {},
     "output_type": "execute_result"
    }
   ],
   "source": [
    "industriel_data_df.isnull().sum().sort_values(ascending=False)"
   ]
  },
  {
   "cell_type": "code",
   "execution_count": 67,
   "metadata": {},
   "outputs": [
    {
     "data": {
      "text/html": [
       "<div>\n",
       "<style scoped>\n",
       "    .dataframe tbody tr th:only-of-type {\n",
       "        vertical-align: middle;\n",
       "    }\n",
       "\n",
       "    .dataframe tbody tr th {\n",
       "        vertical-align: top;\n",
       "    }\n",
       "\n",
       "    .dataframe thead th {\n",
       "        text-align: right;\n",
       "    }\n",
       "</style>\n",
       "<table border=\"1\" class=\"dataframe\">\n",
       "  <thead>\n",
       "    <tr style=\"text-align: right;\">\n",
       "      <th></th>\n",
       "      <th>Status</th>\n",
       "      <th>Facility</th>\n",
       "      <th>Classification</th>\n",
       "      <th>Specialization</th>\n",
       "      <th>Company</th>\n",
       "      <th>Experience</th>\n",
       "      <th>Salary</th>\n",
       "      <th>Salary_kind</th>\n",
       "      <th>Car</th>\n",
       "      <th>Year</th>\n",
       "    </tr>\n",
       "  </thead>\n",
       "  <tbody>\n",
       "    <tr>\n",
       "      <th>0</th>\n",
       "      <td>סטודנט/ית</td>\n",
       "      <td>אוניברסיטה פתוחה</td>\n",
       "      <td>לא הוזן</td>\n",
       "      <td>ניתוח נתונים</td>\n",
       "      <td>לא הוזן</td>\n",
       "      <td>2+</td>\n",
       "      <td>20000.0</td>\n",
       "      <td>גלובלי</td>\n",
       "      <td>לא הוזן</td>\n",
       "      <td>2019</td>\n",
       "    </tr>\n",
       "    <tr>\n",
       "      <th>1</th>\n",
       "      <td>סטודנט/ית</td>\n",
       "      <td>אוניברסיטה פתוחה</td>\n",
       "      <td>הייטק</td>\n",
       "      <td>QA</td>\n",
       "      <td>Oracle</td>\n",
       "      <td>2+</td>\n",
       "      <td>30000.0</td>\n",
       "      <td>גלובלי</td>\n",
       "      <td>לא</td>\n",
       "      <td>2019</td>\n",
       "    </tr>\n",
       "    <tr>\n",
       "      <th>2</th>\n",
       "      <td>סטודנט/ית</td>\n",
       "      <td>אוניברסיטה פתוחה</td>\n",
       "      <td>מוסד ממשלתי</td>\n",
       "      <td>רכז פרוייקטים</td>\n",
       "      <td>לא הוזן</td>\n",
       "      <td>1</td>\n",
       "      <td>3000.0</td>\n",
       "      <td>שעתי</td>\n",
       "      <td>לא</td>\n",
       "      <td>2019</td>\n",
       "    </tr>\n",
       "    <tr>\n",
       "      <th>3</th>\n",
       "      <td>סטודנט/ית</td>\n",
       "      <td>אוניברסיטה פתוחה</td>\n",
       "      <td>מוסד ממשלתי</td>\n",
       "      <td>ניתוח נתונים</td>\n",
       "      <td>ZIM</td>\n",
       "      <td>1</td>\n",
       "      <td>40.0</td>\n",
       "      <td>שעתי</td>\n",
       "      <td>לא</td>\n",
       "      <td>2019</td>\n",
       "    </tr>\n",
       "    <tr>\n",
       "      <th>4</th>\n",
       "      <td>סטודנט/ית</td>\n",
       "      <td>אוניברסיטה פתוחה</td>\n",
       "      <td>הייטק</td>\n",
       "      <td>ניהול פרוייקטים PMO</td>\n",
       "      <td>AtoZ</td>\n",
       "      <td>1</td>\n",
       "      <td>12000.0</td>\n",
       "      <td>גלובלי</td>\n",
       "      <td>לא</td>\n",
       "      <td>2019</td>\n",
       "    </tr>\n",
       "  </tbody>\n",
       "</table>\n",
       "</div>"
      ],
      "text/plain": [
       "      Status          Facility Classification       Specialization  Company  \\\n",
       "0  סטודנט/ית  אוניברסיטה פתוחה        לא הוזן         ניתוח נתונים  לא הוזן   \n",
       "1  סטודנט/ית  אוניברסיטה פתוחה          הייטק                   QA   Oracle   \n",
       "2  סטודנט/ית  אוניברסיטה פתוחה    מוסד ממשלתי        רכז פרוייקטים  לא הוזן   \n",
       "3  סטודנט/ית  אוניברסיטה פתוחה    מוסד ממשלתי         ניתוח נתונים      ZIM   \n",
       "4  סטודנט/ית  אוניברסיטה פתוחה          הייטק  ניהול פרוייקטים PMO     AtoZ   \n",
       "\n",
       "  Experience   Salary Salary_kind      Car  Year  \n",
       "0         2+  20000.0      גלובלי  לא הוזן  2019  \n",
       "1         2+  30000.0      גלובלי       לא  2019  \n",
       "2          1   3000.0        שעתי       לא  2019  \n",
       "3          1     40.0        שעתי       לא  2019  \n",
       "4          1  12000.0      גלובלי       לא  2019  "
      ]
     },
     "execution_count": 67,
     "metadata": {},
     "output_type": "execute_result"
    }
   ],
   "source": [
    "irrelevant_columns=['Remarks','Date']\n",
    "industriel_data_df.drop(irrelevant_columns,axis='columns' ,inplace=True)\n",
    "industriel_data_df[\"Company\"].fillna(\"לא הוזן\",inplace=True)\n",
    "industriel_data_df[\"Car\"].fillna(\"לא הוזן\",inplace=True)\n",
    "industriel_data_df[\"Classification\"].fillna(\"לא הוזן\",inplace=True)\n",
    "industriel_data_df.head()"
   ]
  },
  {
   "cell_type": "code",
   "execution_count": 68,
   "metadata": {},
   "outputs": [
    {
     "data": {
      "text/plain": [
       "Year              0\n",
       "Car               0\n",
       "Salary_kind       0\n",
       "Salary            0\n",
       "Experience        0\n",
       "Company           0\n",
       "Specialization    0\n",
       "Classification    0\n",
       "Facility          0\n",
       "Status            0\n",
       "dtype: int64"
      ]
     },
     "execution_count": 68,
     "metadata": {},
     "output_type": "execute_result"
    }
   ],
   "source": [
    "industriel_data_df.isnull().sum().sort_values(ascending=False)"
   ]
  },
  {
   "cell_type": "markdown",
   "metadata": {},
   "source": [
    "1"
   ]
  },
  {
   "cell_type": "code",
   "execution_count": 69,
   "metadata": {},
   "outputs": [
    {
     "data": {
      "text/html": [
       "<div>\n",
       "<style scoped>\n",
       "    .dataframe tbody tr th:only-of-type {\n",
       "        vertical-align: middle;\n",
       "    }\n",
       "\n",
       "    .dataframe tbody tr th {\n",
       "        vertical-align: top;\n",
       "    }\n",
       "\n",
       "    .dataframe thead th {\n",
       "        text-align: right;\n",
       "    }\n",
       "</style>\n",
       "<table border=\"1\" class=\"dataframe\">\n",
       "  <thead>\n",
       "    <tr style=\"text-align: right;\">\n",
       "      <th></th>\n",
       "      <th>Status</th>\n",
       "      <th>Facility</th>\n",
       "      <th>Classification</th>\n",
       "      <th>Specialization</th>\n",
       "      <th>Company</th>\n",
       "      <th>Experience</th>\n",
       "      <th>Salary</th>\n",
       "      <th>Salary_kind</th>\n",
       "      <th>Car</th>\n",
       "      <th>Year</th>\n",
       "    </tr>\n",
       "  </thead>\n",
       "  <tbody>\n",
       "    <tr>\n",
       "      <th>0</th>\n",
       "      <td>סטודנט/ית</td>\n",
       "      <td>אוניברסיטה פתוחה</td>\n",
       "      <td>לא הוזן</td>\n",
       "      <td>ניתוח נתונים</td>\n",
       "      <td>לא הוזן</td>\n",
       "      <td>2+</td>\n",
       "      <td>20000.0</td>\n",
       "      <td>גלובלי</td>\n",
       "      <td>לא הוזן</td>\n",
       "      <td>2019</td>\n",
       "    </tr>\n",
       "    <tr>\n",
       "      <th>1</th>\n",
       "      <td>סטודנט/ית</td>\n",
       "      <td>אוניברסיטה פתוחה</td>\n",
       "      <td>הייטק</td>\n",
       "      <td>QA</td>\n",
       "      <td>Oracle</td>\n",
       "      <td>2+</td>\n",
       "      <td>30000.0</td>\n",
       "      <td>גלובלי</td>\n",
       "      <td>לא</td>\n",
       "      <td>2019</td>\n",
       "    </tr>\n",
       "    <tr>\n",
       "      <th>2</th>\n",
       "      <td>סטודנט/ית</td>\n",
       "      <td>אוניברסיטה פתוחה</td>\n",
       "      <td>מוסד ממשלתי</td>\n",
       "      <td>רכז פרוייקטים</td>\n",
       "      <td>לא הוזן</td>\n",
       "      <td>1</td>\n",
       "      <td>3000.0</td>\n",
       "      <td>שעתי</td>\n",
       "      <td>לא</td>\n",
       "      <td>2019</td>\n",
       "    </tr>\n",
       "    <tr>\n",
       "      <th>3</th>\n",
       "      <td>סטודנט/ית</td>\n",
       "      <td>אוניברסיטה פתוחה</td>\n",
       "      <td>מוסד ממשלתי</td>\n",
       "      <td>ניתוח נתונים</td>\n",
       "      <td>ZIM</td>\n",
       "      <td>1</td>\n",
       "      <td>40.0</td>\n",
       "      <td>שעתי</td>\n",
       "      <td>לא</td>\n",
       "      <td>2019</td>\n",
       "    </tr>\n",
       "    <tr>\n",
       "      <th>4</th>\n",
       "      <td>סטודנט/ית</td>\n",
       "      <td>אוניברסיטה פתוחה</td>\n",
       "      <td>הייטק</td>\n",
       "      <td>ניהול פרוייקטים PMO</td>\n",
       "      <td>AtoZ</td>\n",
       "      <td>1</td>\n",
       "      <td>12000.0</td>\n",
       "      <td>גלובלי</td>\n",
       "      <td>לא</td>\n",
       "      <td>2019</td>\n",
       "    </tr>\n",
       "  </tbody>\n",
       "</table>\n",
       "</div>"
      ],
      "text/plain": [
       "      Status          Facility Classification       Specialization  Company  \\\n",
       "0  סטודנט/ית  אוניברסיטה פתוחה        לא הוזן         ניתוח נתונים  לא הוזן   \n",
       "1  סטודנט/ית  אוניברסיטה פתוחה          הייטק                   QA   Oracle   \n",
       "2  סטודנט/ית  אוניברסיטה פתוחה    מוסד ממשלתי        רכז פרוייקטים  לא הוזן   \n",
       "3  סטודנט/ית  אוניברסיטה פתוחה    מוסד ממשלתי         ניתוח נתונים      ZIM   \n",
       "4  סטודנט/ית  אוניברסיטה פתוחה          הייטק  ניהול פרוייקטים PMO     AtoZ   \n",
       "\n",
       "  Experience   Salary Salary_kind      Car  Year  \n",
       "0         2+  20000.0      גלובלי  לא הוזן  2019  \n",
       "1         2+  30000.0      גלובלי       לא  2019  \n",
       "2          1   3000.0        שעתי       לא  2019  \n",
       "3          1     40.0        שעתי       לא  2019  \n",
       "4          1  12000.0      גלובלי       לא  2019  "
      ]
     },
     "execution_count": 69,
     "metadata": {},
     "output_type": "execute_result"
    }
   ],
   "source": [
    "industriel_data_df.head()"
   ]
  },
  {
   "cell_type": "code",
   "execution_count": 70,
   "metadata": {},
   "outputs": [
    {
     "data": {
      "text/plain": [
       "array(['אוניברסיטה פתוחה', 'אוניברסיטת אריאל', 'אוניברסיטת בר אילן',\n",
       "       'אוניברסיטת חיפה', 'אוניברסיטת תל אביב', 'בן גוריון',\n",
       "       'האקדמית עמק יזרעאל', 'האקדמית תל אביב יפו',\n",
       "       'המכללה להנדסה ירושלים', 'המכללה למינהל', 'המרכז האקדמי לב',\n",
       "       'טכניון', 'לא מהנדס , הנדסאי', 'מוסד ממש טוב', 'מכללת אורט בראודה',\n",
       "       'מכללת אפקה', 'מכללת סמי שמעון', 'מכללת ספיר', 'מכללת רופין',\n",
       "       'מכללת שנקר'], dtype=object)"
      ]
     },
     "execution_count": 70,
     "metadata": {},
     "output_type": "execute_result"
    }
   ],
   "source": [
    "pd.unique(industriel_data_df.Facility)"
   ]
  },
  {
   "cell_type": "code",
   "execution_count": 71,
   "metadata": {},
   "outputs": [],
   "source": [
    "industriel_data_df.drop(industriel_data_df[industriel_data_df.Facility == \"מוסד ממש טוב\"].index, inplace=True)\n",
    "industriel_data_df.drop(industriel_data_df[industriel_data_df.Facility == \"לא מהנדס , הנדסאי\"].index, inplace=True)"
   ]
  },
  {
   "cell_type": "code",
   "execution_count": 72,
   "metadata": {},
   "outputs": [
    {
     "data": {
      "text/plain": [
       "array(['אוניברסיטה פתוחה', 'אוניברסיטת אריאל', 'אוניברסיטת בר אילן',\n",
       "       'אוניברסיטת חיפה', 'אוניברסיטת תל אביב', 'בן גוריון',\n",
       "       'האקדמית עמק יזרעאל', 'האקדמית תל אביב יפו',\n",
       "       'המכללה להנדסה ירושלים', 'המכללה למינהל', 'המרכז האקדמי לב',\n",
       "       'טכניון', 'מכללת אורט בראודה', 'מכללת אפקה', 'מכללת סמי שמעון',\n",
       "       'מכללת ספיר', 'מכללת רופין', 'מכללת שנקר'], dtype=object)"
      ]
     },
     "execution_count": 72,
     "metadata": {},
     "output_type": "execute_result"
    }
   ],
   "source": [
    "pd.unique(industriel_data_df.Facility)"
   ]
  },
  {
   "cell_type": "code",
   "execution_count": 73,
   "metadata": {},
   "outputs": [],
   "source": [
    "#industriel_data_df.iloc[industriel_data_df[industriel_data_df.Facility == \"בן גוריון\"].index, 1] = \"אוניברסיטת בן גוריון\""
   ]
  },
  {
   "cell_type": "code",
   "execution_count": 74,
   "metadata": {},
   "outputs": [],
   "source": [
    "industriel_data_df.loc[industriel_data_df[industriel_data_df.Facility == \"בן גוריון\"].index, \"Facility\"] = \"אוניברסיטת בן גוריון\""
   ]
  },
  {
   "cell_type": "code",
   "execution_count": 75,
   "metadata": {},
   "outputs": [
    {
     "data": {
      "text/plain": [
       "array(['אוניברסיטה פתוחה', 'אוניברסיטת אריאל', 'אוניברסיטת בר אילן',\n",
       "       'אוניברסיטת חיפה', 'אוניברסיטת תל אביב', 'אוניברסיטת בן גוריון',\n",
       "       'האקדמית עמק יזרעאל', 'האקדמית תל אביב יפו',\n",
       "       'המכללה להנדסה ירושלים', 'המכללה למינהל', 'המרכז האקדמי לב',\n",
       "       'טכניון', 'מכללת אורט בראודה', 'מכללת אפקה', 'מכללת סמי שמעון',\n",
       "       'מכללת ספיר', 'מכללת רופין', 'מכללת שנקר'], dtype=object)"
      ]
     },
     "execution_count": 75,
     "metadata": {},
     "output_type": "execute_result"
    }
   ],
   "source": [
    "pd.unique(industriel_data_df.Facility)"
   ]
  },
  {
   "cell_type": "code",
   "execution_count": 76,
   "metadata": {},
   "outputs": [
    {
     "data": {
      "text/html": [
       "<div>\n",
       "<style scoped>\n",
       "    .dataframe tbody tr th:only-of-type {\n",
       "        vertical-align: middle;\n",
       "    }\n",
       "\n",
       "    .dataframe tbody tr th {\n",
       "        vertical-align: top;\n",
       "    }\n",
       "\n",
       "    .dataframe thead th {\n",
       "        text-align: right;\n",
       "    }\n",
       "</style>\n",
       "<table border=\"1\" class=\"dataframe\">\n",
       "  <thead>\n",
       "    <tr style=\"text-align: right;\">\n",
       "      <th></th>\n",
       "      <th>Status</th>\n",
       "      <th>Facility</th>\n",
       "      <th>Classification</th>\n",
       "      <th>Specialization</th>\n",
       "      <th>Company</th>\n",
       "      <th>Experience</th>\n",
       "      <th>Salary</th>\n",
       "      <th>Salary_kind</th>\n",
       "      <th>Car</th>\n",
       "      <th>Year</th>\n",
       "      <th>type</th>\n",
       "    </tr>\n",
       "  </thead>\n",
       "  <tbody>\n",
       "    <tr>\n",
       "      <th>0</th>\n",
       "      <td>סטודנט/ית</td>\n",
       "      <td>אוניברסיטה פתוחה</td>\n",
       "      <td>לא הוזן</td>\n",
       "      <td>ניתוח נתונים</td>\n",
       "      <td>לא הוזן</td>\n",
       "      <td>2+</td>\n",
       "      <td>20000.0</td>\n",
       "      <td>גלובלי</td>\n",
       "      <td>לא הוזן</td>\n",
       "      <td>2019</td>\n",
       "      <td>אוניברסיטה</td>\n",
       "    </tr>\n",
       "    <tr>\n",
       "      <th>1</th>\n",
       "      <td>סטודנט/ית</td>\n",
       "      <td>אוניברסיטה פתוחה</td>\n",
       "      <td>הייטק</td>\n",
       "      <td>QA</td>\n",
       "      <td>Oracle</td>\n",
       "      <td>2+</td>\n",
       "      <td>30000.0</td>\n",
       "      <td>גלובלי</td>\n",
       "      <td>לא</td>\n",
       "      <td>2019</td>\n",
       "      <td>אוניברסיטה</td>\n",
       "    </tr>\n",
       "    <tr>\n",
       "      <th>2</th>\n",
       "      <td>סטודנט/ית</td>\n",
       "      <td>אוניברסיטה פתוחה</td>\n",
       "      <td>מוסד ממשלתי</td>\n",
       "      <td>רכז פרוייקטים</td>\n",
       "      <td>לא הוזן</td>\n",
       "      <td>1</td>\n",
       "      <td>3000.0</td>\n",
       "      <td>שעתי</td>\n",
       "      <td>לא</td>\n",
       "      <td>2019</td>\n",
       "      <td>אוניברסיטה</td>\n",
       "    </tr>\n",
       "    <tr>\n",
       "      <th>3</th>\n",
       "      <td>סטודנט/ית</td>\n",
       "      <td>אוניברסיטה פתוחה</td>\n",
       "      <td>מוסד ממשלתי</td>\n",
       "      <td>ניתוח נתונים</td>\n",
       "      <td>ZIM</td>\n",
       "      <td>1</td>\n",
       "      <td>40.0</td>\n",
       "      <td>שעתי</td>\n",
       "      <td>לא</td>\n",
       "      <td>2019</td>\n",
       "      <td>אוניברסיטה</td>\n",
       "    </tr>\n",
       "    <tr>\n",
       "      <th>4</th>\n",
       "      <td>סטודנט/ית</td>\n",
       "      <td>אוניברסיטה פתוחה</td>\n",
       "      <td>הייטק</td>\n",
       "      <td>ניהול פרוייקטים PMO</td>\n",
       "      <td>AtoZ</td>\n",
       "      <td>1</td>\n",
       "      <td>12000.0</td>\n",
       "      <td>גלובלי</td>\n",
       "      <td>לא</td>\n",
       "      <td>2019</td>\n",
       "      <td>אוניברסיטה</td>\n",
       "    </tr>\n",
       "    <tr>\n",
       "      <th>...</th>\n",
       "      <td>...</td>\n",
       "      <td>...</td>\n",
       "      <td>...</td>\n",
       "      <td>...</td>\n",
       "      <td>...</td>\n",
       "      <td>...</td>\n",
       "      <td>...</td>\n",
       "      <td>...</td>\n",
       "      <td>...</td>\n",
       "      <td>...</td>\n",
       "      <td>...</td>\n",
       "    </tr>\n",
       "    <tr>\n",
       "      <th>474</th>\n",
       "      <td>סטודנט/ית</td>\n",
       "      <td>מכללת שנקר</td>\n",
       "      <td>הייטק</td>\n",
       "      <td>ניתוח, עיצוב, איפיון והטמעה של מערכות מידע</td>\n",
       "      <td>FBC</td>\n",
       "      <td>1</td>\n",
       "      <td>5000.0</td>\n",
       "      <td>שעתי</td>\n",
       "      <td>לא</td>\n",
       "      <td>2021</td>\n",
       "      <td>מכללה</td>\n",
       "    </tr>\n",
       "    <tr>\n",
       "      <th>475</th>\n",
       "      <td>סטודנט/ית</td>\n",
       "      <td>מכללת שנקר</td>\n",
       "      <td>הייטק</td>\n",
       "      <td>Noc</td>\n",
       "      <td>Radware</td>\n",
       "      <td>1</td>\n",
       "      <td>70.0</td>\n",
       "      <td>שעתי</td>\n",
       "      <td>לא</td>\n",
       "      <td>2021</td>\n",
       "      <td>מכללה</td>\n",
       "    </tr>\n",
       "    <tr>\n",
       "      <th>476</th>\n",
       "      <td>סטודנט/ית</td>\n",
       "      <td>מכללת שנקר</td>\n",
       "      <td>הייטק</td>\n",
       "      <td>תפעול וייצור</td>\n",
       "      <td>לא הוזן</td>\n",
       "      <td>1</td>\n",
       "      <td>9500.0</td>\n",
       "      <td>גלובלי</td>\n",
       "      <td>לא</td>\n",
       "      <td>2021</td>\n",
       "      <td>מכללה</td>\n",
       "    </tr>\n",
       "    <tr>\n",
       "      <th>477</th>\n",
       "      <td>סטודנט/ית</td>\n",
       "      <td>מכללת שנקר</td>\n",
       "      <td>תעשייה מסורתית</td>\n",
       "      <td>ניתוח נתונים</td>\n",
       "      <td>לא הוזן</td>\n",
       "      <td>1</td>\n",
       "      <td>4000.0</td>\n",
       "      <td>שעתי</td>\n",
       "      <td>לא</td>\n",
       "      <td>2021</td>\n",
       "      <td>מכללה</td>\n",
       "    </tr>\n",
       "    <tr>\n",
       "      <th>478</th>\n",
       "      <td>בוגר/ת</td>\n",
       "      <td>מכללת שנקר</td>\n",
       "      <td>חברת ecommerce</td>\n",
       "      <td>ניהול פרוייקטים,  PMO</td>\n",
       "      <td>פאנקו</td>\n",
       "      <td>1</td>\n",
       "      <td>11000.0</td>\n",
       "      <td>שעתי</td>\n",
       "      <td>לא</td>\n",
       "      <td>2021</td>\n",
       "      <td>מכללה</td>\n",
       "    </tr>\n",
       "  </tbody>\n",
       "</table>\n",
       "<p>477 rows × 11 columns</p>\n",
       "</div>"
      ],
      "text/plain": [
       "        Status          Facility  Classification  \\\n",
       "0    סטודנט/ית  אוניברסיטה פתוחה         לא הוזן   \n",
       "1    סטודנט/ית  אוניברסיטה פתוחה           הייטק   \n",
       "2    סטודנט/ית  אוניברסיטה פתוחה     מוסד ממשלתי   \n",
       "3    סטודנט/ית  אוניברסיטה פתוחה     מוסד ממשלתי   \n",
       "4    סטודנט/ית  אוניברסיטה פתוחה           הייטק   \n",
       "..         ...               ...             ...   \n",
       "474  סטודנט/ית        מכללת שנקר           הייטק   \n",
       "475  סטודנט/ית        מכללת שנקר           הייטק   \n",
       "476  סטודנט/ית        מכללת שנקר           הייטק   \n",
       "477  סטודנט/ית        מכללת שנקר  תעשייה מסורתית   \n",
       "478     בוגר/ת        מכללת שנקר  חברת ecommerce   \n",
       "\n",
       "                                 Specialization  Company Experience   Salary  \\\n",
       "0                                  ניתוח נתונים  לא הוזן         2+  20000.0   \n",
       "1                                            QA   Oracle         2+  30000.0   \n",
       "2                                 רכז פרוייקטים  לא הוזן          1   3000.0   \n",
       "3                                  ניתוח נתונים      ZIM          1     40.0   \n",
       "4                           ניהול פרוייקטים PMO     AtoZ          1  12000.0   \n",
       "..                                          ...      ...        ...      ...   \n",
       "474  ניתוח, עיצוב, איפיון והטמעה של מערכות מידע      FBC          1   5000.0   \n",
       "475                                         Noc  Radware          1     70.0   \n",
       "476                                תפעול וייצור  לא הוזן          1   9500.0   \n",
       "477                                ניתוח נתונים  לא הוזן          1   4000.0   \n",
       "478                       ניהול פרוייקטים,  PMO    פאנקו          1  11000.0   \n",
       "\n",
       "    Salary_kind      Car  Year        type  \n",
       "0        גלובלי  לא הוזן  2019  אוניברסיטה  \n",
       "1        גלובלי       לא  2019  אוניברסיטה  \n",
       "2          שעתי       לא  2019  אוניברסיטה  \n",
       "3          שעתי       לא  2019  אוניברסיטה  \n",
       "4        גלובלי       לא  2019  אוניברסיטה  \n",
       "..          ...      ...   ...         ...  \n",
       "474        שעתי       לא  2021       מכללה  \n",
       "475        שעתי       לא  2021       מכללה  \n",
       "476      גלובלי       לא  2021       מכללה  \n",
       "477        שעתי       לא  2021       מכללה  \n",
       "478        שעתי       לא  2021       מכללה  \n",
       "\n",
       "[477 rows x 11 columns]"
      ]
     },
     "execution_count": 76,
     "metadata": {},
     "output_type": "execute_result"
    }
   ],
   "source": [
    "my_type = []\n",
    "for facility in industriel_data_df.Facility:\n",
    "    if \"אוניברסיטה\" in facility or \"אוניברסיטת\" in facility:\n",
    "        my_type.append(\"אוניברסיטה\")\n",
    "    elif \"טכניון\" in facility:\n",
    "        my_type.append(\"אוניברסיטה\")\n",
    "    else:\n",
    "        my_type.append(\"מכללה\")\n",
    "industriel_data_df['type'] = my_type\n",
    "industriel_data_df"
   ]
  },
  {
   "cell_type": "markdown",
   "metadata": {},
   "source": [
    "### Histograms:"
   ]
  },
  {
   "cell_type": "code",
   "execution_count": 77,
   "metadata": {},
   "outputs": [],
   "source": [
    "#features= ['Status', 'Facility', 'Experience', 'type']\n",
    "#fig, axes=plt.subplots(2,2,figsize=(10,10))\n",
    "#plt.subplots_adjust(wspace=0.5, hspace=0.3)\n",
    "#axes=axes.flatten\n",
    "#for i,att in enumerate(features):\n",
    "#    sns.histplot(x=att, data=industriel_data_df, ax=axes[i])"
   ]
  },
  {
   "cell_type": "markdown",
   "metadata": {},
   "source": [
    "#### Heat map in order to find correlations: (wont help... only 2 numeric collumns)"
   ]
  },
  {
   "cell_type": "code",
   "execution_count": 78,
   "metadata": {},
   "outputs": [],
   "source": [
    "#corrs=industriel_data_df.corr(method='kendall')\n",
    "#plt.figure(figsize=(10,10))\n",
    "#sns.heatmap(corrs, cmap='coolwarm', center=0, annot=True)"
   ]
  },
  {
   "cell_type": "markdown",
   "metadata": {},
   "source": [
    "# starting to play with data in order to find correlations:"
   ]
  },
  {
   "cell_type": "markdown",
   "metadata": {},
   "source": [
    "## experience vs income graduate:"
   ]
  },
  {
   "cell_type": "code",
   "execution_count": 79,
   "metadata": {},
   "outputs": [],
   "source": [
    "counts = pd.value_counts(industriel_data_df.Facility)"
   ]
  },
  {
   "cell_type": "code",
   "execution_count": 80,
   "metadata": {},
   "outputs": [],
   "source": [
    "industriel_data_df_filter = industriel_data_df.loc[industriel_data_df.Facility.isin(counts[counts > 10].index), :]\n",
    "industriel_data_df_filter = industriel_data_df_filter[industriel_data_df_filter.Status == \"בוגר/ת\"]"
   ]
  },
  {
   "cell_type": "code",
   "execution_count": 81,
   "metadata": {},
   "outputs": [],
   "source": [
    "# sns.regplot(x='Salary', y='Experience', data= industriel_data_df)"
   ]
  },
  {
   "cell_type": "markdown",
   "metadata": {},
   "source": [
    "## Specialization vs Salary:"
   ]
  },
  {
   "cell_type": "code",
   "execution_count": 82,
   "metadata": {},
   "outputs": [
    {
     "data": {
      "text/plain": [
       "array(['ניתוח נתונים', 'QA', 'רכז פרוייקטים', 'ניהול פרוייקטים PMO',\n",
       "       'ניתוח, עיצוב, איפיון והטמעה של מערכות מידע, QA',\n",
       "       'הנדסת ארגון ושיטות', 'ניתוח, עיצוב, איפיון והטמעה של מערכות מידע',\n",
       "       'ניהול פרוייקטים,  PMO, ניתוח, עיצוב, איפיון והטמעה של מערכות מידע',\n",
       "       'מיישם מערכות מידע', 'פלנר', 'אינטגרטור', 'תפעול וייצור',\n",
       "       'תכנון ובקרה', 'רכש', 'ערכית תוכן , רשתות חברתיות',\n",
       "       'ניהול פרוייקטים, PMO', 'ניהול פרוייקטים,  PMO',\n",
       "       'ניתוח נתונים , ניתוח, עיצוב, איפיון והטמעה של מערכות מידע, QA',\n",
       "       'Devops', 'הנדסת ארגון ושיטות, תפעול וייצור, לוגיסטיקה',\n",
       "       'פתיחות תיקים ודוחות תפעוליים',\n",
       "       'ניהול פרוייקטים,  PMO, ניתוח נתונים ',\n",
       "       'פקיד מזונות, פתיחת תיקים ודוחות תפעוליים', 'הנדסת איכות',\n",
       "       'הנדסת ארגון ושיטות, ייעוץ לוגיסטי', 'ניתוח נתונים , כלכלן',\n",
       "       'ניהול מערכות מידע', 'ניתוח נתונים , הנדסת ארגון ושיטות',\n",
       "       'ניתוח נתונים , מדעי נתונים ', 'ניהול פרוייקטים,  PMO, System',\n",
       "       'הנדסת ארגון ושיטות, תפעול וייצור',\n",
       "       'ניהול פרוייקטים,  PMO, ניתוח נתונים , הנדסת ארגון ושיטות, תפעול וייצור, תכנות: Frontend/Backend/Fullstack, ניתוח, עיצוב, איפיון והטמעה של מערכות מידע, QA, QA, Devops',\n",
       "       'מדעי נתונים - Data science',\n",
       "       'ניהול פרוייקטים,  PMO, ניתוח, עיצוב, איפיון והטמעה של מערכות מידע, QA',\n",
       "       'תכנות: Frontend/Backend/Fullstack, ניתוח, עיצוב, איפיון והטמעה של מערכות מידע',\n",
       "       'ניהול פרוייקטים,  PMO, הנדסת ארגון ושיטות', 'רכש ולוגיסטיקה',\n",
       "       'עוזרת מנהל פרוייקט לוגיסטי', 'ניהול',\n",
       "       'ניהול פרוייקטים,  PMO, תפעול וייצור', 'ניהול משרד טכני',\n",
       "       'ניהול פרוייקטים,  PMO, הנדסת ארגון ושיטות, מנהל תהליכים',\n",
       "       'ניהול פרוייקטים,  PMO, ניתוח נתונים , ניתוח, עיצוב, איפיון והטמעה של מערכות מידע',\n",
       "       'Rpa', 'Support',\n",
       "       'ניהול פרוייקטים,  PMO, תפעול וייצור, ניתוח, עיצוב, איפיון והטמעה של מערכות מידע',\n",
       "       'HELP DESK',\n",
       "       'ניתוח, עיצוב, איפיון והטמעה של מערכות מידע, Salesforce',\n",
       "       'הנדסת ארגון ושיטות, ניתוח, עיצוב, איפיון והטמעה של מערכות מידע',\n",
       "       'לוגיסטיקה',\n",
       "       'ניהול פרוייקטים,  PMO, ניתוח נתונים , מדעי נתונים , תפעול וייצור, תכנות: Frontend/Backend/Fullstack, ניתוח, עיצוב, איפיון והטמעה של מערכות מידע',\n",
       "       'אנליסט', 'ניתוח נתונים , תפעול וייצור',\n",
       "       'תכנות: Frontend/Backend/Fullstack',\n",
       "       'ניהול פרוייקטים,  PMO, מדעי נתונים - ניתוח, עיצוב, איפיון והטמעה של מערכות מידע',\n",
       "       'מדעי נתונים - Data science, Data engineering',\n",
       "       'ניהול פרוייקטים,  PMO, ניתוח נתונים , הנדסת ארגון ושיטות, ניתוח, עיצוב, איפיון והטמעה של מערכות מידע',\n",
       "       'חברת ייעוץ', 'תרגום', 'Product analyst', 'מנהל קמפיינים',\n",
       "       'מיישם SFMC', 'מכירות ??',\n",
       "       'תכנות: Frontend/Backend/Fullstack, Devops',\n",
       "       'ייעוץ מערכות טכנולוגיות, ניהול פרויקטים', 'Analyst soc tier 2',\n",
       "       'Cyber security analyst',\n",
       "       'ניהול פרוייקטים,  PMO, ניתוח נתונים , הנדסת ארגון ושיטות',\n",
       "       'Data engineer', 'CI', 'ניתוח נתונים , מדעי נתונים , Devops',\n",
       "       'בקרה תקציבית', 'עוזרת במטלות השוטפות', 'תו\"ב',\n",
       "       'משרת סטודנט בקרת פרויקטים', 'CRM Manager', 'מנהל רכש וקניינות',\n",
       "       'Business Analyst',\n",
       "       'ניהול פרוייקטים,  PMO, הנדסת ארגון ושיטות, תפעול וייצור, ניתוח, עיצוב, איפיון והטמעה של מערכות מידע',\n",
       "       'מפתח RPA', 'מנהלת תפעול ובקרה', 'ניתוח נתונים , Devops',\n",
       "       'System support',\n",
       "       'ניתוח נתונים , ניתוח, עיצוב, איפיון והטמעה של מערכות מידע',\n",
       "       'Operation', 'DevOps &apm engineer',\n",
       "       'ניהול פרוייקטים במערכות מידע',\n",
       "       'ניהול פרוייקטים,  PMO, ניתוח נתונים , הנדסת ארגון ושיטות, תפעול וייצור, ניתוח, עיצוב, איפיון והטמעה של מערכות מידע',\n",
       "       'ניהול פרוייקטים,  PMO, ניתוח נתונים , תכנות: Frontend/Backend/Fullstack',\n",
       "       'ניתוח נתונים , תפעול וייצור, ניתוח, עיצוב, איפיון והטמעה של מערכות מידע',\n",
       "       'יישום מערכות מידע', 'מנהל פרויקטים ומנתח מערכות',\n",
       "       'ניהול קמפיינים דיגיטליים', 'Product manager',\n",
       "       'ניהול פרויקטים מערכות מידע', 'תפעול וייצור, פלנר',\n",
       "       'sales force - support and solutions', 'ייבוא ייצוא',\n",
       "       'יועץ מערכות מידע', 'ביקורת פנימית מבקר ויועץ מערכות מידע',\n",
       "       'יבוא ויצוא', 'IT', 'רכש כ\"א',\n",
       "       'ניהול פרוייקטים,  PMO, אנאליסט מחקר', 'קניינית רכש ומנהלת ספקים',\n",
       "       'הבטחת איכות - הכשרה ותיקוף מערכות ותהליכים',\n",
       "       'ניתוח, עיצוב, איפיון והטמעה של מערכות מידע, יישום מערכת אוטומציה',\n",
       "       'שליחויות', 'ניהול פרוייקטים,  PMO, ייעוץ ניהולי ועסקי',\n",
       "       'הנדסת ארגון ושיטות, Devops, Operations/NOC', 'NOC', 'Noc'],\n",
       "      dtype=object)"
      ]
     },
     "execution_count": 82,
     "metadata": {},
     "output_type": "execute_result"
    }
   ],
   "source": [
    "pd.unique(industriel_data_df.Specialization)"
   ]
  },
  {
   "cell_type": "markdown",
   "metadata": {},
   "source": [
    "### Dividing the data into six subgroups:"
   ]
  },
  {
   "cell_type": "code",
   "execution_count": 85,
   "metadata": {},
   "outputs": [
    {
     "data": {
      "text/html": [
       "<div>\n",
       "<style scoped>\n",
       "    .dataframe tbody tr th:only-of-type {\n",
       "        vertical-align: middle;\n",
       "    }\n",
       "\n",
       "    .dataframe tbody tr th {\n",
       "        vertical-align: top;\n",
       "    }\n",
       "\n",
       "    .dataframe thead th {\n",
       "        text-align: right;\n",
       "    }\n",
       "</style>\n",
       "<table border=\"1\" class=\"dataframe\">\n",
       "  <thead>\n",
       "    <tr style=\"text-align: right;\">\n",
       "      <th></th>\n",
       "      <th>Status</th>\n",
       "      <th>Facility</th>\n",
       "      <th>Classification</th>\n",
       "      <th>Specialization</th>\n",
       "      <th>Company</th>\n",
       "      <th>Experience</th>\n",
       "      <th>Salary</th>\n",
       "      <th>Salary_kind</th>\n",
       "      <th>Car</th>\n",
       "      <th>Year</th>\n",
       "      <th>type</th>\n",
       "      <th>speciality</th>\n",
       "    </tr>\n",
       "  </thead>\n",
       "  <tbody>\n",
       "    <tr>\n",
       "      <th>0</th>\n",
       "      <td>סטודנט/ית</td>\n",
       "      <td>אוניברסיטה פתוחה</td>\n",
       "      <td>לא הוזן</td>\n",
       "      <td>ניתוח נתונים</td>\n",
       "      <td>לא הוזן</td>\n",
       "      <td>2+</td>\n",
       "      <td>20000.0</td>\n",
       "      <td>גלובלי</td>\n",
       "      <td>לא הוזן</td>\n",
       "      <td>2019</td>\n",
       "      <td>אוניברסיטה</td>\n",
       "      <td>ניתוח נתונים</td>\n",
       "    </tr>\n",
       "    <tr>\n",
       "      <th>1</th>\n",
       "      <td>סטודנט/ית</td>\n",
       "      <td>אוניברסיטה פתוחה</td>\n",
       "      <td>הייטק</td>\n",
       "      <td>QA</td>\n",
       "      <td>Oracle</td>\n",
       "      <td>2+</td>\n",
       "      <td>30000.0</td>\n",
       "      <td>גלובלי</td>\n",
       "      <td>לא</td>\n",
       "      <td>2019</td>\n",
       "      <td>אוניברסיטה</td>\n",
       "      <td>אבטחת איכות</td>\n",
       "    </tr>\n",
       "    <tr>\n",
       "      <th>2</th>\n",
       "      <td>סטודנט/ית</td>\n",
       "      <td>אוניברסיטה פתוחה</td>\n",
       "      <td>מוסד ממשלתי</td>\n",
       "      <td>רכז פרוייקטים</td>\n",
       "      <td>לא הוזן</td>\n",
       "      <td>1</td>\n",
       "      <td>3000.0</td>\n",
       "      <td>שעתי</td>\n",
       "      <td>לא</td>\n",
       "      <td>2019</td>\n",
       "      <td>אוניברסיטה</td>\n",
       "      <td>ניהול פרוייקטים</td>\n",
       "    </tr>\n",
       "    <tr>\n",
       "      <th>3</th>\n",
       "      <td>סטודנט/ית</td>\n",
       "      <td>אוניברסיטה פתוחה</td>\n",
       "      <td>מוסד ממשלתי</td>\n",
       "      <td>ניתוח נתונים</td>\n",
       "      <td>ZIM</td>\n",
       "      <td>1</td>\n",
       "      <td>40.0</td>\n",
       "      <td>שעתי</td>\n",
       "      <td>לא</td>\n",
       "      <td>2019</td>\n",
       "      <td>אוניברסיטה</td>\n",
       "      <td>ניתוח נתונים</td>\n",
       "    </tr>\n",
       "    <tr>\n",
       "      <th>4</th>\n",
       "      <td>סטודנט/ית</td>\n",
       "      <td>אוניברסיטה פתוחה</td>\n",
       "      <td>הייטק</td>\n",
       "      <td>ניהול פרוייקטים PMO</td>\n",
       "      <td>AtoZ</td>\n",
       "      <td>1</td>\n",
       "      <td>12000.0</td>\n",
       "      <td>גלובלי</td>\n",
       "      <td>לא</td>\n",
       "      <td>2019</td>\n",
       "      <td>אוניברסיטה</td>\n",
       "      <td>ניהול פרוייקטים</td>\n",
       "    </tr>\n",
       "    <tr>\n",
       "      <th>...</th>\n",
       "      <td>...</td>\n",
       "      <td>...</td>\n",
       "      <td>...</td>\n",
       "      <td>...</td>\n",
       "      <td>...</td>\n",
       "      <td>...</td>\n",
       "      <td>...</td>\n",
       "      <td>...</td>\n",
       "      <td>...</td>\n",
       "      <td>...</td>\n",
       "      <td>...</td>\n",
       "      <td>...</td>\n",
       "    </tr>\n",
       "    <tr>\n",
       "      <th>474</th>\n",
       "      <td>סטודנט/ית</td>\n",
       "      <td>מכללת שנקר</td>\n",
       "      <td>הייטק</td>\n",
       "      <td>ניתוח, עיצוב, איפיון והטמעה של מערכות מידע</td>\n",
       "      <td>FBC</td>\n",
       "      <td>1</td>\n",
       "      <td>5000.0</td>\n",
       "      <td>שעתי</td>\n",
       "      <td>לא</td>\n",
       "      <td>2021</td>\n",
       "      <td>מכללה</td>\n",
       "      <td>ניתוח נתונים</td>\n",
       "    </tr>\n",
       "    <tr>\n",
       "      <th>475</th>\n",
       "      <td>סטודנט/ית</td>\n",
       "      <td>מכללת שנקר</td>\n",
       "      <td>הייטק</td>\n",
       "      <td>Noc</td>\n",
       "      <td>Radware</td>\n",
       "      <td>1</td>\n",
       "      <td>70.0</td>\n",
       "      <td>שעתי</td>\n",
       "      <td>לא</td>\n",
       "      <td>2021</td>\n",
       "      <td>מכללה</td>\n",
       "      <td>אחר</td>\n",
       "    </tr>\n",
       "    <tr>\n",
       "      <th>476</th>\n",
       "      <td>סטודנט/ית</td>\n",
       "      <td>מכללת שנקר</td>\n",
       "      <td>הייטק</td>\n",
       "      <td>תפעול וייצור</td>\n",
       "      <td>לא הוזן</td>\n",
       "      <td>1</td>\n",
       "      <td>9500.0</td>\n",
       "      <td>גלובלי</td>\n",
       "      <td>לא</td>\n",
       "      <td>2021</td>\n",
       "      <td>מכללה</td>\n",
       "      <td>ניהול היצור</td>\n",
       "    </tr>\n",
       "    <tr>\n",
       "      <th>477</th>\n",
       "      <td>סטודנט/ית</td>\n",
       "      <td>מכללת שנקר</td>\n",
       "      <td>תעשייה מסורתית</td>\n",
       "      <td>ניתוח נתונים</td>\n",
       "      <td>לא הוזן</td>\n",
       "      <td>1</td>\n",
       "      <td>4000.0</td>\n",
       "      <td>שעתי</td>\n",
       "      <td>לא</td>\n",
       "      <td>2021</td>\n",
       "      <td>מכללה</td>\n",
       "      <td>ניתוח נתונים</td>\n",
       "    </tr>\n",
       "    <tr>\n",
       "      <th>478</th>\n",
       "      <td>בוגר/ת</td>\n",
       "      <td>מכללת שנקר</td>\n",
       "      <td>חברת ecommerce</td>\n",
       "      <td>ניהול פרוייקטים,  PMO</td>\n",
       "      <td>פאנקו</td>\n",
       "      <td>1</td>\n",
       "      <td>11000.0</td>\n",
       "      <td>שעתי</td>\n",
       "      <td>לא</td>\n",
       "      <td>2021</td>\n",
       "      <td>מכללה</td>\n",
       "      <td>ניהול פרוייקטים</td>\n",
       "    </tr>\n",
       "  </tbody>\n",
       "</table>\n",
       "<p>477 rows × 12 columns</p>\n",
       "</div>"
      ],
      "text/plain": [
       "        Status          Facility  Classification  \\\n",
       "0    סטודנט/ית  אוניברסיטה פתוחה         לא הוזן   \n",
       "1    סטודנט/ית  אוניברסיטה פתוחה           הייטק   \n",
       "2    סטודנט/ית  אוניברסיטה פתוחה     מוסד ממשלתי   \n",
       "3    סטודנט/ית  אוניברסיטה פתוחה     מוסד ממשלתי   \n",
       "4    סטודנט/ית  אוניברסיטה פתוחה           הייטק   \n",
       "..         ...               ...             ...   \n",
       "474  סטודנט/ית        מכללת שנקר           הייטק   \n",
       "475  סטודנט/ית        מכללת שנקר           הייטק   \n",
       "476  סטודנט/ית        מכללת שנקר           הייטק   \n",
       "477  סטודנט/ית        מכללת שנקר  תעשייה מסורתית   \n",
       "478     בוגר/ת        מכללת שנקר  חברת ecommerce   \n",
       "\n",
       "                                 Specialization  Company Experience   Salary  \\\n",
       "0                                  ניתוח נתונים  לא הוזן         2+  20000.0   \n",
       "1                                            QA   Oracle         2+  30000.0   \n",
       "2                                 רכז פרוייקטים  לא הוזן          1   3000.0   \n",
       "3                                  ניתוח נתונים      ZIM          1     40.0   \n",
       "4                           ניהול פרוייקטים PMO     AtoZ          1  12000.0   \n",
       "..                                          ...      ...        ...      ...   \n",
       "474  ניתוח, עיצוב, איפיון והטמעה של מערכות מידע      FBC          1   5000.0   \n",
       "475                                         Noc  Radware          1     70.0   \n",
       "476                                תפעול וייצור  לא הוזן          1   9500.0   \n",
       "477                                ניתוח נתונים  לא הוזן          1   4000.0   \n",
       "478                       ניהול פרוייקטים,  PMO    פאנקו          1  11000.0   \n",
       "\n",
       "    Salary_kind      Car  Year        type       speciality  \n",
       "0        גלובלי  לא הוזן  2019  אוניברסיטה     ניתוח נתונים  \n",
       "1        גלובלי       לא  2019  אוניברסיטה      אבטחת איכות  \n",
       "2          שעתי       לא  2019  אוניברסיטה  ניהול פרוייקטים  \n",
       "3          שעתי       לא  2019  אוניברסיטה     ניתוח נתונים  \n",
       "4        גלובלי       לא  2019  אוניברסיטה  ניהול פרוייקטים  \n",
       "..          ...      ...   ...         ...              ...  \n",
       "474        שעתי       לא  2021       מכללה     ניתוח נתונים  \n",
       "475        שעתי       לא  2021       מכללה              אחר  \n",
       "476      גלובלי       לא  2021       מכללה      ניהול היצור  \n",
       "477        שעתי       לא  2021       מכללה     ניתוח נתונים  \n",
       "478        שעתי       לא  2021       מכללה  ניהול פרוייקטים  \n",
       "\n",
       "[477 rows x 12 columns]"
      ]
     },
     "execution_count": 85,
     "metadata": {},
     "output_type": "execute_result"
    }
   ],
   "source": [
    "my_speciality = []\n",
    "for speciality in industriel_data_df.Specialization:\n",
    "    if \"פרוייקטים\" in speciality or \"PMO\" in speciality or \"Product\" in speciality:\n",
    "        my_speciality.append(\"ניהול פרוייקטים\")\n",
    "\n",
    "    elif \"ניתוח\" in speciality or \"אנאליסט\" in speciality or \"נתונים\" in speciality:\n",
    "        my_speciality.append(\"ניתוח נתונים\")\n",
    "        \n",
    "    elif \"רכש\" in speciality or \"ייצור\" in speciality or \"הטמעה\" in speciality:\n",
    "        my_speciality.append(\"ניהול היצור\")\n",
    "        \n",
    "    elif \"QA\" in speciality:\n",
    "        my_speciality.append(\"אבטחת איכות\") \n",
    "\n",
    "    elif \"ארגון ושיטות\" in speciality:\n",
    "        my_speciality.append(\"ארגון ושיטות\")\n",
    "        \n",
    "    else:\n",
    "        my_speciality.append(\"אחר\")\n",
    "industriel_data_df['speciality'] = my_speciality\n",
    "industriel_data_df"
   ]
  },
  {
   "cell_type": "code",
   "execution_count": 86,
   "metadata": {},
   "outputs": [
    {
     "data": {
      "text/plain": [
       "ניתוח נתונים       145\n",
       "ניהול פרוייקטים    130\n",
       "ניהול היצור         93\n",
       "אחר                 68\n",
       "ארגון ושיטות        32\n",
       "אבטחת איכות          9\n",
       "Name: speciality, dtype: int64"
      ]
     },
     "execution_count": 86,
     "metadata": {},
     "output_type": "execute_result"
    }
   ],
   "source": [
    "pd.value_counts(industriel_data_df.speciality)"
   ]
  },
  {
   "cell_type": "code",
   "execution_count": 87,
   "metadata": {},
   "outputs": [
    {
     "data": {
      "text/plain": [
       "<matplotlib.axes._subplots.AxesSubplot at 0x1fa152d6100>"
      ]
     },
     "execution_count": 87,
     "metadata": {},
     "output_type": "execute_result"
    },
    {
     "data": {
      "image/png": "[encoded data removed]",
      "text/plain": [
       "<Figure size 432x288 with 1 Axes>"
      ]
     },
     "metadata": {
      "needs_background": "light"
     },
     "output_type": "display_data"
    }
   ],
   "source": [
    "industriel_data_df[industriel_data_df.Status == 'בוגר/ת'].groupby(\"speciality\").Salary.mean().plot(kind=\"bar\")"
   ]
  },
  {
   "cell_type": "markdown",
   "metadata": {},
   "source": [
    "## Specialization vs Amount:"
   ]
  },
  {
   "cell_type": "code",
   "execution_count": 137,
   "metadata": {},
   "outputs": [
    {
     "data": {
      "text/plain": [
       "Text(0.5, 1.0, 'specialization preference')"
      ]
     },
     "execution_count": 137,
     "metadata": {},
     "output_type": "execute_result"
    },
    {
     "data": {
      "image/png": "[encoded data removed]",
      "text/plain": [
       "<Figure size 432x432 with 1 Axes>"
      ]
     },
     "metadata": {},
     "output_type": "display_data"
    }
   ],
   "source": [
    "temp=industriel_data_df.groupby('speciality')['speciality'].count().sort_values()\n",
    "temp.plot.pie(y=\"percentage\",figsize=(6,6),autopct='%1.1f%%',legend=False)\n",
    "plt.title(\"specialization preference\",fontdict = font1)"
   ]
  },
  {
   "cell_type": "code",
   "execution_count": 138,
   "metadata": {},
   "outputs": [
    {
     "data": {
      "image/png": "[encoded data removed]",
      "text/plain": [
       "<Figure size 720x360 with 2 Axes>"
      ]
     },
     "metadata": {
      "needs_background": "light"
     },
     "output_type": "display_data"
    }
   ],
   "source": [
    "plt.figure(figsize=(10, 5))\n",
    "plt.subplot(1,2,1)\n",
    "plt.title(\"specialization preference\" ,fontdict = font2) \n",
    "sns.countplot( x=\"speciality\", data=industriel_data_df , edgecolor = 'black')\n",
    "plt.subplot(1,2,2)\n",
    "plt.title(\"specialization preference\" ,fontdict = font2)\n",
    "industriel_data_df['speciality'].value_counts().plot.pie(autopct='%1.1f%%')\n",
    "\n",
    "plt.show()"
   ]
  },
  {
   "cell_type": "code",
   "execution_count": 142,
   "metadata": {},
   "outputs": [
    {
     "data": {
      "text/plain": [
       "<matplotlib.axes._subplots.AxesSubplot at 0x1fa16cdd4c0>"
      ]
     },
     "execution_count": 142,
     "metadata": {},
     "output_type": "execute_result"
    },
    {
     "data": {
      "image/png": "[encoded data removed]",
      "text/plain": [
       "<Figure size 432x288 with 1 Axes>"
      ]
     },
     "metadata": {
      "needs_background": "light"
     },
     "output_type": "display_data"
    }
   ],
   "source": [
    "sns.boxplot(x=\"speciality\", y=\"Salary\", data=industriel_data_df[industriel_data_df.Status == \"בוגר/ת\"])"
   ]
  },
  {
   "cell_type": "markdown",
   "metadata": {},
   "source": [
    "## Lets get to know the data:"
   ]
  },
  {
   "cell_type": "markdown",
   "metadata": {},
   "source": [
    "### The relation between the amount of students and the amount of graduates that answered the survey:"
   ]
  },
  {
   "cell_type": "code",
   "execution_count": 88,
   "metadata": {},
   "outputs": [],
   "source": [
    "#This code below gives only a pie plot... we will use the code on the next box that gives us 2 figures:\n",
    "#temp=industriel_data_df.groupby('Status')['Status'].count().sort_values()\n",
    "#temp.rename({'בוגר/ת':'Graduates','סטודנט/ית':'Students'}).plot.pie(y=\"percentage\",figsize=(6,6),autopct='%1.1f%%',legend=False)\n",
    "#plt.title(\"Students vs. Graduates\",fontdict = font1)"
   ]
  },
  {
   "cell_type": "code",
   "execution_count": 89,
   "metadata": {},
   "outputs": [
    {
     "data": {
      "image/png": "[encoded data removed]",
      "text/plain": [
       "<Figure size 720x360 with 2 Axes>"
      ]
     },
     "metadata": {
      "needs_background": "light"
     },
     "output_type": "display_data"
    }
   ],
   "source": [
    "plt.figure(figsize=(10, 5))\n",
    "plt.subplot(1,2,1)\n",
    "plt.title(\"Students/Graduates count\" ,fontdict = font2) \n",
    "sns.countplot( x=\"Status\", data=industriel_data_df , edgecolor = 'black')\n",
    "plt.subplot(1,2,2)\n",
    "plt.title(\"Students vs. Graduates\" ,fontdict = font2)\n",
    "industriel_data_df['Status'].value_counts().plot.pie(autopct='%1.1f%%')\n",
    "\n",
    "plt.show()"
   ]
  },
  {
   "cell_type": "markdown",
   "metadata": {},
   "source": [
    "### The division between the different facilities:"
   ]
  },
  {
   "cell_type": "code",
   "execution_count": 90,
   "metadata": {},
   "outputs": [
    {
     "data": {
      "image/png": "[encoded data removed]",
      "text/plain": [
       "<Figure size 720x360 with 2 Axes>"
      ]
     },
     "metadata": {
      "needs_background": "light"
     },
     "output_type": "display_data"
    }
   ],
   "source": [
    "plt.figure(figsize=(10, 5))\n",
    "plt.subplot(1,2,1)\n",
    "plt.title(\"Facilities count\") \n",
    "sns.countplot( y=\"Facility\", data=industriel_data_df , edgecolor = 'black')\n",
    "plt.subplot(1,2,2)\n",
    "plt.title(\"Universities vs. Colleges\")\n",
    "industriel_data_df['type'].value_counts().plot.pie(autopct='%1.1f%%')\n",
    "\n",
    "plt.show()"
   ]
  },
  {
   "cell_type": "code",
   "execution_count": 91,
   "metadata": {},
   "outputs": [],
   "source": [
    "student = industriel_data_df.loc[industriel_data_df.Status == 'סטודנט/ית']\n",
    "graduate = industriel_data_df.loc[industriel_data_df.Status == 'בוגר/ת']"
   ]
  },
  {
   "cell_type": "markdown",
   "metadata": {},
   "source": [
    "## Getting to understand what affects the salary:"
   ]
  },
  {
   "cell_type": "markdown",
   "metadata": {},
   "source": [
    "### Mean salary per facility:"
   ]
  },
  {
   "cell_type": "code",
   "execution_count": 92,
   "metadata": {
    "tags": []
   },
   "outputs": [],
   "source": [
    "counts = pd.value_counts(industriel_data_df.Facility)"
   ]
  },
  {
   "cell_type": "code",
   "execution_count": 93,
   "metadata": {
    "tags": []
   },
   "outputs": [],
   "source": [
    "#grouped=industriel_data_df.groupby(\"Facility\").Salary.mean()\n",
    "\n",
    "#g1=grouped.rename(index={'אוניברסיטה פתוחה':'Open University','אוניברסיטת אריאל':'Ariel Unuversity','המכללה למינהל':'College of Management','בן גוריון':'Ben-Gurion University','אוניברסיטת בר אילן':'Bar-Ilan University','אוניברסיטת תל אביב':'Tel Aviv University','מכללת שנקר':'Shenkar College','טכניון':'Technion','מכללת ספיר':'Sapir Academic College','מכללת אורט בראודה':'ORT Braude College','מכללת סמי שמעון':'Sami Shamoon College','מכללת רופין':'Ruppin Academic Center','האקדמית עמק יזרעאל':'Yezreel Valley College','המכללה להנדסה ירושלים':'College of Engineering Jerusalem','מכללת אפקה':'Afeka College','אוניברסיטת חיפה':'University of Haifa','האקדמית תל אביב יפו':'Tel Aviv-Yafo Academic College','המרכז האקדמי לב':'Lev Academic Center'}).plot(figsize=(15,5),kind=\"bar\",color=\"lightblue\",legend=False)\n",
    "\n",
    "#plt.title(\"Mean Salary Per Facility\",fontdict = font1)\n",
    "#g1.set_xlabel(\"Facility\",fontdict = font2)\n",
    "#g1.set_ylabel(\"Salary\",fontdict = font2)\n",
    "\n",
    "#להוריד את מי שכתב מוסד ממש טוב/ לא מהנדס- הנדסאי בעמודת המוסד"
   ]
  },
  {
   "cell_type": "markdown",
   "metadata": {},
   "source": [
    "## Salary per graduate for colleges:\n",
    "#### We are working only with the colleges that 10+ people filled in the survey"
   ]
  },
  {
   "cell_type": "code",
   "execution_count": 104,
   "metadata": {
    "tags": []
   },
   "outputs": [],
   "source": [
    "counts = pd.value_counts(industriel_data_df.Facility)\n",
    "industriel_data_df_filter = industriel_data_df.loc[industriel_data_df.Facility.isin(counts[counts > 10].index), :]\n",
    "industriel_data_df_filter = industriel_data_df_filter[industriel_data_df_filter.Status == \"בוגר/ת\"]\n",
    "industriel_data_df_filter = industriel_data_df_filter[industriel_data_df_filter.type == \"מכללה\"]"
   ]
  },
  {
   "cell_type": "code",
   "execution_count": 105,
   "metadata": {
    "tags": []
   },
   "outputs": [
    {
     "data": {
      "text/plain": [
       "Text(0, 0.5, 'Salary')"
      ]
     },
     "execution_count": 105,
     "metadata": {},
     "output_type": "execute_result"
    },
    {
     "data": {
      "image/png": "[encoded data removed]",
      "text/plain": [
       "<Figure size 936x360 with 1 Axes>"
      ]
     },
     "metadata": {
      "needs_background": "light"
     },
     "output_type": "display_data"
    }
   ],
   "source": [
    "g2=industriel_data_df_filter.groupby(\"Facility\").Salary.mean().rename(index={'אוניברסיטה פתוחה':'Open University','אוניברסיטת אריאל':'Ariel Unuversity','אוניברסיטת בן גוריון':'Ben-Gurion University','אוניברסיטת בר אילן':'Bar-Ilan University','אוניברסיטת חיפה':'University of Haifa','אוניברסיטת תל אביב':'Tel Aviv University','האקדמית עמק יזרעאל':'Yezreel Valley College','מכללת שנקר':'Shenkar College','טכניון':'Technion','מכללת ספיר':'Sapir Academic College','מכללת אורט בראודה':'ORT Braude College','מכללת סמי שמעון':'Sami Shamoon College','מכללת רופין':'Ruppin Academic Center','האקדמית עמק יזרעאל':'Yezreel Valley College','האקדמית תל אביב יפו':'Tel Aviv-Yafo Academic College','המכללה להנדסה ירושלים':'College of Engineering Jerusalem','מכללת אפקה':'Afeka College','האקדמית תל אביב יפו':'Tel Aviv-Yafo Academic College'}).plot(figsize=(13,5),kind=\"bar\",color=\"lightblue\")\n",
    "plt.title(\"Mean Salary For Graduets Per College\",fontdict = font1)\n",
    "g2.set_xlabel(\"Facility\",fontdict = font2)\n",
    "g2.set_ylabel(\"Salary\",fontdict = font2)"
   ]
  },
  {
   "cell_type": "markdown",
   "metadata": {},
   "source": [
    "## Salary per graduate for universities:\n",
    "#### We are working only with the colleges that 10+ people filled in the survey"
   ]
  },
  {
   "cell_type": "code",
   "execution_count": 106,
   "metadata": {},
   "outputs": [],
   "source": [
    "counts = pd.value_counts(industriel_data_df.Facility)\n",
    "industriel_data_df_filter = industriel_data_df.loc[industriel_data_df.Facility.isin(counts[counts > 10].index), :]\n",
    "industriel_data_df_filter = industriel_data_df_filter[industriel_data_df_filter.Status == \"בוגר/ת\"]\n",
    "industriel_data_df_filter = industriel_data_df_filter[industriel_data_df_filter.type == \"אוניברסיטה\"]"
   ]
  },
  {
   "cell_type": "code",
   "execution_count": 107,
   "metadata": {},
   "outputs": [
    {
     "data": {
      "text/plain": [
       "Text(0, 0.5, 'Salary')"
      ]
     },
     "execution_count": 107,
     "metadata": {},
     "output_type": "execute_result"
    },
    {
     "data": {
      "image/png": "[encoded data removed]",
      "text/plain": [
       "<Figure size 936x360 with 1 Axes>"
      ]
     },
     "metadata": {
      "needs_background": "light"
     },
     "output_type": "display_data"
    }
   ],
   "source": [
    "g2=industriel_data_df_filter.groupby(\"Facility\").Salary.mean().rename(index={'אוניברסיטה פתוחה':'Open University','אוניברסיטת אריאל':'Ariel Unuversity','אוניברסיטת בן גוריון':'Ben-Gurion University','אוניברסיטת בר אילן':'Bar-Ilan University','אוניברסיטת חיפה':'University of Haifa','אוניברסיטת תל אביב':'Tel Aviv University','האקדמית עמק יזרעאל':'Yezreel Valley College','מכללת שנקר':'Shenkar College','טכניון':'Technion','מכללת ספיר':'Sapir Academic College','מכללת אורט בראודה':'ORT Braude College','מכללת סמי שמעון':'Sami Shamoon College','מכללת רופין':'Ruppin Academic Center','האקדמית עמק יזרעאל':'Yezreel Valley College','האקדמית תל אביב יפו':'Tel Aviv-Yafo Academic College','המכללה להנדסה ירושלים':'College of Engineering Jerusalem','מכללת אפקה':'Afeka College','האקדמית תל אביב יפו':'Tel Aviv-Yafo Academic College'}).plot(figsize=(13,5),kind=\"bar\",color=\"lightblue\")\n",
    "plt.title(\"Mean Salary For Graduets Per University\",fontdict = font1)\n",
    "g2.set_xlabel(\"Facility\",fontdict = font2)\n",
    "g2.set_ylabel(\"Salary\",fontdict = font2)"
   ]
  },
  {
   "cell_type": "markdown",
   "metadata": {},
   "source": [
    "## Salary per students:\n",
    "#### We are working only with the colleges that 10+ people filled in the survey"
   ]
  },
  {
   "cell_type": "code",
   "execution_count": 108,
   "metadata": {
    "tags": []
   },
   "outputs": [],
   "source": [
    "counts = pd.value_counts(industriel_data_df.Facility)\n",
    "industriel_data_df_filter = industriel_data_df.loc[industriel_data_df.Facility.isin(counts[counts > 10].index), :]\n",
    "industriel_data_df_filter = industriel_data_df_filter[industriel_data_df_filter.Status == \"סטודנט/ית\"]"
   ]
  },
  {
   "cell_type": "code",
   "execution_count": 109,
   "metadata": {
    "tags": []
   },
   "outputs": [
    {
     "data": {
      "text/plain": [
       "Text(0, 0.5, 'Salary')"
      ]
     },
     "execution_count": 109,
     "metadata": {},
     "output_type": "execute_result"
    },
    {
     "data": {
      "image/png": "[encoded data removed]",
      "text/plain": [
       "<Figure size 936x360 with 1 Axes>"
      ]
     },
     "metadata": {
      "needs_background": "light"
     },
     "output_type": "display_data"
    }
   ],
   "source": [
    "g3=industriel_data_df_filter.groupby(\"Facility\").Salary.mean().rename(index={'אוניברסיטה פתוחה':'Open University','אוניברסיטת אריאל':'Ariel Unuversity','אוניברסיטת בן גוריון':'Ben-Gurion University','אוניברסיטת בר אילן':'Bar-Ilan University','אוניברסיטת חיפה':'University of Haifa','אוניברסיטת תל אביב':'Tel Aviv University','האקדמית עמק יזרעאל':'Yezreel Valley College','מכללת שנקר':'Shenkar College','טכניון':'Technion','מכללת ספיר':'Sapir Academic College','מכללת אורט בראודה':'ORT Braude College','מכללת סמי שמעון':'Sami Shamoon College','מכללת רופין':'Ruppin Academic Center','האקדמית עמק יזרעאל':'Yezreel Valley College','האקדמית תל אביב יפו':'Tel Aviv-Yafo Academic College','המכללה להנדסה ירושלים':'College of Engineering Jerusalem','מכללת אפקה':'Afeka College','האקדמית תל אביב יפו':'Tel Aviv-Yafo Academic College'}).plot(figsize=(13,5),kind=\"bar\",color=\"lightblue\")\n",
    "plt.title(\"Mean Salary For Students\",fontdict = font1)\n",
    "g3.set_xlabel(\"Facility\",fontdict = font2)\n",
    "g3.set_ylabel(\"Salary\",fontdict = font2)"
   ]
  },
  {
   "cell_type": "markdown",
   "metadata": {},
   "source": [
    "## Mean salary in universities vs in colleges:"
   ]
  },
  {
   "cell_type": "code",
   "execution_count": 119,
   "metadata": {},
   "outputs": [],
   "source": [
    "# we need to add a plot that shoes the differnece brfore we part the data to a section of university and a section of college"
   ]
  },
  {
   "cell_type": "code",
   "execution_count": 120,
   "metadata": {},
   "outputs": [],
   "source": [
    "industriel_data_df_filter = industriel_data_df_filter[industriel_data_df_filter.Status == \"בוגר/ת\"]"
   ]
  },
  {
   "cell_type": "code",
   "execution_count": 121,
   "metadata": {},
   "outputs": [],
   "source": [
    "salary_university = industriel_data_df_filter[industriel_data_df_filter.type == 'אוניברסיטה'].groupby(\"Facility\").Salary.mean()\n",
    "#salary_university"
   ]
  },
  {
   "cell_type": "code",
   "execution_count": 122,
   "metadata": {},
   "outputs": [],
   "source": [
    "salary_college = industriel_data_df_filter[industriel_data_df_filter.type == 'מכללה'].groupby(\"Facility\").Salary.mean()\n",
    "#salary_college"
   ]
  },
  {
   "cell_type": "code",
   "execution_count": 123,
   "metadata": {},
   "outputs": [],
   "source": [
    "#all_universities=(['אוניברסיטה פתוחה', 'אוניברסיטת אריאל', 'אוניברסיטת בר אילן', 'אוניברסיטת חיפה', 'אוניברסיטת תל אביב', 'אוניברסיטת בן גוריון', 'טכניון'])\n",
    "#all_colleges=[('האקדמית עמק יזראל', 'האקדמית תל אביב יפו', 'המכללה להנדסה ירושלים', 'המכללה למינהל', 'המרכז האקדמי לב', 'מכללת אורט בראודה', 'מכללת אפקה', 'מכללת סמי שמעון', 'מכללת ספיר', 'מכללת רופין', 'מכללת שנקר')]\n",
    "#plt.figure(figsize=(10, 5))\n",
    "#plt.subplot(1,2,1)\n",
    "#plt.title(\"Universities vs Salary\")\n",
    "#sns.barplot(x=salary_university[all_universities].mean(),y=salary_university[all_universities].columns, edgecolor = 'black')\n",
    "#plt.subplot(1,2,2)\n",
    "#plt.title(\"Colleges vs Salary\")\n",
    "#g =sns.barplot(x=salary_college[all_colleges].mean(),y=salary_college[all_colleges].columns, edgecolor = 'black')\n",
    "#g.set(xlim=(0, 0.5))\n",
    "#plt.tight_layout()\n",
    "#plt.show()"
   ]
  },
  {
   "cell_type": "markdown",
   "metadata": {},
   "source": [
    "### With more experience is there less affection for the facility on the salary:"
   ]
  },
  {
   "cell_type": "code",
   "execution_count": 124,
   "metadata": {},
   "outputs": [],
   "source": [
    "#order=[\"1\",\"2+\",\"10+\"]\n",
    "#sns.countplot(x=\"Experience\", hue=\"Salary\" , data=industriel_data_df, palette=\"Set1\", edgecolor = 'black' ,order = order)\n",
    "#plt.show()"
   ]
  },
  {
   "cell_type": "code",
   "execution_count": 125,
   "metadata": {},
   "outputs": [],
   "source": [
    "#fig, ax=plt.subplots(1,2,figsize=(10,5))\n",
    "#sns.regplot(x='Facility',y='Salary', data=industriel_data_df, ax=ax[0])\n",
    "#sns.regplot(x='Experience',y='Salary', data=industriel_data_df, ax=ax[1])\n",
    "#plt.subplots_adjust(wspace=0.5)"
   ]
  },
  {
   "cell_type": "code",
   "execution_count": 133,
   "metadata": {},
   "outputs": [
    {
     "data": {
      "image/png": "[encoded data removed]",
      "text/plain": [
       "<Figure size 1440x360 with 2 Axes>"
      ]
     },
     "metadata": {
      "needs_background": "light"
     },
     "output_type": "display_data"
    }
   ],
   "source": [
    "fig, axes=plt.subplots(1,2,figsize=(20,5))\n",
    "plt.subplots_adjust(wspace=0.2)\n",
    "sns.boxplot(x=\"Facility\", y=\"Salary\", data=industriel_data_df[industriel_data_df.Status == \"בוגר/ת\"], ax=axes[0])\n",
    "sns.boxplot(x=\"Experience\", y=\"Salary\", data=industriel_data_df[industriel_data_df.Status == \"בוגר/ת\"], ax=axes[1])\n",
    "plt.show()"
   ]
  },
  {
   "cell_type": "code",
   "execution_count": null,
   "metadata": {},
   "outputs": [],
   "source": [
    "# maybe we should give each boxplot from above her own space and not put them side by side"
   ]
  },
  {
   "cell_type": "markdown",
   "metadata": {},
   "source": [
    "## After we figured the connection between facility & salary and the connection between experience & salary- lets see:\n",
    "### How much does the impact of the institution decrease as the years of experience increase"
   ]
  },
  {
   "cell_type": "code",
   "execution_count": 134,
   "metadata": {},
   "outputs": [
    {
     "data": {
      "text/plain": [
       "<matplotlib.axes._subplots.AxesSubplot at 0x1fa17705970>"
      ]
     },
     "execution_count": 134,
     "metadata": {},
     "output_type": "execute_result"
    },
    {
     "data": {
      "image/png": "[encoded data removed]",
      "text/plain": [
       "<Figure size 432x288 with 1 Axes>"
      ]
     },
     "metadata": {
      "needs_background": "light"
     },
     "output_type": "display_data"
    }
   ],
   "source": [
    "sns.boxplot(x=\"Experience\", y=\"Salary\", hue=\"type\", data=industriel_data_df[industriel_data_df.Status == \"בוגר/ת\"])"
   ]
  },
  {
   "cell_type": "code",
   "execution_count": 48,
   "metadata": {},
   "outputs": [
    {
     "data": {
      "text/plain": [
       "<matplotlib.axes._subplots.AxesSubplot at 0x28eada888b0>"
      ]
     },
     "execution_count": 48,
     "metadata": {},
     "output_type": "execute_result"
    },
    {
     "data": {
      "image/png": "[encoded data removed]",
      "text/plain": [
       "<Figure size 432x288 with 1 Axes>"
      ]
     },
     "metadata": {
      "needs_background": "light"
     },
     "output_type": "display_data"
    }
   ],
   "source": [
    "sns.barplot(x=\"Salary\", y=\"Facility\", data=industriel_data_df[industriel_data_df.Status == \"בוגר/ת\"])"
   ]
  },
  {
   "cell_type": "markdown",
   "metadata": {},
   "source": [
    "#### salary vs college:"
   ]
  },
  {
   "cell_type": "code",
   "execution_count": 113,
   "metadata": {},
   "outputs": [
    {
     "data": {
      "text/plain": [
       "Text(0, 0.5, 'Salary')"
      ]
     },
     "execution_count": 113,
     "metadata": {},
     "output_type": "execute_result"
    },
    {
     "data": {
      "image/png": "[encoded data removed]",
      "text/plain": [
       "<Figure size 936x360 with 1 Axes>"
      ]
     },
     "metadata": {
      "needs_background": "light"
     },
     "output_type": "display_data"
    }
   ],
   "source": [
    "g3=industriel_data_df_filter[industriel_data_df_filter.type == 'מכללה'].groupby(\"Facility\").Salary.mean().rename(index={'אוניברסיטה פתוחה':'Open University','אוניברסיטת אריאל':'Ariel Unuversity','אוניברסיטת בן גוריון':'Ben-Gurion University','אוניברסיטת בר אילן':'Bar-Ilan University','אוניברסיטת חיפה':'University of Haifa','אוניברסיטת תל אביב':'Tel Aviv University','האקדמית עמק יזרעאל':'Yezreel Valley College','מכללת שנקר':'Shenkar College','טכניון':'Technion','מכללת ספיר':'Sapir Academic College','מכללת אורט בראודה':'ORT Braude College','מכללת סמי שמעון':'Sami Shamoon College','מכללת רופין':'Ruppin Academic Center','האקדמית עמק יזרעאל':'Yezreel Valley College','האקדמית תל אביב יפו':'Tel Aviv-Yafo Academic College','המכללה להנדסה ירושלים':'College of Engineering Jerusalem','מכללת אפקה':'Afeka College','האקדמית תל אביב יפו':'Tel Aviv-Yafo Academic College'}).plot(figsize=(13,5),kind=\"bar\",color=\"lightblue\")\n",
    "plt.title(\"Mean Salary Per College for students\",fontdict = font1)\n",
    "g3.set_xlabel(\"Facility\",fontdict = font2)\n",
    "g3.set_ylabel(\"Salary\",fontdict = font2)"
   ]
  },
  {
   "cell_type": "markdown",
   "metadata": {},
   "source": [
    "#### salary vs university for students:"
   ]
  },
  {
   "cell_type": "code",
   "execution_count": 114,
   "metadata": {
    "tags": []
   },
   "outputs": [
    {
     "data": {
      "text/plain": [
       "Text(0, 0.5, 'Salary')"
      ]
     },
     "execution_count": 114,
     "metadata": {},
     "output_type": "execute_result"
    },
    {
     "data": {
      "image/png": "[encoded data removed]",
      "text/plain": [
       "<Figure size 936x360 with 1 Axes>"
      ]
     },
     "metadata": {
      "needs_background": "light"
     },
     "output_type": "display_data"
    }
   ],
   "source": [
    "g3=industriel_data_df_filter[industriel_data_df_filter.type == 'אוניברסיטה'].groupby(\"Facility\").Salary.mean().rename(index={'אוניברסיטה פתוחה':'Open University','אוניברסיטת אריאל':'Ariel Unuversity','אוניברסיטת בן גוריון':'Ben-Gurion University','אוניברסיטת בר אילן':'Bar-Ilan University','אוניברסיטת חיפה':'University of Haifa','אוניברסיטת תל אביב':'Tel Aviv University','האקדמית עמק יזרעאל':'Yezreel Valley College','מכללת שנקר':'Shenkar College','טכניון':'Technion','מכללת ספיר':'Sapir Academic College','מכללת אורט בראודה':'ORT Braude College','מכללת סמי שמעון':'Sami Shamoon College','מכללת רופין':'Ruppin Academic Center','האקדמית עמק יזרעאל':'Yezreel Valley College','האקדמית תל אביב יפו':'Tel Aviv-Yafo Academic College','המכללה להנדסה ירושלים':'College of Engineering Jerusalem','מכללת אפקה':'Afeka College','האקדמית תל אביב יפו':'Tel Aviv-Yafo Academic College'}).plot(figsize=(13,5),kind=\"bar\",color=\"lightblue\")\n",
    "plt.title(\"Mean Salary Per University for students\",fontdict = font1)\n",
    "g3.set_xlabel(\"Facility\",fontdict = font2)\n",
    "g3.set_ylabel(\"Salary\",fontdict = font2)"
   ]
  },
  {
   "cell_type": "code",
   "execution_count": 115,
   "metadata": {
    "tags": []
   },
   "outputs": [],
   "source": [
    "#industriel_data_df_filter[industriel_data_df_filter.type == 'אוניברסיטה'].groupby(\"Facility\").Salary.mean().plot(kind=\"bar\")"
   ]
  },
  {
   "cell_type": "markdown",
   "metadata": {},
   "source": [
    "2"
   ]
  },
  {
   "cell_type": "code",
   "execution_count": 116,
   "metadata": {},
   "outputs": [
    {
     "data": {
      "text/plain": [
       "array(['2+', '1', '10+'], dtype=object)"
      ]
     },
     "execution_count": 116,
     "metadata": {},
     "output_type": "execute_result"
    }
   ],
   "source": [
    "pd.unique(industriel_data_df.Experience)"
   ]
  },
  {
   "cell_type": "code",
   "execution_count": 117,
   "metadata": {},
   "outputs": [
    {
     "data": {
      "text/plain": [
       "1      287\n",
       "2+     180\n",
       "10+     10\n",
       "Name: Experience, dtype: int64"
      ]
     },
     "execution_count": 117,
     "metadata": {},
     "output_type": "execute_result"
    }
   ],
   "source": [
    "pd.value_counts(industriel_data_df.Experience)"
   ]
  },
  {
   "cell_type": "markdown",
   "metadata": {},
   "source": [
    "#### Amount vs Experience per type of facility:"
   ]
  },
  {
   "cell_type": "code",
   "execution_count": 118,
   "metadata": {},
   "outputs": [
    {
     "data": {
      "image/png": "[encoded data removed]",
      "text/plain": [
       "<Figure size 432x288 with 1 Axes>"
      ]
     },
     "metadata": {
      "needs_background": "light"
     },
     "output_type": "display_data"
    }
   ],
   "source": [
    "order=[\"1\",\"2+\",\"10+\"]\n",
    "sns.countplot(x=\"Experience\", hue=\"type\" , data=industriel_data_df, palette=\"Set1\", edgecolor = 'black' ,order = order)\n",
    "plt.show()"
   ]
  },
  {
   "cell_type": "markdown",
   "metadata": {},
   "source": [
    "#### Salary distribution for graduets:"
   ]
  },
  {
   "cell_type": "code",
   "execution_count": 119,
   "metadata": {},
   "outputs": [],
   "source": [
    "counts = pd.value_counts(industriel_data_df.Facility)\n",
    "industriel_data_df_filter = industriel_data_df.loc[industriel_data_df.Facility.isin(counts[counts > 10].index), :]\n",
    "industriel_data_df_filter = industriel_data_df_filter[industriel_data_df_filter.Status == \"בוגר/ת\"]"
   ]
  },
  {
   "cell_type": "code",
   "execution_count": 141,
   "metadata": {},
   "outputs": [
    {
     "data": {
      "text/plain": [
       "<matplotlib.axes._subplots.AxesSubplot at 0x24754f83760>"
      ]
     },
     "execution_count": 141,
     "metadata": {},
     "output_type": "execute_result"
    },
    {
     "data": {
      "image/png": "[encoded data removed]",
      "text/plain": [
       "<Figure size 432x288 with 1 Axes>"
      ]
     },
     "metadata": {
      "needs_background": "light"
     },
     "output_type": "display_data"
    }
   ],
   "source": [
    "counts = pd.value_counts(industriel_data_df.Facility)\n",
    "industriel_data_df_filter = industriel_data_df.loc[industriel_data_df.Facility.isin(counts[counts > 10].index), :]\n",
    "industriel_data_df_filter = industriel_data_df_filter[industriel_data_df_filter.Status == \"בוגר/ת\"]\n",
    "industriel_data_df_filter.Salary.hist()"
   ]
  }
 ],
 "metadata": {
  "kernelspec": {
   "display_name": "Python 3",
   "language": "python",
   "name": "python3"
  },
  "language_info": {
   "codemirror_mode": {
    "name": "ipython",
    "version": 3
   },
   "file_extension": ".py",
   "mimetype": "text/x-python",
   "name": "python",
   "nbconvert_exporter": "python",
   "pygments_lexer": "ipython3",
   "version": "3.8.3"
  }
 },
 "nbformat": 4,
 "nbformat_minor": 4
}
