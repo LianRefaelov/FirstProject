{
 "cells": [
  {
   "cell_type": "markdown",
   "metadata": {},
   "source": [
    "# Industriel Engineering \n",
    "#### **Presented By :       Lian Refaelov , Shifra Fuchs, Osher Moyal , Dolev Levavi**"
   ]
  },
  {
   "cell_type": "markdown",
   "metadata": {},
   "source": [
    "- Wrangling the data and Understanding it\n",
    "- Audience Quiz: The most wanted position, The specialization where you earn the most\n",
    "- Facility vs Salary\n",
    "- Specialization vs Salary \n",
    "- Position vs Salary"
   ]
  },
  {
   "cell_type": "markdown",
   "metadata": {},
   "source": [
    "### *Wrangling the data and Understanding it*"
   ]
  },
  {
   "cell_type": "code",
   "execution_count": 142,
   "metadata": {},
   "outputs": [],
   "source": [
    "import pandas as pd\n",
    "import numpy as np\n",
    "import matplotlib.pyplot as plt\n",
    "import seaborn as sns"
   ]
  },
  {
   "cell_type": "code",
   "execution_count": 143,
   "metadata": {},
   "outputs": [
    {
     "data": {
      "text/html": [
       "<div>\n",
       "<style scoped>\n",
       "    .dataframe tbody tr th:only-of-type {\n",
       "        vertical-align: middle;\n",
       "    }\n",
       "\n",
       "    .dataframe tbody tr th {\n",
       "        vertical-align: top;\n",
       "    }\n",
       "\n",
       "    .dataframe thead th {\n",
       "        text-align: right;\n",
       "    }\n",
       "</style>\n",
       "<table border=\"1\" class=\"dataframe\">\n",
       "  <thead>\n",
       "    <tr style=\"text-align: right;\">\n",
       "      <th></th>\n",
       "      <th>תאריך</th>\n",
       "      <th>סטטוס</th>\n",
       "      <th>מוסד לימודי</th>\n",
       "      <th>תחום</th>\n",
       "      <th>תפקיד</th>\n",
       "      <th>חברה</th>\n",
       "      <th>ניסיון</th>\n",
       "      <th>משכורת</th>\n",
       "      <th>סוג תשלום</th>\n",
       "      <th>הערות</th>\n",
       "      <th>רכב</th>\n",
       "    </tr>\n",
       "  </thead>\n",
       "  <tbody>\n",
       "    <tr>\n",
       "      <th>0</th>\n",
       "      <td>08/01/2019 11:41</td>\n",
       "      <td>סטודנט/ית</td>\n",
       "      <td>אוניברסיטה פתוחה</td>\n",
       "      <td>NaN</td>\n",
       "      <td>ניתוח נתונים</td>\n",
       "      <td>NaN</td>\n",
       "      <td>2+</td>\n",
       "      <td>20000.0</td>\n",
       "      <td>גלובלי</td>\n",
       "      <td>NaN</td>\n",
       "      <td>NaN</td>\n",
       "    </tr>\n",
       "    <tr>\n",
       "      <th>1</th>\n",
       "      <td>08/01/2019 11:49</td>\n",
       "      <td>סטודנט/ית</td>\n",
       "      <td>אוניברסיטה פתוחה</td>\n",
       "      <td>הייטק</td>\n",
       "      <td>QA</td>\n",
       "      <td>Oracle</td>\n",
       "      <td>2+</td>\n",
       "      <td>30000.0</td>\n",
       "      <td>גלובלי</td>\n",
       "      <td>NaN</td>\n",
       "      <td>לא</td>\n",
       "    </tr>\n",
       "    <tr>\n",
       "      <th>2</th>\n",
       "      <td>08/01/2019 12:03</td>\n",
       "      <td>סטודנט/ית</td>\n",
       "      <td>אוניברסיטה פתוחה</td>\n",
       "      <td>מוסד ממשלתי</td>\n",
       "      <td>רכז פרוייקטים</td>\n",
       "      <td>NaN</td>\n",
       "      <td>1</td>\n",
       "      <td>3000.0</td>\n",
       "      <td>שעתי</td>\n",
       "      <td>NaN</td>\n",
       "      <td>לא</td>\n",
       "    </tr>\n",
       "    <tr>\n",
       "      <th>3</th>\n",
       "      <td>08/01/2019 12:05</td>\n",
       "      <td>סטודנט/ית</td>\n",
       "      <td>אוניברסיטה פתוחה</td>\n",
       "      <td>מוסד ממשלתי</td>\n",
       "      <td>ניתוח נתונים</td>\n",
       "      <td>ZIM</td>\n",
       "      <td>1</td>\n",
       "      <td>40.0</td>\n",
       "      <td>שעתי</td>\n",
       "      <td>NaN</td>\n",
       "      <td>לא</td>\n",
       "    </tr>\n",
       "    <tr>\n",
       "      <th>4</th>\n",
       "      <td>08/01/2019 12:09</td>\n",
       "      <td>סטודנט/ית</td>\n",
       "      <td>אוניברסיטה פתוחה</td>\n",
       "      <td>הייטק</td>\n",
       "      <td>ניהול פרוייקטים PMO</td>\n",
       "      <td>AtoZ</td>\n",
       "      <td>1</td>\n",
       "      <td>12000.0</td>\n",
       "      <td>גלובלי</td>\n",
       "      <td>NaN</td>\n",
       "      <td>לא</td>\n",
       "    </tr>\n",
       "  </tbody>\n",
       "</table>\n",
       "</div>"
      ],
      "text/plain": [
       "              תאריך      סטטוס       מוסד לימודי         תחום  \\\n",
       "0  08/01/2019 11:41  סטודנט/ית  אוניברסיטה פתוחה          NaN   \n",
       "1  08/01/2019 11:49  סטודנט/ית  אוניברסיטה פתוחה        הייטק   \n",
       "2  08/01/2019 12:03  סטודנט/ית  אוניברסיטה פתוחה  מוסד ממשלתי   \n",
       "3  08/01/2019 12:05  סטודנט/ית  אוניברסיטה פתוחה  מוסד ממשלתי   \n",
       "4  08/01/2019 12:09  סטודנט/ית  אוניברסיטה פתוחה        הייטק   \n",
       "\n",
       "                 תפקיד    חברה ניסיון   משכורת סוג תשלום הערות  רכב  \n",
       "0         ניתוח נתונים     NaN     2+  20000.0    גלובלי   NaN  NaN  \n",
       "1                   QA  Oracle     2+  30000.0    גלובלי   NaN   לא  \n",
       "2        רכז פרוייקטים     NaN      1   3000.0      שעתי   NaN   לא  \n",
       "3         ניתוח נתונים     ZIM      1     40.0      שעתי   NaN   לא  \n",
       "4  ניהול פרוייקטים PMO    AtoZ      1  12000.0    גלובלי   NaN   לא  "
      ]
     },
     "execution_count": 143,
     "metadata": {},
     "output_type": "execute_result"
    }
   ],
   "source": [
    "url = \"IndustrielEngineeringData.csv\"\n",
    "industriel_data_df = pd.read_csv(url)\n",
    "industriel_data_df.head()"
   ]
  },
  {
   "cell_type": "code",
   "execution_count": 144,
   "metadata": {},
   "outputs": [
    {
     "data": {
      "text/html": [
       "<div>\n",
       "<style scoped>\n",
       "    .dataframe tbody tr th:only-of-type {\n",
       "        vertical-align: middle;\n",
       "    }\n",
       "\n",
       "    .dataframe tbody tr th {\n",
       "        vertical-align: top;\n",
       "    }\n",
       "\n",
       "    .dataframe thead th {\n",
       "        text-align: right;\n",
       "    }\n",
       "</style>\n",
       "<table border=\"1\" class=\"dataframe\">\n",
       "  <thead>\n",
       "    <tr style=\"text-align: right;\">\n",
       "      <th></th>\n",
       "      <th>Date</th>\n",
       "      <th>Status</th>\n",
       "      <th>Facility</th>\n",
       "      <th>Classification</th>\n",
       "      <th>Specialization</th>\n",
       "      <th>Company</th>\n",
       "      <th>Experience</th>\n",
       "      <th>Salary</th>\n",
       "      <th>Salary_kind</th>\n",
       "      <th>Remarks</th>\n",
       "      <th>Car</th>\n",
       "    </tr>\n",
       "  </thead>\n",
       "  <tbody>\n",
       "    <tr>\n",
       "      <th>0</th>\n",
       "      <td>08/01/2019 11:41</td>\n",
       "      <td>סטודנט/ית</td>\n",
       "      <td>אוניברסיטה פתוחה</td>\n",
       "      <td>NaN</td>\n",
       "      <td>ניתוח נתונים</td>\n",
       "      <td>NaN</td>\n",
       "      <td>2+</td>\n",
       "      <td>20000.0</td>\n",
       "      <td>גלובלי</td>\n",
       "      <td>NaN</td>\n",
       "      <td>NaN</td>\n",
       "    </tr>\n",
       "    <tr>\n",
       "      <th>1</th>\n",
       "      <td>08/01/2019 11:49</td>\n",
       "      <td>סטודנט/ית</td>\n",
       "      <td>אוניברסיטה פתוחה</td>\n",
       "      <td>הייטק</td>\n",
       "      <td>QA</td>\n",
       "      <td>Oracle</td>\n",
       "      <td>2+</td>\n",
       "      <td>30000.0</td>\n",
       "      <td>גלובלי</td>\n",
       "      <td>NaN</td>\n",
       "      <td>לא</td>\n",
       "    </tr>\n",
       "    <tr>\n",
       "      <th>2</th>\n",
       "      <td>08/01/2019 12:03</td>\n",
       "      <td>סטודנט/ית</td>\n",
       "      <td>אוניברסיטה פתוחה</td>\n",
       "      <td>מוסד ממשלתי</td>\n",
       "      <td>רכז פרוייקטים</td>\n",
       "      <td>NaN</td>\n",
       "      <td>1</td>\n",
       "      <td>3000.0</td>\n",
       "      <td>שעתי</td>\n",
       "      <td>NaN</td>\n",
       "      <td>לא</td>\n",
       "    </tr>\n",
       "    <tr>\n",
       "      <th>3</th>\n",
       "      <td>08/01/2019 12:05</td>\n",
       "      <td>סטודנט/ית</td>\n",
       "      <td>אוניברסיטה פתוחה</td>\n",
       "      <td>מוסד ממשלתי</td>\n",
       "      <td>ניתוח נתונים</td>\n",
       "      <td>ZIM</td>\n",
       "      <td>1</td>\n",
       "      <td>40.0</td>\n",
       "      <td>שעתי</td>\n",
       "      <td>NaN</td>\n",
       "      <td>לא</td>\n",
       "    </tr>\n",
       "    <tr>\n",
       "      <th>4</th>\n",
       "      <td>08/01/2019 12:09</td>\n",
       "      <td>סטודנט/ית</td>\n",
       "      <td>אוניברסיטה פתוחה</td>\n",
       "      <td>הייטק</td>\n",
       "      <td>ניהול פרוייקטים PMO</td>\n",
       "      <td>AtoZ</td>\n",
       "      <td>1</td>\n",
       "      <td>12000.0</td>\n",
       "      <td>גלובלי</td>\n",
       "      <td>NaN</td>\n",
       "      <td>לא</td>\n",
       "    </tr>\n",
       "  </tbody>\n",
       "</table>\n",
       "</div>"
      ],
      "text/plain": [
       "               Date     Status          Facility Classification  \\\n",
       "0  08/01/2019 11:41  סטודנט/ית  אוניברסיטה פתוחה            NaN   \n",
       "1  08/01/2019 11:49  סטודנט/ית  אוניברסיטה פתוחה          הייטק   \n",
       "2  08/01/2019 12:03  סטודנט/ית  אוניברסיטה פתוחה    מוסד ממשלתי   \n",
       "3  08/01/2019 12:05  סטודנט/ית  אוניברסיטה פתוחה    מוסד ממשלתי   \n",
       "4  08/01/2019 12:09  סטודנט/ית  אוניברסיטה פתוחה          הייטק   \n",
       "\n",
       "        Specialization Company Experience   Salary Salary_kind Remarks  Car  \n",
       "0         ניתוח נתונים     NaN         2+  20000.0      גלובלי     NaN  NaN  \n",
       "1                   QA  Oracle         2+  30000.0      גלובלי     NaN   לא  \n",
       "2        רכז פרוייקטים     NaN          1   3000.0        שעתי     NaN   לא  \n",
       "3         ניתוח נתונים     ZIM          1     40.0        שעתי     NaN   לא  \n",
       "4  ניהול פרוייקטים PMO    AtoZ          1  12000.0      גלובלי     NaN   לא  "
      ]
     },
     "execution_count": 144,
     "metadata": {},
     "output_type": "execute_result"
    }
   ],
   "source": [
    "industriel_data_df.columns = ['Date', 'Status', 'Facility', 'Classification', 'Specialization', 'Company', 'Experience', 'Salary', 'Salary_kind', 'Remarks', 'Car']\n",
    "industriel_data_df.head()"
   ]
  },
  {
   "cell_type": "code",
   "execution_count": 145,
   "metadata": {},
   "outputs": [
    {
     "data": {
      "text/html": [
       "<div>\n",
       "<style scoped>\n",
       "    .dataframe tbody tr th:only-of-type {\n",
       "        vertical-align: middle;\n",
       "    }\n",
       "\n",
       "    .dataframe tbody tr th {\n",
       "        vertical-align: top;\n",
       "    }\n",
       "\n",
       "    .dataframe thead th {\n",
       "        text-align: right;\n",
       "    }\n",
       "</style>\n",
       "<table border=\"1\" class=\"dataframe\">\n",
       "  <thead>\n",
       "    <tr style=\"text-align: right;\">\n",
       "      <th></th>\n",
       "      <th>Date</th>\n",
       "      <th>Status</th>\n",
       "      <th>Facility</th>\n",
       "      <th>Classification</th>\n",
       "      <th>Specialization</th>\n",
       "      <th>Company</th>\n",
       "      <th>Experience</th>\n",
       "      <th>Salary</th>\n",
       "      <th>Salary_kind</th>\n",
       "      <th>Remarks</th>\n",
       "      <th>Car</th>\n",
       "      <th>Year</th>\n",
       "    </tr>\n",
       "  </thead>\n",
       "  <tbody>\n",
       "    <tr>\n",
       "      <th>0</th>\n",
       "      <td>2019-08-01 11:41:00</td>\n",
       "      <td>סטודנט/ית</td>\n",
       "      <td>אוניברסיטה פתוחה</td>\n",
       "      <td>NaN</td>\n",
       "      <td>ניתוח נתונים</td>\n",
       "      <td>NaN</td>\n",
       "      <td>2+</td>\n",
       "      <td>20000.0</td>\n",
       "      <td>גלובלי</td>\n",
       "      <td>NaN</td>\n",
       "      <td>NaN</td>\n",
       "      <td>2019</td>\n",
       "    </tr>\n",
       "    <tr>\n",
       "      <th>1</th>\n",
       "      <td>2019-08-01 11:49:00</td>\n",
       "      <td>סטודנט/ית</td>\n",
       "      <td>אוניברסיטה פתוחה</td>\n",
       "      <td>הייטק</td>\n",
       "      <td>QA</td>\n",
       "      <td>Oracle</td>\n",
       "      <td>2+</td>\n",
       "      <td>30000.0</td>\n",
       "      <td>גלובלי</td>\n",
       "      <td>NaN</td>\n",
       "      <td>לא</td>\n",
       "      <td>2019</td>\n",
       "    </tr>\n",
       "    <tr>\n",
       "      <th>2</th>\n",
       "      <td>2019-08-01 12:03:00</td>\n",
       "      <td>סטודנט/ית</td>\n",
       "      <td>אוניברסיטה פתוחה</td>\n",
       "      <td>מוסד ממשלתי</td>\n",
       "      <td>רכז פרוייקטים</td>\n",
       "      <td>NaN</td>\n",
       "      <td>1</td>\n",
       "      <td>3000.0</td>\n",
       "      <td>שעתי</td>\n",
       "      <td>NaN</td>\n",
       "      <td>לא</td>\n",
       "      <td>2019</td>\n",
       "    </tr>\n",
       "    <tr>\n",
       "      <th>3</th>\n",
       "      <td>2019-08-01 12:05:00</td>\n",
       "      <td>סטודנט/ית</td>\n",
       "      <td>אוניברסיטה פתוחה</td>\n",
       "      <td>מוסד ממשלתי</td>\n",
       "      <td>ניתוח נתונים</td>\n",
       "      <td>ZIM</td>\n",
       "      <td>1</td>\n",
       "      <td>40.0</td>\n",
       "      <td>שעתי</td>\n",
       "      <td>NaN</td>\n",
       "      <td>לא</td>\n",
       "      <td>2019</td>\n",
       "    </tr>\n",
       "    <tr>\n",
       "      <th>4</th>\n",
       "      <td>2019-08-01 12:09:00</td>\n",
       "      <td>סטודנט/ית</td>\n",
       "      <td>אוניברסיטה פתוחה</td>\n",
       "      <td>הייטק</td>\n",
       "      <td>ניהול פרוייקטים PMO</td>\n",
       "      <td>AtoZ</td>\n",
       "      <td>1</td>\n",
       "      <td>12000.0</td>\n",
       "      <td>גלובלי</td>\n",
       "      <td>NaN</td>\n",
       "      <td>לא</td>\n",
       "      <td>2019</td>\n",
       "    </tr>\n",
       "  </tbody>\n",
       "</table>\n",
       "</div>"
      ],
      "text/plain": [
       "                 Date     Status          Facility Classification  \\\n",
       "0 2019-08-01 11:41:00  סטודנט/ית  אוניברסיטה פתוחה            NaN   \n",
       "1 2019-08-01 11:49:00  סטודנט/ית  אוניברסיטה פתוחה          הייטק   \n",
       "2 2019-08-01 12:03:00  סטודנט/ית  אוניברסיטה פתוחה    מוסד ממשלתי   \n",
       "3 2019-08-01 12:05:00  סטודנט/ית  אוניברסיטה פתוחה    מוסד ממשלתי   \n",
       "4 2019-08-01 12:09:00  סטודנט/ית  אוניברסיטה פתוחה          הייטק   \n",
       "\n",
       "        Specialization Company Experience   Salary Salary_kind Remarks  Car  \\\n",
       "0         ניתוח נתונים     NaN         2+  20000.0      גלובלי     NaN  NaN   \n",
       "1                   QA  Oracle         2+  30000.0      גלובלי     NaN   לא   \n",
       "2        רכז פרוייקטים     NaN          1   3000.0        שעתי     NaN   לא   \n",
       "3         ניתוח נתונים     ZIM          1     40.0        שעתי     NaN   לא   \n",
       "4  ניהול פרוייקטים PMO    AtoZ          1  12000.0      גלובלי     NaN   לא   \n",
       "\n",
       "   Year  \n",
       "0  2019  \n",
       "1  2019  \n",
       "2  2019  \n",
       "3  2019  \n",
       "4  2019  "
      ]
     },
     "execution_count": 145,
     "metadata": {},
     "output_type": "execute_result"
    }
   ],
   "source": [
    "industriel_data_df['Date'] = pd.to_datetime(industriel_data_df['Date'])\n",
    "industriel_data_df['Year'] = pd.DatetimeIndex(industriel_data_df['Date']).year\n",
    "industriel_data_df.head()"
   ]
  },
  {
   "cell_type": "code",
   "execution_count": 146,
   "metadata": {},
   "outputs": [
    {
     "data": {
      "text/plain": [
       "Date              datetime64[ns]\n",
       "Status                    object\n",
       "Facility                  object\n",
       "Classification            object\n",
       "Specialization            object\n",
       "Company                   object\n",
       "Experience                object\n",
       "Salary                   float64\n",
       "Salary_kind               object\n",
       "Remarks                   object\n",
       "Car                       object\n",
       "Year                       int64\n",
       "dtype: object"
      ]
     },
     "execution_count": 146,
     "metadata": {},
     "output_type": "execute_result"
    }
   ],
   "source": [
    "industriel_data_df.dtypes"
   ]
  },
  {
   "cell_type": "markdown",
   "metadata": {},
   "source": [
    "##### droping unnecessary columns and fixing missing values"
   ]
  },
  {
   "cell_type": "code",
   "execution_count": 147,
   "metadata": {},
   "outputs": [
    {
     "data": {
      "text/plain": [
       "Remarks           278\n",
       "Company           238\n",
       "Car                19\n",
       "Classification      1\n",
       "Year                0\n",
       "Salary_kind         0\n",
       "Salary              0\n",
       "Experience          0\n",
       "Specialization      0\n",
       "Facility            0\n",
       "Status              0\n",
       "Date                0\n",
       "dtype: int64"
      ]
     },
     "execution_count": 147,
     "metadata": {},
     "output_type": "execute_result"
    }
   ],
   "source": [
    "industriel_data_df.isnull().sum().sort_values(ascending=False)"
   ]
  },
  {
   "cell_type": "code",
   "execution_count": 148,
   "metadata": {},
   "outputs": [
    {
     "data": {
      "text/html": [
       "<div>\n",
       "<style scoped>\n",
       "    .dataframe tbody tr th:only-of-type {\n",
       "        vertical-align: middle;\n",
       "    }\n",
       "\n",
       "    .dataframe tbody tr th {\n",
       "        vertical-align: top;\n",
       "    }\n",
       "\n",
       "    .dataframe thead th {\n",
       "        text-align: right;\n",
       "    }\n",
       "</style>\n",
       "<table border=\"1\" class=\"dataframe\">\n",
       "  <thead>\n",
       "    <tr style=\"text-align: right;\">\n",
       "      <th></th>\n",
       "      <th>Status</th>\n",
       "      <th>Facility</th>\n",
       "      <th>Classification</th>\n",
       "      <th>Specialization</th>\n",
       "      <th>Company</th>\n",
       "      <th>Experience</th>\n",
       "      <th>Salary</th>\n",
       "      <th>Salary_kind</th>\n",
       "      <th>Car</th>\n",
       "      <th>Year</th>\n",
       "    </tr>\n",
       "  </thead>\n",
       "  <tbody>\n",
       "    <tr>\n",
       "      <th>0</th>\n",
       "      <td>סטודנט/ית</td>\n",
       "      <td>אוניברסיטה פתוחה</td>\n",
       "      <td>לא הוזן</td>\n",
       "      <td>ניתוח נתונים</td>\n",
       "      <td>לא הוזן</td>\n",
       "      <td>2+</td>\n",
       "      <td>20000.0</td>\n",
       "      <td>גלובלי</td>\n",
       "      <td>לא הוזן</td>\n",
       "      <td>2019</td>\n",
       "    </tr>\n",
       "    <tr>\n",
       "      <th>1</th>\n",
       "      <td>סטודנט/ית</td>\n",
       "      <td>אוניברסיטה פתוחה</td>\n",
       "      <td>הייטק</td>\n",
       "      <td>QA</td>\n",
       "      <td>Oracle</td>\n",
       "      <td>2+</td>\n",
       "      <td>30000.0</td>\n",
       "      <td>גלובלי</td>\n",
       "      <td>לא</td>\n",
       "      <td>2019</td>\n",
       "    </tr>\n",
       "    <tr>\n",
       "      <th>2</th>\n",
       "      <td>סטודנט/ית</td>\n",
       "      <td>אוניברסיטה פתוחה</td>\n",
       "      <td>מוסד ממשלתי</td>\n",
       "      <td>רכז פרוייקטים</td>\n",
       "      <td>לא הוזן</td>\n",
       "      <td>1</td>\n",
       "      <td>3000.0</td>\n",
       "      <td>שעתי</td>\n",
       "      <td>לא</td>\n",
       "      <td>2019</td>\n",
       "    </tr>\n",
       "    <tr>\n",
       "      <th>3</th>\n",
       "      <td>סטודנט/ית</td>\n",
       "      <td>אוניברסיטה פתוחה</td>\n",
       "      <td>מוסד ממשלתי</td>\n",
       "      <td>ניתוח נתונים</td>\n",
       "      <td>ZIM</td>\n",
       "      <td>1</td>\n",
       "      <td>40.0</td>\n",
       "      <td>שעתי</td>\n",
       "      <td>לא</td>\n",
       "      <td>2019</td>\n",
       "    </tr>\n",
       "    <tr>\n",
       "      <th>4</th>\n",
       "      <td>סטודנט/ית</td>\n",
       "      <td>אוניברסיטה פתוחה</td>\n",
       "      <td>הייטק</td>\n",
       "      <td>ניהול פרוייקטים PMO</td>\n",
       "      <td>AtoZ</td>\n",
       "      <td>1</td>\n",
       "      <td>12000.0</td>\n",
       "      <td>גלובלי</td>\n",
       "      <td>לא</td>\n",
       "      <td>2019</td>\n",
       "    </tr>\n",
       "  </tbody>\n",
       "</table>\n",
       "</div>"
      ],
      "text/plain": [
       "      Status          Facility Classification       Specialization  Company  \\\n",
       "0  סטודנט/ית  אוניברסיטה פתוחה        לא הוזן         ניתוח נתונים  לא הוזן   \n",
       "1  סטודנט/ית  אוניברסיטה פתוחה          הייטק                   QA   Oracle   \n",
       "2  סטודנט/ית  אוניברסיטה פתוחה    מוסד ממשלתי        רכז פרוייקטים  לא הוזן   \n",
       "3  סטודנט/ית  אוניברסיטה פתוחה    מוסד ממשלתי         ניתוח נתונים      ZIM   \n",
       "4  סטודנט/ית  אוניברסיטה פתוחה          הייטק  ניהול פרוייקטים PMO     AtoZ   \n",
       "\n",
       "  Experience   Salary Salary_kind      Car  Year  \n",
       "0         2+  20000.0      גלובלי  לא הוזן  2019  \n",
       "1         2+  30000.0      גלובלי       לא  2019  \n",
       "2          1   3000.0        שעתי       לא  2019  \n",
       "3          1     40.0        שעתי       לא  2019  \n",
       "4          1  12000.0      גלובלי       לא  2019  "
      ]
     },
     "execution_count": 148,
     "metadata": {},
     "output_type": "execute_result"
    }
   ],
   "source": [
    "irrelevant_columns=['Remarks','Date']\n",
    "industriel_data_df.drop(irrelevant_columns,axis='columns' ,inplace=True)\n",
    "industriel_data_df[\"Company\"].fillna(\"לא הוזן\",inplace=True)\n",
    "industriel_data_df[\"Car\"].fillna(\"לא הוזן\",inplace=True)\n",
    "industriel_data_df[\"Classification\"].fillna(\"לא הוזן\",inplace=True)\n",
    "industriel_data_df.head()"
   ]
  },
  {
   "cell_type": "code",
   "execution_count": 149,
   "metadata": {},
   "outputs": [
    {
     "data": {
      "text/plain": [
       "Year              0\n",
       "Car               0\n",
       "Salary_kind       0\n",
       "Salary            0\n",
       "Experience        0\n",
       "Company           0\n",
       "Specialization    0\n",
       "Classification    0\n",
       "Facility          0\n",
       "Status            0\n",
       "dtype: int64"
      ]
     },
     "execution_count": 149,
     "metadata": {},
     "output_type": "execute_result"
    }
   ],
   "source": [
    "industriel_data_df.isnull().sum().sort_values(ascending=False)"
   ]
  },
  {
   "cell_type": "markdown",
   "metadata": {},
   "source": [
    "1"
   ]
  },
  {
   "cell_type": "code",
   "execution_count": 108,
   "metadata": {},
   "outputs": [
    {
     "data": {
      "text/html": [
       "<div>\n",
       "<style scoped>\n",
       "    .dataframe tbody tr th:only-of-type {\n",
       "        vertical-align: middle;\n",
       "    }\n",
       "\n",
       "    .dataframe tbody tr th {\n",
       "        vertical-align: top;\n",
       "    }\n",
       "\n",
       "    .dataframe thead th {\n",
       "        text-align: right;\n",
       "    }\n",
       "</style>\n",
       "<table border=\"1\" class=\"dataframe\">\n",
       "  <thead>\n",
       "    <tr style=\"text-align: right;\">\n",
       "      <th></th>\n",
       "      <th>Status</th>\n",
       "      <th>Facility</th>\n",
       "      <th>Classification</th>\n",
       "      <th>Specialization</th>\n",
       "      <th>Company</th>\n",
       "      <th>Experience</th>\n",
       "      <th>Salary</th>\n",
       "      <th>Salary_kind</th>\n",
       "      <th>Car</th>\n",
       "      <th>Year</th>\n",
       "    </tr>\n",
       "  </thead>\n",
       "  <tbody>\n",
       "    <tr>\n",
       "      <th>0</th>\n",
       "      <td>סטודנט/ית</td>\n",
       "      <td>אוניברסיטה פתוחה</td>\n",
       "      <td>NaN</td>\n",
       "      <td>ניתוח נתונים</td>\n",
       "      <td>לא הוזן</td>\n",
       "      <td>2+</td>\n",
       "      <td>20000.0</td>\n",
       "      <td>גלובלי</td>\n",
       "      <td>לא הוזן</td>\n",
       "      <td>2019</td>\n",
       "    </tr>\n",
       "    <tr>\n",
       "      <th>1</th>\n",
       "      <td>סטודנט/ית</td>\n",
       "      <td>אוניברסיטה פתוחה</td>\n",
       "      <td>הייטק</td>\n",
       "      <td>QA</td>\n",
       "      <td>Oracle</td>\n",
       "      <td>2+</td>\n",
       "      <td>30000.0</td>\n",
       "      <td>גלובלי</td>\n",
       "      <td>לא</td>\n",
       "      <td>2019</td>\n",
       "    </tr>\n",
       "    <tr>\n",
       "      <th>2</th>\n",
       "      <td>סטודנט/ית</td>\n",
       "      <td>אוניברסיטה פתוחה</td>\n",
       "      <td>מוסד ממשלתי</td>\n",
       "      <td>רכז פרוייקטים</td>\n",
       "      <td>לא הוזן</td>\n",
       "      <td>1</td>\n",
       "      <td>3000.0</td>\n",
       "      <td>שעתי</td>\n",
       "      <td>לא</td>\n",
       "      <td>2019</td>\n",
       "    </tr>\n",
       "    <tr>\n",
       "      <th>3</th>\n",
       "      <td>סטודנט/ית</td>\n",
       "      <td>אוניברסיטה פתוחה</td>\n",
       "      <td>מוסד ממשלתי</td>\n",
       "      <td>ניתוח נתונים</td>\n",
       "      <td>ZIM</td>\n",
       "      <td>1</td>\n",
       "      <td>40.0</td>\n",
       "      <td>שעתי</td>\n",
       "      <td>לא</td>\n",
       "      <td>2019</td>\n",
       "    </tr>\n",
       "    <tr>\n",
       "      <th>4</th>\n",
       "      <td>סטודנט/ית</td>\n",
       "      <td>אוניברסיטה פתוחה</td>\n",
       "      <td>הייטק</td>\n",
       "      <td>ניהול פרוייקטים PMO</td>\n",
       "      <td>AtoZ</td>\n",
       "      <td>1</td>\n",
       "      <td>12000.0</td>\n",
       "      <td>גלובלי</td>\n",
       "      <td>לא</td>\n",
       "      <td>2019</td>\n",
       "    </tr>\n",
       "  </tbody>\n",
       "</table>\n",
       "</div>"
      ],
      "text/plain": [
       "      Status          Facility Classification       Specialization  Company  \\\n",
       "0  סטודנט/ית  אוניברסיטה פתוחה            NaN         ניתוח נתונים  לא הוזן   \n",
       "1  סטודנט/ית  אוניברסיטה פתוחה          הייטק                   QA   Oracle   \n",
       "2  סטודנט/ית  אוניברסיטה פתוחה    מוסד ממשלתי        רכז פרוייקטים  לא הוזן   \n",
       "3  סטודנט/ית  אוניברסיטה פתוחה    מוסד ממשלתי         ניתוח נתונים      ZIM   \n",
       "4  סטודנט/ית  אוניברסיטה פתוחה          הייטק  ניהול פרוייקטים PMO     AtoZ   \n",
       "\n",
       "  Experience   Salary Salary_kind      Car  Year  \n",
       "0         2+  20000.0      גלובלי  לא הוזן  2019  \n",
       "1         2+  30000.0      גלובלי       לא  2019  \n",
       "2          1   3000.0        שעתי       לא  2019  \n",
       "3          1     40.0        שעתי       לא  2019  \n",
       "4          1  12000.0      גלובלי       לא  2019  "
      ]
     },
     "execution_count": 108,
     "metadata": {},
     "output_type": "execute_result"
    }
   ],
   "source": [
    "industriel_data_df.head()"
   ]
  },
  {
   "cell_type": "code",
   "execution_count": 150,
   "metadata": {},
   "outputs": [
    {
     "data": {
      "text/plain": [
       "array(['אוניברסיטה פתוחה', 'אוניברסיטת אריאל', 'אוניברסיטת בר אילן',\n",
       "       'אוניברסיטת חיפה', 'אוניברסיטת תל אביב', 'בן גוריון',\n",
       "       'האקדמית עמק יזרעאל', 'האקדמית תל אביב יפו',\n",
       "       'המכללה להנדסה ירושלים', 'המכללה למינהל', 'המרכז האקדמי לב',\n",
       "       'טכניון', 'לא מהנדס , הנדסאי', 'מוסד ממש טוב', 'מכללת אורט בראודה',\n",
       "       'מכללת אפקה', 'מכללת סמי שמעון', 'מכללת ספיר', 'מכללת רופין',\n",
       "       'מכללת שנקר'], dtype=object)"
      ]
     },
     "execution_count": 150,
     "metadata": {},
     "output_type": "execute_result"
    }
   ],
   "source": [
    "pd.unique(industriel_data_df.Facility)"
   ]
  },
  {
   "cell_type": "code",
   "execution_count": 151,
   "metadata": {},
   "outputs": [],
   "source": [
    "industriel_data_df.drop(industriel_data_df[industriel_data_df.Facility == \"מוסד ממש טוב\"].index, inplace=True)\n",
    "industriel_data_df.drop(industriel_data_df[industriel_data_df.Facility == \"לא מהנדס , הנדסאי\"].index, inplace=True)"
   ]
  },
  {
   "cell_type": "code",
   "execution_count": 152,
   "metadata": {},
   "outputs": [
    {
     "data": {
      "text/plain": [
       "array(['אוניברסיטה פתוחה', 'אוניברסיטת אריאל', 'אוניברסיטת בר אילן',\n",
       "       'אוניברסיטת חיפה', 'אוניברסיטת תל אביב', 'בן גוריון',\n",
       "       'האקדמית עמק יזרעאל', 'האקדמית תל אביב יפו',\n",
       "       'המכללה להנדסה ירושלים', 'המכללה למינהל', 'המרכז האקדמי לב',\n",
       "       'טכניון', 'מכללת אורט בראודה', 'מכללת אפקה', 'מכללת סמי שמעון',\n",
       "       'מכללת ספיר', 'מכללת רופין', 'מכללת שנקר'], dtype=object)"
      ]
     },
     "execution_count": 152,
     "metadata": {},
     "output_type": "execute_result"
    }
   ],
   "source": [
    "pd.unique(industriel_data_df.Facility)"
   ]
  },
  {
   "cell_type": "code",
   "execution_count": 153,
   "metadata": {},
   "outputs": [],
   "source": [
    "#industriel_data_df.iloc[industriel_data_df[industriel_data_df.Facility == \"בן גוריון\"].index, 1] = \"אוניברסיטת בן גוריון\""
   ]
  },
  {
   "cell_type": "code",
   "execution_count": 155,
   "metadata": {},
   "outputs": [],
   "source": [
    "industriel_data_df.loc[industriel_data_df[industriel_data_df.Facility == \"בן גוריון\"].index, \"Facility\"] = \"אוניברסיטת בן גוריון\""
   ]
  },
  {
   "cell_type": "code",
   "execution_count": 114,
   "metadata": {},
   "outputs": [
    {
     "data": {
      "text/plain": [
       "array(['אוניברסיטה פתוחה', 'אוניברסיטת אריאל', 'אוניברסיטת בר אילן',\n",
       "       'אוניברסיטת חיפה', 'אוניברסיטת תל אביב', 'אוניברסיטת בן גוריון',\n",
       "       'האקדמית עמק יזרעאל', 'האקדמית תל אביב יפו',\n",
       "       'המכללה להנדסה ירושלים', 'המכללה למינהל', 'המרכז האקדמי לב',\n",
       "       'טכניון', 'מכללת אורט בראודה', 'מכללת אפקה', 'מכללת סמי שמעון',\n",
       "       'מכללת ספיר', 'מכללת רופין', 'מכללת שנקר'], dtype=object)"
      ]
     },
     "execution_count": 114,
     "metadata": {},
     "output_type": "execute_result"
    }
   ],
   "source": [
    "pd.unique(industriel_data_df.Facility)"
   ]
  },
  {
   "cell_type": "code",
   "execution_count": 157,
   "metadata": {},
   "outputs": [
    {
     "data": {
      "text/html": [
       "<div>\n",
       "<style scoped>\n",
       "    .dataframe tbody tr th:only-of-type {\n",
       "        vertical-align: middle;\n",
       "    }\n",
       "\n",
       "    .dataframe tbody tr th {\n",
       "        vertical-align: top;\n",
       "    }\n",
       "\n",
       "    .dataframe thead th {\n",
       "        text-align: right;\n",
       "    }\n",
       "</style>\n",
       "<table border=\"1\" class=\"dataframe\">\n",
       "  <thead>\n",
       "    <tr style=\"text-align: right;\">\n",
       "      <th></th>\n",
       "      <th>Status</th>\n",
       "      <th>Facility</th>\n",
       "      <th>Classification</th>\n",
       "      <th>Specialization</th>\n",
       "      <th>Company</th>\n",
       "      <th>Experience</th>\n",
       "      <th>Salary</th>\n",
       "      <th>Salary_kind</th>\n",
       "      <th>Car</th>\n",
       "      <th>Year</th>\n",
       "      <th>type</th>\n",
       "    </tr>\n",
       "  </thead>\n",
       "  <tbody>\n",
       "    <tr>\n",
       "      <th>0</th>\n",
       "      <td>סטודנט/ית</td>\n",
       "      <td>אוניברסיטה פתוחה</td>\n",
       "      <td>לא הוזן</td>\n",
       "      <td>ניתוח נתונים</td>\n",
       "      <td>לא הוזן</td>\n",
       "      <td>2+</td>\n",
       "      <td>20000.0</td>\n",
       "      <td>גלובלי</td>\n",
       "      <td>לא הוזן</td>\n",
       "      <td>2019</td>\n",
       "      <td>אוניברסיטה</td>\n",
       "    </tr>\n",
       "    <tr>\n",
       "      <th>1</th>\n",
       "      <td>סטודנט/ית</td>\n",
       "      <td>אוניברסיטה פתוחה</td>\n",
       "      <td>הייטק</td>\n",
       "      <td>QA</td>\n",
       "      <td>Oracle</td>\n",
       "      <td>2+</td>\n",
       "      <td>30000.0</td>\n",
       "      <td>גלובלי</td>\n",
       "      <td>לא</td>\n",
       "      <td>2019</td>\n",
       "      <td>אוניברסיטה</td>\n",
       "    </tr>\n",
       "    <tr>\n",
       "      <th>2</th>\n",
       "      <td>סטודנט/ית</td>\n",
       "      <td>אוניברסיטה פתוחה</td>\n",
       "      <td>מוסד ממשלתי</td>\n",
       "      <td>רכז פרוייקטים</td>\n",
       "      <td>לא הוזן</td>\n",
       "      <td>1</td>\n",
       "      <td>3000.0</td>\n",
       "      <td>שעתי</td>\n",
       "      <td>לא</td>\n",
       "      <td>2019</td>\n",
       "      <td>אוניברסיטה</td>\n",
       "    </tr>\n",
       "    <tr>\n",
       "      <th>3</th>\n",
       "      <td>סטודנט/ית</td>\n",
       "      <td>אוניברסיטה פתוחה</td>\n",
       "      <td>מוסד ממשלתי</td>\n",
       "      <td>ניתוח נתונים</td>\n",
       "      <td>ZIM</td>\n",
       "      <td>1</td>\n",
       "      <td>40.0</td>\n",
       "      <td>שעתי</td>\n",
       "      <td>לא</td>\n",
       "      <td>2019</td>\n",
       "      <td>אוניברסיטה</td>\n",
       "    </tr>\n",
       "    <tr>\n",
       "      <th>4</th>\n",
       "      <td>סטודנט/ית</td>\n",
       "      <td>אוניברסיטה פתוחה</td>\n",
       "      <td>הייטק</td>\n",
       "      <td>ניהול פרוייקטים PMO</td>\n",
       "      <td>AtoZ</td>\n",
       "      <td>1</td>\n",
       "      <td>12000.0</td>\n",
       "      <td>גלובלי</td>\n",
       "      <td>לא</td>\n",
       "      <td>2019</td>\n",
       "      <td>אוניברסיטה</td>\n",
       "    </tr>\n",
       "    <tr>\n",
       "      <th>...</th>\n",
       "      <td>...</td>\n",
       "      <td>...</td>\n",
       "      <td>...</td>\n",
       "      <td>...</td>\n",
       "      <td>...</td>\n",
       "      <td>...</td>\n",
       "      <td>...</td>\n",
       "      <td>...</td>\n",
       "      <td>...</td>\n",
       "      <td>...</td>\n",
       "      <td>...</td>\n",
       "    </tr>\n",
       "    <tr>\n",
       "      <th>474</th>\n",
       "      <td>סטודנט/ית</td>\n",
       "      <td>מכללת שנקר</td>\n",
       "      <td>הייטק</td>\n",
       "      <td>ניתוח, עיצוב, איפיון והטמעה של מערכות מידע</td>\n",
       "      <td>FBC</td>\n",
       "      <td>1</td>\n",
       "      <td>5000.0</td>\n",
       "      <td>שעתי</td>\n",
       "      <td>לא</td>\n",
       "      <td>2021</td>\n",
       "      <td>מכללה</td>\n",
       "    </tr>\n",
       "    <tr>\n",
       "      <th>475</th>\n",
       "      <td>סטודנט/ית</td>\n",
       "      <td>מכללת שנקר</td>\n",
       "      <td>הייטק</td>\n",
       "      <td>Noc</td>\n",
       "      <td>Radware</td>\n",
       "      <td>1</td>\n",
       "      <td>70.0</td>\n",
       "      <td>שעתי</td>\n",
       "      <td>לא</td>\n",
       "      <td>2021</td>\n",
       "      <td>מכללה</td>\n",
       "    </tr>\n",
       "    <tr>\n",
       "      <th>476</th>\n",
       "      <td>סטודנט/ית</td>\n",
       "      <td>מכללת שנקר</td>\n",
       "      <td>הייטק</td>\n",
       "      <td>תפעול וייצור</td>\n",
       "      <td>לא הוזן</td>\n",
       "      <td>1</td>\n",
       "      <td>9500.0</td>\n",
       "      <td>גלובלי</td>\n",
       "      <td>לא</td>\n",
       "      <td>2021</td>\n",
       "      <td>מכללה</td>\n",
       "    </tr>\n",
       "    <tr>\n",
       "      <th>477</th>\n",
       "      <td>סטודנט/ית</td>\n",
       "      <td>מכללת שנקר</td>\n",
       "      <td>תעשייה מסורתית</td>\n",
       "      <td>ניתוח נתונים</td>\n",
       "      <td>לא הוזן</td>\n",
       "      <td>1</td>\n",
       "      <td>4000.0</td>\n",
       "      <td>שעתי</td>\n",
       "      <td>לא</td>\n",
       "      <td>2021</td>\n",
       "      <td>מכללה</td>\n",
       "    </tr>\n",
       "    <tr>\n",
       "      <th>478</th>\n",
       "      <td>בוגר/ת</td>\n",
       "      <td>מכללת שנקר</td>\n",
       "      <td>חברת ecommerce</td>\n",
       "      <td>ניהול פרוייקטים,  PMO</td>\n",
       "      <td>פאנקו</td>\n",
       "      <td>1</td>\n",
       "      <td>11000.0</td>\n",
       "      <td>שעתי</td>\n",
       "      <td>לא</td>\n",
       "      <td>2021</td>\n",
       "      <td>מכללה</td>\n",
       "    </tr>\n",
       "  </tbody>\n",
       "</table>\n",
       "<p>477 rows × 11 columns</p>\n",
       "</div>"
      ],
      "text/plain": [
       "        Status          Facility  Classification  \\\n",
       "0    סטודנט/ית  אוניברסיטה פתוחה         לא הוזן   \n",
       "1    סטודנט/ית  אוניברסיטה פתוחה           הייטק   \n",
       "2    סטודנט/ית  אוניברסיטה פתוחה     מוסד ממשלתי   \n",
       "3    סטודנט/ית  אוניברסיטה פתוחה     מוסד ממשלתי   \n",
       "4    סטודנט/ית  אוניברסיטה פתוחה           הייטק   \n",
       "..         ...               ...             ...   \n",
       "474  סטודנט/ית        מכללת שנקר           הייטק   \n",
       "475  סטודנט/ית        מכללת שנקר           הייטק   \n",
       "476  סטודנט/ית        מכללת שנקר           הייטק   \n",
       "477  סטודנט/ית        מכללת שנקר  תעשייה מסורתית   \n",
       "478     בוגר/ת        מכללת שנקר  חברת ecommerce   \n",
       "\n",
       "                                 Specialization  Company Experience   Salary  \\\n",
       "0                                  ניתוח נתונים  לא הוזן         2+  20000.0   \n",
       "1                                            QA   Oracle         2+  30000.0   \n",
       "2                                 רכז פרוייקטים  לא הוזן          1   3000.0   \n",
       "3                                  ניתוח נתונים      ZIM          1     40.0   \n",
       "4                           ניהול פרוייקטים PMO     AtoZ          1  12000.0   \n",
       "..                                          ...      ...        ...      ...   \n",
       "474  ניתוח, עיצוב, איפיון והטמעה של מערכות מידע      FBC          1   5000.0   \n",
       "475                                         Noc  Radware          1     70.0   \n",
       "476                                תפעול וייצור  לא הוזן          1   9500.0   \n",
       "477                                ניתוח נתונים  לא הוזן          1   4000.0   \n",
       "478                       ניהול פרוייקטים,  PMO    פאנקו          1  11000.0   \n",
       "\n",
       "    Salary_kind      Car  Year        type  \n",
       "0        גלובלי  לא הוזן  2019  אוניברסיטה  \n",
       "1        גלובלי       לא  2019  אוניברסיטה  \n",
       "2          שעתי       לא  2019  אוניברסיטה  \n",
       "3          שעתי       לא  2019  אוניברסיטה  \n",
       "4        גלובלי       לא  2019  אוניברסיטה  \n",
       "..          ...      ...   ...         ...  \n",
       "474        שעתי       לא  2021       מכללה  \n",
       "475        שעתי       לא  2021       מכללה  \n",
       "476      גלובלי       לא  2021       מכללה  \n",
       "477        שעתי       לא  2021       מכללה  \n",
       "478        שעתי       לא  2021       מכללה  \n",
       "\n",
       "[477 rows x 11 columns]"
      ]
     },
     "execution_count": 157,
     "metadata": {},
     "output_type": "execute_result"
    }
   ],
   "source": [
    "my_type = []\n",
    "for facility in industriel_data_df.Facility:\n",
    "    if \"אוניברסיטה\" in facility or \"אוניברסיטת\" in facility:\n",
    "        my_type.append(\"אוניברסיטה\")\n",
    "    elif \"טכניון\" in facility:\n",
    "        my_type.append(\"אוניברסיטה\")\n",
    "    else:\n",
    "        my_type.append(\"מכללה\")\n",
    "industriel_data_df['type'] = my_type\n",
    "industriel_data_df"
   ]
  },
  {
   "cell_type": "code",
   "execution_count": 131,
   "metadata": {},
   "outputs": [
    {
     "data": {
      "text/plain": [
       "array(['ניתוח נתונים', 'QA', 'רכז פרוייקטים', 'ניהול פרוייקטים PMO',\n",
       "       'ניתוח, עיצוב, איפיון והטמעה של מערכות מידע, QA',\n",
       "       'הנדסת ארגון ושיטות', 'ניתוח, עיצוב, איפיון והטמעה של מערכות מידע',\n",
       "       'ניהול פרוייקטים,  PMO, ניתוח, עיצוב, איפיון והטמעה של מערכות מידע',\n",
       "       'מיישם מערכות מידע', 'פלנר', 'אינטגרטור', 'תפעול וייצור',\n",
       "       'תכנון ובקרה', 'רכש', 'ערכית תוכן , רשתות חברתיות',\n",
       "       'ניהול פרוייקטים, PMO', 'ניהול פרוייקטים,  PMO',\n",
       "       'ניתוח נתונים , ניתוח, עיצוב, איפיון והטמעה של מערכות מידע, QA',\n",
       "       'Devops', 'הנדסת ארגון ושיטות, תפעול וייצור, לוגיסטיקה',\n",
       "       'פתיחות תיקים ודוחות תפעוליים',\n",
       "       'ניהול פרוייקטים,  PMO, ניתוח נתונים ',\n",
       "       'פקיד מזונות, פתיחת תיקים ודוחות תפעוליים', 'הנדסת איכות',\n",
       "       'הנדסת ארגון ושיטות, ייעוץ לוגיסטי', 'ניתוח נתונים , כלכלן',\n",
       "       'ניהול מערכות מידע', 'ניתוח נתונים , הנדסת ארגון ושיטות',\n",
       "       'ניתוח נתונים , מדעי נתונים ', 'ניהול פרוייקטים,  PMO, System',\n",
       "       'הנדסת ארגון ושיטות, תפעול וייצור',\n",
       "       'ניהול פרוייקטים,  PMO, ניתוח נתונים , הנדסת ארגון ושיטות, תפעול וייצור, תכנות: Frontend/Backend/Fullstack, ניתוח, עיצוב, איפיון והטמעה של מערכות מידע, QA, QA, Devops',\n",
       "       'מדעי נתונים - Data science',\n",
       "       'ניהול פרוייקטים,  PMO, ניתוח, עיצוב, איפיון והטמעה של מערכות מידע, QA',\n",
       "       'תכנות: Frontend/Backend/Fullstack, ניתוח, עיצוב, איפיון והטמעה של מערכות מידע',\n",
       "       'ניהול פרוייקטים,  PMO, הנדסת ארגון ושיטות', 'רכש ולוגיסטיקה',\n",
       "       'עוזרת מנהל פרוייקט לוגיסטי', 'ניהול',\n",
       "       'ניהול פרוייקטים,  PMO, תפעול וייצור', 'ניהול משרד טכני',\n",
       "       'ניהול פרוייקטים,  PMO, הנדסת ארגון ושיטות, מנהל תהליכים',\n",
       "       'ניהול פרוייקטים,  PMO, ניתוח נתונים , ניתוח, עיצוב, איפיון והטמעה של מערכות מידע',\n",
       "       'Rpa', 'Support',\n",
       "       'ניהול פרוייקטים,  PMO, תפעול וייצור, ניתוח, עיצוב, איפיון והטמעה של מערכות מידע',\n",
       "       'HELP DESK',\n",
       "       'ניתוח, עיצוב, איפיון והטמעה של מערכות מידע, Salesforce',\n",
       "       'הנדסת ארגון ושיטות, ניתוח, עיצוב, איפיון והטמעה של מערכות מידע',\n",
       "       'לוגיסטיקה',\n",
       "       'ניהול פרוייקטים,  PMO, ניתוח נתונים , מדעי נתונים , תפעול וייצור, תכנות: Frontend/Backend/Fullstack, ניתוח, עיצוב, איפיון והטמעה של מערכות מידע',\n",
       "       'אנליסט', 'ניתוח נתונים , תפעול וייצור',\n",
       "       'תכנות: Frontend/Backend/Fullstack',\n",
       "       'ניהול פרוייקטים,  PMO, מדעי נתונים - ניתוח, עיצוב, איפיון והטמעה של מערכות מידע',\n",
       "       'מדעי נתונים - Data science, Data engineering',\n",
       "       'ניהול פרוייקטים,  PMO, ניתוח נתונים , הנדסת ארגון ושיטות, ניתוח, עיצוב, איפיון והטמעה של מערכות מידע',\n",
       "       'חברת ייעוץ', 'תרגום', 'Product analyst', 'מנהל קמפיינים',\n",
       "       'מיישם SFMC', 'מכירות ??',\n",
       "       'תכנות: Frontend/Backend/Fullstack, Devops',\n",
       "       'ייעוץ מערכות טכנולוגיות, ניהול פרויקטים', 'Analyst soc tier 2',\n",
       "       'Cyber security analyst',\n",
       "       'ניהול פרוייקטים,  PMO, ניתוח נתונים , הנדסת ארגון ושיטות',\n",
       "       'Data engineer', 'CI', 'ניתוח נתונים , מדעי נתונים , Devops',\n",
       "       'בקרה תקציבית', 'עוזרת במטלות השוטפות', 'תו\"ב',\n",
       "       'משרת סטודנט בקרת פרויקטים', 'CRM Manager', 'מנהל רכש וקניינות',\n",
       "       'Business Analyst',\n",
       "       'ניהול פרוייקטים,  PMO, הנדסת ארגון ושיטות, תפעול וייצור, ניתוח, עיצוב, איפיון והטמעה של מערכות מידע',\n",
       "       'מפתח RPA', 'מנהלת תפעול ובקרה', 'ניתוח נתונים , Devops',\n",
       "       'System support',\n",
       "       'ניתוח נתונים , ניתוח, עיצוב, איפיון והטמעה של מערכות מידע',\n",
       "       'Operation', 'DevOps &apm engineer',\n",
       "       'ניהול פרוייקטים במערכות מידע',\n",
       "       'ניהול פרוייקטים,  PMO, ניתוח נתונים , הנדסת ארגון ושיטות, תפעול וייצור, ניתוח, עיצוב, איפיון והטמעה של מערכות מידע',\n",
       "       'ניהול פרוייקטים,  PMO, ניתוח נתונים , תכנות: Frontend/Backend/Fullstack',\n",
       "       'ניתוח נתונים , תפעול וייצור, ניתוח, עיצוב, איפיון והטמעה של מערכות מידע',\n",
       "       'יישום מערכות מידע', 'מנהל פרויקטים ומנתח מערכות',\n",
       "       'ניהול קמפיינים דיגיטליים', 'Product manager',\n",
       "       'ניהול פרויקטים מערכות מידע', 'תפעול וייצור, פלנר',\n",
       "       'sales force - support and solutions', 'ייבוא ייצוא',\n",
       "       'יועץ מערכות מידע', 'ביקורת פנימית מבקר ויועץ מערכות מידע',\n",
       "       'יבוא ויצוא', 'IT', 'רכש כ\"א',\n",
       "       'ניהול פרוייקטים,  PMO, אנאליסט מחקר', 'קניינית רכש ומנהלת ספקים',\n",
       "       'הבטחת איכות - הכשרה ותיקוף מערכות ותהליכים',\n",
       "       'ניתוח, עיצוב, איפיון והטמעה של מערכות מידע, יישום מערכת אוטומציה',\n",
       "       'שליחויות', 'ניהול פרוייקטים,  PMO, ייעוץ ניהולי ועסקי',\n",
       "       'הנדסת ארגון ושיטות, Devops, Operations/NOC', 'NOC', 'Noc'],\n",
       "      dtype=object)"
      ]
     },
     "execution_count": 131,
     "metadata": {},
     "output_type": "execute_result"
    }
   ],
   "source": [
    "pd.unique(industriel_data_df.Specialization)"
   ]
  },
  {
   "cell_type": "code",
   "execution_count": 160,
   "metadata": {},
   "outputs": [],
   "source": [
    "#my_speciality = []\n",
    "#for speciality in industriel_data_df.Specialization:\n",
    "#    if \"פרוייקטים\" in speciality or \"PMO\" in speciality or \"Product\" in speciality:\n",
    "#        my_type.append(\"ניהול פרוייקטים\")\n",
    "        \n",
    "#for speciality in industriel_data_df.Specialization:\n",
    "#    if \"ניתוח\" in speciality or \"אנאליסט\" in speciality or \"נתונים\" in speciality:\n",
    "#        my_type.append(\"ניתוח נתונים\")\n",
    "        \n",
    "#for speciality in industriel_data_df.Specialization:\n",
    "#   if \"רכש\" in speciality or \"ייצור\" or \"הטמעה\" in speciality:\n",
    "#      my_type.append(\"ניהול היצור\")\n",
    "        \n",
    "#for speciality in industriel_data_df.Specialization:\n",
    "#   if \"QA\" in speciality:\n",
    "#      my_type.append(\"אבטחת איכות\") \n",
    "\n",
    "#for speciality in industriel_data_df.Specialization:\n",
    "#   if \"ארגון ושיטות\" in speciality:\n",
    "#      my_type.append(\"ארגון ושיטות\")\n",
    "        \n",
    "#for speciality in industriel_data_df.Specialization:\n",
    "#    if not (\"ניהול פרוייקטים\" or \"ניתוח נתונים\" or \"ניהול היצור\" or \"אבטחת איכות\"):\n",
    "#       my_type.append(\"אחר\")\n",
    "        \n",
    "#industriel_data_df['speciality'] = my_speciality\n",
    "#industriel_data_df.head()"
   ]
  },
  {
   "cell_type": "code",
   "execution_count": null,
   "metadata": {},
   "outputs": [],
   "source": [
    "industriel_data_df.groupby(\"Specialization\").Salary.mean().plot(kind=\"bar\")"
   ]
  },
  {
   "cell_type": "code",
   "execution_count": 116,
   "metadata": {},
   "outputs": [],
   "source": [
    "counts = pd.value_counts(industriel_data_df.Facility)"
   ]
  },
  {
   "cell_type": "code",
   "execution_count": 117,
   "metadata": {},
   "outputs": [
    {
     "data": {
      "text/plain": [
       "<matplotlib.axes._subplots.AxesSubplot at 0x1cacd8830d0>"
      ]
     },
     "execution_count": 117,
     "metadata": {},
     "output_type": "execute_result"
    },
    {
     "data": {
      "image/png": "[encoded data removed]",
      "text/plain": [
       "<Figure size 432x288 with 1 Axes>"
      ]
     },
     "metadata": {
      "needs_background": "light"
     },
     "output_type": "display_data"
    }
   ],
   "source": [
    "# industriel_data_df.groupby(\"Facility\").Salary.mean().plot(kind=\"bar\")\n",
    "# RENAME\n",
    "#temp2 = temp.rename(index={'שטח ברוטו': 'Total area','שנת בניה': 'Year of construction','קומה': 'Floor','דירות בבנין': 'Apartments in the building','חניה': 'Parking','קומות': 'Floors in the building','חדרים': 'Rooms'})\n",
    "#temp2.plot(figsize=(10,6),kind=\"barh\",color=\"gold\",legend=False)\n",
    "#plt.title(\"Feature importances\",fontdict = font1)"
   ]
  },
  {
   "cell_type": "code",
   "execution_count": 118,
   "metadata": {},
   "outputs": [],
   "source": [
    "counts = pd.value_counts(industriel_data_df.Facility)\n",
    "industriel_data_df_filter = industriel_data_df.loc[industriel_data_df.Facility.isin(counts[counts > 10].index), :]\n",
    "industriel_data_df_filter = industriel_data_df_filter[industriel_data_df_filter.Status == \"בוגר/ת\"]"
   ]
  },
  {
   "cell_type": "code",
   "execution_count": 119,
   "metadata": {},
   "outputs": [
    {
     "data": {
      "text/plain": [
       "<matplotlib.axes._subplots.AxesSubplot at 0x1cacc015790>"
      ]
     },
     "execution_count": 119,
     "metadata": {},
     "output_type": "execute_result"
    },
    {
     "data": {
      "image/png": "[encoded data removed]",
      "text/plain": [
       "<Figure size 432x288 with 1 Axes>"
      ]
     },
     "metadata": {
      "needs_background": "light"
     },
     "output_type": "display_data"
    }
   ],
   "source": [
    "industriel_data_df_filter.groupby(\"Facility\").Salary.mean().plot(kind=\"bar\")"
   ]
  },
  {
   "cell_type": "code",
   "execution_count": 120,
   "metadata": {},
   "outputs": [
    {
     "data": {
      "text/plain": [
       "<matplotlib.axes._subplots.AxesSubplot at 0x1cacd32a4c0>"
      ]
     },
     "execution_count": 120,
     "metadata": {},
     "output_type": "execute_result"
    },
    {
     "data": {
      "image/png": "[encoded data removed]",
      "text/plain": [
       "<Figure size 432x288 with 1 Axes>"
      ]
     },
     "metadata": {
      "needs_background": "light"
     },
     "output_type": "display_data"
    }
   ],
   "source": [
    "sns.boxplot(x=\"type\", y=\"Salary\", data=industriel_data_df[industriel_data_df.Status == \"בוגר/ת\"])"
   ]
  },
  {
   "cell_type": "code",
   "execution_count": 121,
   "metadata": {},
   "outputs": [
    {
     "data": {
      "text/plain": [
       "<matplotlib.axes._subplots.AxesSubplot at 0x1cacd293340>"
      ]
     },
     "execution_count": 121,
     "metadata": {},
     "output_type": "execute_result"
    },
    {
     "data": {
      "image/png": "[encoded data removed]",
      "text/plain": [
       "<Figure size 432x288 with 1 Axes>"
      ]
     },
     "metadata": {
      "needs_background": "light"
     },
     "output_type": "display_data"
    }
   ],
   "source": [
    "industriel_data_df_filter[industriel_data_df_filter.type == 'מכללה'].groupby(\"Facility\").Salary.mean().plot(kind=\"bar\")"
   ]
  },
  {
   "cell_type": "code",
   "execution_count": 122,
   "metadata": {},
   "outputs": [
    {
     "data": {
      "text/plain": [
       "<matplotlib.axes._subplots.AxesSubplot at 0x1cacd26cdf0>"
      ]
     },
     "execution_count": 122,
     "metadata": {},
     "output_type": "execute_result"
    },
    {
     "data": {
      "image/png": "[encoded data removed]",
      "text/plain": [
       "<Figure size 432x288 with 1 Axes>"
      ]
     },
     "metadata": {
      "needs_background": "light"
     },
     "output_type": "display_data"
    }
   ],
   "source": [
    "industriel_data_df_filter[industriel_data_df_filter.type == 'אוניברסיטה'].groupby(\"Facility\").Salary.mean().plot(kind=\"bar\")"
   ]
  },
  {
   "cell_type": "markdown",
   "metadata": {},
   "source": [
    "2"
   ]
  },
  {
   "cell_type": "code",
   "execution_count": 123,
   "metadata": {},
   "outputs": [
    {
     "data": {
      "text/plain": [
       "array(['2+', '1', '10+'], dtype=object)"
      ]
     },
     "execution_count": 123,
     "metadata": {},
     "output_type": "execute_result"
    }
   ],
   "source": [
    "pd.unique(industriel_data_df.Experience)"
   ]
  },
  {
   "cell_type": "code",
   "execution_count": 124,
   "metadata": {},
   "outputs": [
    {
     "data": {
      "text/plain": [
       "1      287\n",
       "2+     180\n",
       "10+     10\n",
       "Name: Experience, dtype: int64"
      ]
     },
     "execution_count": 124,
     "metadata": {},
     "output_type": "execute_result"
    }
   ],
   "source": [
    "pd.value_counts(industriel_data_df.Experience)"
   ]
  },
  {
   "cell_type": "code",
   "execution_count": 125,
   "metadata": {},
   "outputs": [
    {
     "data": {
      "text/plain": [
       "<matplotlib.axes._subplots.AxesSubplot at 0x1cacc045040>"
      ]
     },
     "execution_count": 125,
     "metadata": {},
     "output_type": "execute_result"
    },
    {
     "data": {
      "image/png": "[encoded data removed]",
      "text/plain": [
       "<Figure size 432x288 with 1 Axes>"
      ]
     },
     "metadata": {
      "needs_background": "light"
     },
     "output_type": "display_data"
    }
   ],
   "source": [
    "sns.boxplot(x=\"Experience\", y='Salary',data=industriel_data_df[industriel_data_df.Status == \"בוגר/ת\"])"
   ]
  },
  {
   "cell_type": "code",
   "execution_count": 126,
   "metadata": {},
   "outputs": [
    {
     "data": {
      "text/plain": [
       "<matplotlib.axes._subplots.AxesSubplot at 0x1cacd3ae7c0>"
      ]
     },
     "execution_count": 126,
     "metadata": {},
     "output_type": "execute_result"
    },
    {
     "data": {
      "image/png": "[encoded data removed]",
      "text/plain": [
       "<Figure size 432x288 with 1 Axes>"
      ]
     },
     "metadata": {
      "needs_background": "light"
     },
     "output_type": "display_data"
    }
   ],
   "source": [
    "sns.boxplot(x=\"Experience\", y='Salary', hue='type',data=industriel_data_df[industriel_data_df.Status == \"בוגר/ת\"])"
   ]
  },
  {
   "cell_type": "code",
   "execution_count": 127,
   "metadata": {},
   "outputs": [
    {
     "data": {
      "text/plain": [
       "<matplotlib.axes._subplots.AxesSubplot at 0x1cacd456fd0>"
      ]
     },
     "execution_count": 127,
     "metadata": {},
     "output_type": "execute_result"
    },
    {
     "data": {
      "image/png": "[encoded data removed]",
      "text/plain": [
       "<Figure size 432x288 with 1 Axes>"
      ]
     },
     "metadata": {
      "needs_background": "light"
     },
     "output_type": "display_data"
    }
   ],
   "source": [
    "industriel_data_df_filter.Salary.hist()"
   ]
  },
  {
   "cell_type": "code",
   "execution_count": 128,
   "metadata": {},
   "outputs": [
    {
     "name": "stdout",
     "output_type": "stream",
     "text": [
      "Requirement already up-to-date: seaborn in c:\\users\\lian refaelov\\anaconda3\\lib\\site-packages (0.11.2)\n",
      "Requirement already satisfied, skipping upgrade: pandas>=0.23 in c:\\users\\lian refaelov\\anaconda3\\lib\\site-packages (from seaborn) (1.0.5)\n",
      "Requirement already satisfied, skipping upgrade: scipy>=1.0 in c:\\users\\lian refaelov\\anaconda3\\lib\\site-packages (from seaborn) (1.5.0)\n",
      "Requirement already satisfied, skipping upgrade: matplotlib>=2.2 in c:\\users\\lian refaelov\\anaconda3\\lib\\site-packages (from seaborn) (3.2.2)\n",
      "Requirement already satisfied, skipping upgrade: numpy>=1.15 in c:\\users\\lian refaelov\\anaconda3\\lib\\site-packages (from seaborn) (1.18.5)\n",
      "Requirement already satisfied, skipping upgrade: python-dateutil>=2.6.1 in c:\\users\\lian refaelov\\anaconda3\\lib\\site-packages (from pandas>=0.23->seaborn) (2.8.1)\n",
      "Requirement already satisfied, skipping upgrade: pytz>=2017.2 in c:\\users\\lian refaelov\\anaconda3\\lib\\site-packages (from pandas>=0.23->seaborn) (2020.1)\n",
      "Requirement already satisfied, skipping upgrade: cycler>=0.10 in c:\\users\\lian refaelov\\anaconda3\\lib\\site-packages (from matplotlib>=2.2->seaborn) (0.10.0)\n",
      "Requirement already satisfied, skipping upgrade: pyparsing!=2.0.4,!=2.1.2,!=2.1.6,>=2.0.1 in c:\\users\\lian refaelov\\anaconda3\\lib\\site-packages (from matplotlib>=2.2->seaborn) (2.4.7)\n",
      "Requirement already satisfied, skipping upgrade: kiwisolver>=1.0.1 in c:\\users\\lian refaelov\\anaconda3\\lib\\site-packages (from matplotlib>=2.2->seaborn) (1.2.0)\n",
      "Requirement already satisfied, skipping upgrade: six>=1.5 in c:\\users\\lian refaelov\\anaconda3\\lib\\site-packages (from python-dateutil>=2.6.1->pandas>=0.23->seaborn) (1.15.0)\n"
     ]
    }
   ],
   "source": [
    "!pip install -U seaborn"
   ]
  },
  {
   "cell_type": "code",
   "execution_count": 129,
   "metadata": {},
   "outputs": [
    {
     "ename": "TypeError",
     "evalue": "distplot() got an unexpected keyword argument 'x'",
     "output_type": "error",
     "traceback": [
      "\u001b[1;31m---------------------------------------------------------------------------\u001b[0m",
      "\u001b[1;31mTypeError\u001b[0m                                 Traceback (most recent call last)",
      "\u001b[1;32m<ipython-input-129-4de80d958bcb>\u001b[0m in \u001b[0;36m<module>\u001b[1;34m\u001b[0m\n\u001b[1;32m----> 1\u001b[1;33m \u001b[0msns\u001b[0m\u001b[1;33m.\u001b[0m\u001b[0mdistplot\u001b[0m\u001b[1;33m(\u001b[0m\u001b[0mindustriel_data_df_filter\u001b[0m\u001b[1;33m,\u001b[0m \u001b[0mx\u001b[0m\u001b[1;33m=\u001b[0m\u001b[1;34m\"Salary\"\u001b[0m\u001b[1;33m,\u001b[0m \u001b[0mhue\u001b[0m\u001b[1;33m=\u001b[0m\u001b[1;34m\"Classification\"\u001b[0m\u001b[1;33m)\u001b[0m\u001b[1;33m\u001b[0m\u001b[1;33m\u001b[0m\u001b[0m\n\u001b[0m",
      "\u001b[1;31mTypeError\u001b[0m: distplot() got an unexpected keyword argument 'x'"
     ]
    }
   ],
   "source": [
    "sns.distplot(industriel_data_df_filter, x=\"Salary\", hue=\"Classification\")"
   ]
  },
  {
   "cell_type": "code",
   "execution_count": null,
   "metadata": {},
   "outputs": [],
   "source": []
  },
  {
   "cell_type": "code",
   "execution_count": null,
   "metadata": {},
   "outputs": [],
   "source": [
    "counts = pd.value_counts(industriel_data_df.Classification)\n",
    "industriel_data_df_filter_cls = industriel_data_df.loc[industriel_data_df.Classification.isin(counts[counts > 1].index), :]\n"
   ]
  },
  {
   "cell_type": "code",
   "execution_count": null,
   "metadata": {},
   "outputs": [],
   "source": [
    "fig, ax = plt.fi\n",
    "data = industriel_data_df_filter_cls.groupby(\"Classification\").Salary.count()\n",
    "data.plot.pie(autopct=\"%.1f%%\")"
   ]
  },
  {
   "cell_type": "code",
   "execution_count": null,
   "metadata": {},
   "outputs": [],
   "source": [
    "df = industriel_data_df[industriel_data_df.Salary > 7000]\n"
   ]
  },
  {
   "cell_type": "code",
   "execution_count": null,
   "metadata": {},
   "outputs": [],
   "source": [
    "df.groupby(\"Year\").Salary.mean().plot()"
   ]
  },
  {
   "cell_type": "markdown",
   "metadata": {},
   "source": [
    "## sns.lineplot(x=\"Year\", y='Salary', hue=\"type\", data=df)\n",
    "_ = plt.xticks([2019, 2020, 2021])"
   ]
  },
  {
   "cell_type": "code",
   "execution_count": 130,
   "metadata": {},
   "outputs": [
    {
     "data": {
      "text/plain": [
       "[<matplotlib.lines.Line2D at 0x1cacd504340>]"
      ]
     },
     "execution_count": 130,
     "metadata": {},
     "output_type": "execute_result"
    },
    {
     "data": {
      "image/png": "[encoded data removed]",
      "text/plain": [
       "<Figure size 432x288 with 1 Axes>"
      ]
     },
     "metadata": {
      "needs_background": "light"
     },
     "output_type": "display_data"
    }
   ],
   "source": [
    "plt.plot(df.Year, df.Salary)"
   ]
  },
  {
   "cell_type": "code",
   "execution_count": null,
   "metadata": {},
   "outputs": [],
   "source": []
  },
  {
   "cell_type": "code",
   "execution_count": null,
   "metadata": {},
   "outputs": [],
   "source": []
  }
 ],
 "metadata": {
  "kernelspec": {
   "display_name": "Python 3",
   "language": "python",
   "name": "python3"
  },
  "language_info": {
   "codemirror_mode": {
    "name": "ipython",
    "version": 3
   },
   "file_extension": ".py",
   "mimetype": "text/x-python",
   "name": "python",
   "nbconvert_exporter": "python",
   "pygments_lexer": "ipython3",
   "version": "3.8.3"
  }
 },
 "nbformat": 4,
 "nbformat_minor": 4
}
