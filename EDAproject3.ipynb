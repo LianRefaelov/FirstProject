{
 "cells": [
  {
   "cell_type": "markdown",
   "metadata": {},
   "source": [
    "# Industriel Engineering \n",
    "#### **Presented By :       Lian Refaelov , Shifra Fuchs, Osher Moyal , Dolev Levavi**"
   ]
  },
  {
   "cell_type": "markdown",
   "metadata": {},
   "source": [
    "- Wrangling the data and Understanding it\n",
    "- Audience Quiz: The most wanted position, The specialization where you earn the most\n",
    "- Facility vs Salary\n",
    "- Specialization vs Salary \n",
    "- Position vs Salary"
   ]
  },
  {
   "cell_type": "markdown",
   "metadata": {},
   "source": [
    "### *Wrangling the data and Understanding it*"
   ]
  },
  {
   "cell_type": "code",
   "execution_count": null,
   "metadata": {},
   "outputs": [],
   "source": [
    "import pandas as pd\n",
    "import numpy as np\n",
    "import matplotlib.pyplot as plt\n",
    "import seaborn as sns"
   ]
  },
  {
   "cell_type": "code",
   "execution_count": null,
   "metadata": {},
   "outputs": [],
   "source": [
    "font1 = {'family':'serif','color':'darkorange','size':25}\n",
    "font2 = {'family':'serif','color':'purple','size':15}"
   ]
  },
  {
   "cell_type": "code",
   "execution_count": null,
   "metadata": {
    "tags": []
   },
   "outputs": [],
   "source": [
    "url = \"IndustrielEngineeringData.csv\"\n",
    "industriel_data_df = pd.read_csv(url)\n",
    "industriel_data_df.head()"
   ]
  },
  {
   "cell_type": "code",
   "execution_count": null,
   "metadata": {},
   "outputs": [],
   "source": [
    "industriel_data_df.columns = ['Date', 'Status', 'Facility', 'Classification', 'Specialization', 'Company', 'Experience', 'Salary', 'Salary_kind', 'Remarks', 'Car']\n",
    "industriel_data_df.head()"
   ]
  },
  {
   "cell_type": "code",
   "execution_count": null,
   "metadata": {},
   "outputs": [],
   "source": [
    "industriel_data_df['Date'] = pd.to_datetime(industriel_data_df['Date'])\n",
    "industriel_data_df['Year'] = pd.DatetimeIndex(industriel_data_df['Date']).year\n",
    "industriel_data_df.head()"
   ]
  },
  {
   "cell_type": "code",
   "execution_count": null,
   "metadata": {
    "jupyter": {
     "source_hidden": true
    }
   },
   "outputs": [],
   "source": [
    "industriel_data_df.dtypes"
   ]
  },
  {
   "cell_type": "markdown",
   "metadata": {},
   "source": [
    "##### droping unnecessary columns and fixing missing values"
   ]
  },
  {
   "cell_type": "code",
   "execution_count": null,
   "metadata": {
    "jupyter": {
     "source_hidden": true
    }
   },
   "outputs": [],
   "source": [
    "industriel_data_df.isnull().sum().sort_values(ascending=False)"
   ]
  },
  {
   "cell_type": "code",
   "execution_count": null,
   "metadata": {
    "jupyter": {
     "source_hidden": true
    }
   },
   "outputs": [],
   "source": [
    "irrelevant_columns=['Remarks','Date']\n",
    "industriel_data_df.drop(irrelevant_columns,axis='columns' ,inplace=True)\n",
    "industriel_data_df[\"Company\"].fillna(\"לא הוזן\",inplace=True)\n",
    "industriel_data_df[\"Car\"].fillna(\"לא הוזן\",inplace=True)\n",
    "industriel_data_df[\"Classification\"].fillna(\"לא הוזן\",inplace=True)\n",
    "industriel_data_df.head()"
   ]
  },
  {
   "cell_type": "code",
   "execution_count": null,
   "metadata": {
    "jupyter": {
     "source_hidden": true
    }
   },
   "outputs": [],
   "source": [
    "industriel_data_df.isnull().sum().sort_values(ascending=False)"
   ]
  },
  {
   "cell_type": "markdown",
   "metadata": {},
   "source": [
    "1"
   ]
  },
  {
   "cell_type": "code",
   "execution_count": null,
   "metadata": {
    "jupyter": {
     "source_hidden": true
    }
   },
   "outputs": [],
   "source": [
    "industriel_data_df.head()"
   ]
  },
  {
   "cell_type": "code",
   "execution_count": null,
   "metadata": {
    "jupyter": {
     "source_hidden": true
    }
   },
   "outputs": [],
   "source": [
    "pd.unique(industriel_data_df.Facility)"
   ]
  },
  {
   "cell_type": "code",
   "execution_count": null,
   "metadata": {
    "jupyter": {
     "source_hidden": true
    }
   },
   "outputs": [],
   "source": [
    "industriel_data_df.drop(industriel_data_df[industriel_data_df.Facility == \"מוסד ממש טוב\"].index, inplace=True)\n",
    "industriel_data_df.drop(industriel_data_df[industriel_data_df.Facility == \"לא מהנדס , הנדסאי\"].index, inplace=True)"
   ]
  },
  {
   "cell_type": "code",
   "execution_count": null,
   "metadata": {
    "jupyter": {
     "source_hidden": true
    }
   },
   "outputs": [],
   "source": [
    "pd.unique(industriel_data_df.Facility)"
   ]
  },
  {
   "cell_type": "code",
   "execution_count": null,
   "metadata": {
    "jupyter": {
     "source_hidden": true
    }
   },
   "outputs": [],
   "source": [
    "#industriel_data_df.iloc[industriel_data_df[industriel_data_df.Facility == \"בן גוריון\"].index, 1] = \"אוניברסיטת בן גוריון\""
   ]
  },
  {
   "cell_type": "code",
   "execution_count": null,
   "metadata": {
    "jupyter": {
     "source_hidden": true
    }
   },
   "outputs": [],
   "source": [
    "industriel_data_df.loc[industriel_data_df[industriel_data_df.Facility == \"בן גוריון\"].index, \"Facility\"] = \"אוניברסיטת בן גוריון\""
   ]
  },
  {
   "cell_type": "code",
   "execution_count": null,
   "metadata": {
    "jupyter": {
     "source_hidden": true
    }
   },
   "outputs": [],
   "source": [
    "pd.unique(industriel_data_df.Facility)"
   ]
  },
  {
   "cell_type": "code",
   "execution_count": null,
   "metadata": {
    "jupyter": {
     "source_hidden": true
    }
   },
   "outputs": [],
   "source": [
    "my_type = []\n",
    "for facility in industriel_data_df.Facility:\n",
    "    if \"אוניברסיטה\" in facility or \"אוניברסיטת\" in facility:\n",
    "        my_type.append(\"אוניברסיטה\")\n",
    "    elif \"טכניון\" in facility:\n",
    "        my_type.append(\"אוניברסיטה\")\n",
    "    else:\n",
    "        my_type.append(\"מכללה\")\n",
    "industriel_data_df['type'] = my_type\n",
    "industriel_data_df"
   ]
  },
  {
   "cell_type": "markdown",
   "metadata": {},
   "source": [
    "### Histograms:"
   ]
  },
  {
   "cell_type": "code",
   "execution_count": null,
   "metadata": {},
   "outputs": [],
   "source": [
    "features= ['Status', 'Facility', 'Experience', 'type']\n",
    "fig, axes=plt.subplots(2,2,figsize=(10,10))\n",
    "plt.subplots_adjust(wspace=0.5, hspace=0.3)\n",
    "axes=axes.flatten\n",
    "for i,att in enumerate(features):\n",
    "    sns.histplot(x=att, data=industriel_data_df, ax=axes[i])"
   ]
  },
  {
   "cell_type": "markdown",
   "metadata": {},
   "source": [
    "#### Heat map in order to find correlations: (wont help... onlu numeric collumns)"
   ]
  },
  {
   "cell_type": "code",
   "execution_count": null,
   "metadata": {},
   "outputs": [],
   "source": [
    "corrs=industriel_data_df.corr(method='kendall')\n",
    "plt.figure(figsize=(10,10))\n",
    "sns.heatmap(corrs, cmap='coolwarm', center=0, annot=True)"
   ]
  },
  {
   "cell_type": "markdown",
   "metadata": {},
   "source": [
    "### starting to play with data in order to find correlations:"
   ]
  },
  {
   "cell_type": "markdown",
   "metadata": {},
   "source": [
    "#### experience vs income graduate:"
   ]
  },
  {
   "cell_type": "code",
   "execution_count": null,
   "metadata": {},
   "outputs": [],
   "source": [
    "industriel_data_df_filter = industriel_data_df.loc[industriel_data_df.Facility.isin(counts[counts > 10].index), :]\n",
    "industriel_data_df_filter = industriel_data_df_filter[industriel_data_df_filter.Status == \"בוגר/ת\"]"
   ]
  },
  {
   "cell_type": "code",
   "execution_count": null,
   "metadata": {},
   "outputs": [],
   "source": [
    "sns.regplot(x='Salary', y='Experience', data= industriel_data_df)"
   ]
  },
  {
   "cell_type": "markdown",
   "metadata": {},
   "source": [
    "#### Specialization vs Salary:"
   ]
  },
  {
   "cell_type": "code",
   "execution_count": null,
   "metadata": {},
   "outputs": [],
   "source": [
    "pd.unique(industriel_data_df.Specialization)"
   ]
  },
  {
   "cell_type": "code",
   "execution_count": null,
   "metadata": {},
   "outputs": [],
   "source": []
  },
  {
   "cell_type": "code",
   "execution_count": null,
   "metadata": {},
   "outputs": [],
   "source": [
    "#my_speciality = []\n",
    "#for speciality in industriel_data_df.Specialization:\n",
    " #   if \"פרוייקטים\" in speciality or \"PMO\" in speciality or \"Product\" in speciality:\n",
    "  #      my_speciality.append(\"ניהול פרוייקטים\")\n",
    "\n",
    "#for speciality in industriel_data_df.Specialization:\n",
    " #   if \"ניתוח\" in speciality or \"אנאליסט\" in speciality or \"נתונים\" in speciality:\n",
    "  #      my_speciality.append(\"ניתוח נתונים\")\n",
    "        \n",
    "#for speciality in industriel_data_df.Specialization:\n",
    " #  if \"רכש\" in speciality or \"ייצור\" or \"הטמעה\" in speciality:\n",
    "  #    my_speciality.append(\"ניהול היצור\")\n",
    "        \n",
    "#for speciality in industriel_data_df.Specialization:\n",
    " #  if \"QA\" in speciality:\n",
    "  #    my_speciality.append(\"אבטחת איכות\") \n",
    "\n",
    "#for speciality in industriel_data_df.Specialization:\n",
    " #  if \"ארגון ושיטות\" in speciality:\n",
    "  #    my_speciality.append(\"ארגון ושיטות\")\n",
    "        \n",
    "#for speciality in industriel_data_df.Specialization:\n",
    " #   if not (\"ניהול פרוייקטים\" or \"ניתוח נתונים\" or \"ניהול היצור\" or \"אבטחת איכות\"):\n",
    "  #     my_speciality.append(\"אחר\")\n",
    "        \n",
    "#industriel_data_df['speciality'] = my_speciality\n",
    "#industriel_data_df.head()"
   ]
  },
  {
   "cell_type": "code",
   "execution_count": null,
   "metadata": {},
   "outputs": [],
   "source": [
    "#industriel_data_df.groupby(\"Specialization\").Salary.mean().plot(kind=\"bar\")"
   ]
  },
  {
   "cell_type": "markdown",
   "metadata": {},
   "source": [
    "### Lets get to know the data:"
   ]
  },
  {
   "cell_type": "markdown",
   "metadata": {},
   "source": [
    "#### The relation between the amount of students to the amount of graduates that answered the survey:"
   ]
  },
  {
   "cell_type": "code",
   "execution_count": null,
   "metadata": {
    "jupyter": {
     "source_hidden": true
    }
   },
   "outputs": [],
   "source": [
    "temp=industriel_data_df.groupby('Status')['Status'].count().sort_values()\n",
    "temp.rename({'בוגר/ת':'Graduates','סטודנט/ית':'Students'}).plot.pie(y=\"percentage\",figsize=(6,6),autopct='%1.1f%%',legend=False)\n",
    "plt.title(\"Students vs. Graduates\",fontdict = font1)"
   ]
  },
  {
   "cell_type": "code",
   "execution_count": null,
   "metadata": {
    "jupyter": {
     "source_hidden": true
    }
   },
   "outputs": [],
   "source": [
    "plt.figure(figsize=(10, 5))\n",
    "plt.subplot(1,2,1)\n",
    "plt.title(\"Students/Graduates count\") \n",
    "sns.countplot( x=\"Status\", data=industriel_data_df , edgecolor = 'black')\n",
    "plt.subplot(1,2,2)\n",
    "plt.title(\"Students vs. Graduates\")\n",
    "industriel_data_df['Status'].value_counts().plot.pie(autopct='%1.1f%%')\n",
    "\n",
    "plt.show()"
   ]
  },
  {
   "cell_type": "markdown",
   "metadata": {},
   "source": [
    "#### The division between the different facilities:"
   ]
  },
  {
   "cell_type": "code",
   "execution_count": null,
   "metadata": {
    "jupyter": {
     "source_hidden": true
    }
   },
   "outputs": [],
   "source": [
    "plt.figure(figsize=(10, 5))\n",
    "plt.subplot(1,2,1)\n",
    "plt.title(\"Facilities count\") \n",
    "sns.countplot( x=\"Facility\", data=industriel_data_df , edgecolor = 'black')\n",
    "plt.subplot(1,2,2)\n",
    "plt.title(\"Universities vs. Colleges\")\n",
    "industriel_data_df['type'].value_counts().plot.pie(autopct='%1.1f%%')\n",
    "\n",
    "plt.show()"
   ]
  },
  {
   "cell_type": "code",
   "execution_count": null,
   "metadata": {
    "jupyter": {
     "source_hidden": true
    }
   },
   "outputs": [],
   "source": [
    "student = industriel_data_df.loc[industriel_data_df.Status == 'סטודנט/ית']\n",
    "graduate = industriel_data_df.loc[industriel_data_df.Status == 'בוגר/ת']"
   ]
  },
  {
   "cell_type": "code",
   "execution_count": null,
   "metadata": {
    "jupyter": {
     "source_hidden": true
    }
   },
   "outputs": [],
   "source": [
    "all_facilities = (['אוניברסיטה פתוחה', 'אוניברסיטת אריאל', 'אוניברסיטת בר אילן', 'אוניברסיטת חיפה', 'אוניברסיטת תל אביב', 'אוניברסיטת בן גוריון', 'האקדמית עמק יזרעאל', 'האקדמית תל אביב יפו', 'המכללה להנדסה ירושלים', 'המכללה למינהל', 'המרכז האקדמי לב', 'טכניון', 'מכללת אורט בראודה', 'מכללת אפקה', 'מכללת סמי שמעון', 'מכללת ספיר', 'מכללת רופין', 'מכללת שנקר']\n",
    "plt.figure(figsize=(10, 5))\n",
    "plt.subplot(1,2,1)\n",
    "plt.title(\"Facility vs Salary\")\n",
    "sns.barplot(x=male[all_facilities].mean(),y=male[all_drugs].columns, edgecolor = 'black')\n",
    "plt.subplot(1,2,2)\n",
    "plt.title(\"Facility vs Amount\")\n",
    "g =sns.barplot(x=female[all_facilities].mean(),y=female[all_drugs].columns, edgecolor = 'black')\n",
    "g.set(xlim=(0, 0.5))\n",
    "plt.tight_layout()\n",
    "plt.show()"
   ]
  },
  {
   "cell_type": "markdown",
   "metadata": {},
   "source": [
    "#### Getting to understand what affects the salary:"
   ]
  },
  {
   "cell_type": "code",
   "execution_count": null,
   "metadata": {
    "tags": []
   },
   "outputs": [],
   "source": [
    "counts = pd.value_counts(industriel_data_df.Facility)"
   ]
  },
  {
   "cell_type": "code",
   "execution_count": null,
   "metadata": {
    "tags": []
   },
   "outputs": [],
   "source": [
    "grouped=industriel_data_df.groupby(\"Facility\").Salary.mean()\n",
    "\n",
    "g1=grouped.rename(index={'אוניברסיטה פתוחה':'Open University','אוניברסיטת אריאל':'Ariel Unuversity','המכללה למינהל':'College of Management','אוניברסיטת בן גוריון':'Ben-Gurion University','אוניברסיטת בר אילן':'Bar-Ilan University','אוניברסיטת תל אביב':'Tel Aviv University','מכללת שנקר':'Shenkar College','טכניון':'Technion','מכללת ספיר':'Sapir Academic College','מכללת אורט בראודה':'ORT Braude College','מכללת סמי שמעון':'Sami Shamoon College','מכללת רופין':'Ruppin Academic Center','האקדמית עמק יזרעאל':'Yezreel Valley College','המכללה להנדסה ירושלים':'College of Engineering Jerusalem','מכללת אפקה':'Afeka College','אוניברסיטת חיפה':'University of Haifa','האקדמית תל אביב יפו':'Tel Aviv-Yafo Academic College','המרכז האקדמי לב':'Lev Academic Center'}).plot(figsize=(15,5),kind=\"bar\",color=\"lightblue\",legend=False)\n",
    "\n",
    "plt.title(\"Mean Salary Per Facility\",fontdict = font1)\n",
    "g1.set_xlabel(\"Facility\",fontdict = font2)\n",
    "g1.set_ylabel(\"Salary\",fontdict = font2)"
   ]
  },
  {
   "cell_type": "markdown",
   "metadata": {},
   "source": [
    "##### Salary per graduate for colleges:"
   ]
  },
  {
   "cell_type": "code",
   "execution_count": null,
   "metadata": {
    "jupyter": {
     "source_hidden": true
    },
    "tags": []
   },
   "outputs": [],
   "source": [
    "counts = pd.value_counts(industriel_data_df.Facility)\n",
    "industriel_data_df_filter = industriel_data_df.loc[industriel_data_df.Facility.isin(counts[counts > 10].index), :]\n",
    "industriel_data_df_filter = industriel_data_df_filter[industriel_data_df_filter.Status == \"בוגר/ת\"]\n",
    "industriel_data_df_filter = industriel_data_df_filter[industriel_data_df_filter.type == \"מכללה\"]"
   ]
  },
  {
   "cell_type": "code",
   "execution_count": null,
   "metadata": {
    "jupyter": {
     "source_hidden": true
    },
    "tags": []
   },
   "outputs": [],
   "source": [
    "g2=industriel_data_df_filter.groupby(\"Facility\").Salary.mean().rename(index={'אוניברסיטה פתוחה':'Open University','אוניברסיטת אריאל':'Ariel Unuversity','אוניברסיטת בן גוריון':'Ben-Gurion University','אוניברסיטת בר אילן':'Bar-Ilan University','אוניברסיטת חיפה':'University of Haifa','אוניברסיטת תל אביב':'Tel Aviv University','האקדמית עמק יזרעאל':'Yezreel Valley College','מכללת שנקר':'Shenkar College','טכניון':'Technion','מכללת ספיר':'Sapir Academic College','מכללת אורט בראודה':'ORT Braude College','מכללת סמי שמעון':'Sami Shamoon College','מכללת רופין':'Ruppin Academic Center','האקדמית עמק יזרעאל':'Yezreel Valley College','האקדמית תל אביב יפו':'Tel Aviv-Yafo Academic College','המכללה להנדסה ירושלים':'College of Engineering Jerusalem','מכללת אפקה':'Afeka College','האקדמית תל אביב יפו':'Tel Aviv-Yafo Academic College'}).plot(figsize=(13,5),kind=\"bar\",color=\"lightblue\")\n",
    "plt.title(\"Mean Salary For Graduets Per College\",fontdict = font1)\n",
    "g2.set_xlabel(\"Facility\",fontdict = font2)\n",
    "g2.set_ylabel(\"Salary\",fontdict = font2)"
   ]
  },
  {
   "cell_type": "markdown",
   "metadata": {},
   "source": [
    "##### Salary per graduate for universities:"
   ]
  },
  {
   "cell_type": "code",
   "execution_count": null,
   "metadata": {
    "jupyter": {
     "source_hidden": true
    }
   },
   "outputs": [],
   "source": [
    "counts = pd.value_counts(industriel_data_df.Facility)\n",
    "industriel_data_df_filter = industriel_data_df.loc[industriel_data_df.Facility.isin(counts[counts > 10].index), :]\n",
    "industriel_data_df_filter = industriel_data_df_filter[industriel_data_df_filter.Status == \"בוגר/ת\"]\n",
    "industriel_data_df_filter = industriel_data_df_filter[industriel_data_df_filter.type == \"אוניברסיטה\"]"
   ]
  },
  {
   "cell_type": "code",
   "execution_count": null,
   "metadata": {
    "jupyter": {
     "source_hidden": true
    }
   },
   "outputs": [],
   "source": [
    "g2=industriel_data_df_filter.groupby(\"Facility\").Salary.mean().rename(index={'אוניברסיטה פתוחה':'Open University','אוניברסיטת אריאל':'Ariel Unuversity','אוניברסיטת בן גוריון':'Ben-Gurion University','אוניברסיטת בר אילן':'Bar-Ilan University','אוניברסיטת חיפה':'University of Haifa','אוניברסיטת תל אביב':'Tel Aviv University','האקדמית עמק יזרעאל':'Yezreel Valley College','מכללת שנקר':'Shenkar College','טכניון':'Technion','מכללת ספיר':'Sapir Academic College','מכללת אורט בראודה':'ORT Braude College','מכללת סמי שמעון':'Sami Shamoon College','מכללת רופין':'Ruppin Academic Center','האקדמית עמק יזרעאל':'Yezreel Valley College','האקדמית תל אביב יפו':'Tel Aviv-Yafo Academic College','המכללה להנדסה ירושלים':'College of Engineering Jerusalem','מכללת אפקה':'Afeka College','האקדמית תל אביב יפו':'Tel Aviv-Yafo Academic College'}).plot(figsize=(13,5),kind=\"bar\",color=\"lightblue\")\n",
    "plt.title(\"Mean Salary For Graduets Per University\",fontdict = font1)\n",
    "g2.set_xlabel(\"Facility\",fontdict = font2)\n",
    "g2.set_ylabel(\"Salary\",fontdict = font2)"
   ]
  },
  {
   "cell_type": "markdown",
   "metadata": {},
   "source": [
    "##### Salary per student:"
   ]
  },
  {
   "cell_type": "code",
   "execution_count": null,
   "metadata": {
    "tags": []
   },
   "outputs": [],
   "source": [
    "counts = pd.value_counts(industriel_data_df.Facility)\n",
    "industriel_data_df_filter = industriel_data_df.loc[industriel_data_df.Facility.isin(counts[counts > 10].index), :]\n",
    "industriel_data_df_filter = industriel_data_df_filter[industriel_data_df_filter.Status == \"סטודנט/ית\"]"
   ]
  },
  {
   "cell_type": "code",
   "execution_count": null,
   "metadata": {
    "tags": []
   },
   "outputs": [],
   "source": [
    "g3=industriel_data_df_filter.groupby(\"Facility\").Salary.mean().rename(index={'אוניברסיטה פתוחה':'Open University','אוניברסיטת אריאל':'Ariel Unuversity','אוניברסיטת בן גוריון':'Ben-Gurion University','אוניברסיטת בר אילן':'Bar-Ilan University','אוניברסיטת חיפה':'University of Haifa','אוניברסיטת תל אביב':'Tel Aviv University','האקדמית עמק יזרעאל':'Yezreel Valley College','מכללת שנקר':'Shenkar College','טכניון':'Technion','מכללת ספיר':'Sapir Academic College','מכללת אורט בראודה':'ORT Braude College','מכללת סמי שמעון':'Sami Shamoon College','מכללת רופין':'Ruppin Academic Center','האקדמית עמק יזרעאל':'Yezreel Valley College','האקדמית תל אביב יפו':'Tel Aviv-Yafo Academic College','המכללה להנדסה ירושלים':'College of Engineering Jerusalem','מכללת אפקה':'Afeka College','האקדמית תל אביב יפו':'Tel Aviv-Yafo Academic College'}).plot(figsize=(13,5),kind=\"bar\",color=\"lightblue\")\n",
    "plt.title(\"Mean Salary For Students\",fontdict = font1)\n",
    "g3.set_xlabel(\"Facility\",fontdict = font2)\n",
    "g3.set_ylabel(\"Salary\",fontdict = font2)"
   ]
  },
  {
   "cell_type": "code",
   "execution_count": null,
   "metadata": {},
   "outputs": [],
   "source": [
    "salary_university = industriel_data_df_filter[industriel_data_df_filter.type == 'אוניברסיטה'].groupby(\"Facility\").Salary.mean()\n",
    "salary_university"
   ]
  },
  {
   "cell_type": "code",
   "execution_count": null,
   "metadata": {},
   "outputs": [],
   "source": [
    "salary_college = industriel_data_df_filter[industriel_data_df_filter.type == 'מכללה'].groupby(\"Facility\").Salary.mean()\n",
    "salary_college"
   ]
  },
  {
   "cell_type": "code",
   "execution_count": null,
   "metadata": {
    "jupyter": {
     "source_hidden": true
    }
   },
   "outputs": [],
   "source": [
    "all_universities=(['אוניברסיטה פתוחה', 'אוניברסיטת אריאל', 'אוניברסיטת בר אילן', 'אוניברסיטת חיפה', 'אוניברסיטת תל אביב', 'אוניברסיטת בן גוריון', 'טכניון'])\n",
    "all_colleges=[('האקדמית עמק יזראל', 'האקדמית תל אביב יפו', 'המכללה להנדסה ירושלים', 'המכללה למינהל', 'המרכז האקדמי לב', 'מכללת אורט בראודה', 'מכללת אפקה', 'מכללת סמי שמעון', 'מכללת ספיר', 'מכללת רופין', 'מכללת שנקר')]\n",
    "plt.figure(figsize=(10, 5))\n",
    "plt.subplot(1,2,1)\n",
    "plt.title(\"Universities vs Salary\")\n",
    "sns.barplot(x=salary_university[all_universities].mean(),y=salary_university[all_universities].columns, edgecolor = 'black')\n",
    "plt.subplot(1,2,2)\n",
    "plt.title(\"Colleges vs Salary\")\n",
    "g =sns.barplot(x=salary_college[all_colleges].mean(),y=salary_college[all_colleges].columns, edgecolor = 'black')\n",
    "g.set(xlim=(0, 0.5))\n",
    "plt.tight_layout()\n",
    "plt.show()"
   ]
  },
  {
   "cell_type": "code",
   "execution_count": null,
   "metadata": {},
   "outputs": [],
   "source": [
    "fig, axes=plt.subplots(1,2,figsize=(10,5))\n",
    "plt.subplots_adjust(wspace=0.5)\n",
    "#sns.boxplot(x=\"Facility\", y=\"Salary\", data=industriel_data_df[industriel_data_df.Status == \"בוגר/ת\"])\n",
    "sns.boxplot(x=\"Experience\", y=\"Salary\", data=industriel_data_df[industriel_data_df.Status == \"בוגר/ת\"])\n",
    "plt.show()"
   ]
  },
  {
   "cell_type": "code",
   "execution_count": null,
   "metadata": {},
   "outputs": [],
   "source": [
    "sns.boxplot(x=\"Facility\", y=\"Salary\", data=industriel_data_df[industriel_data_df.Status == \"בוגר/ת\"])"
   ]
  },
  {
   "cell_type": "code",
   "execution_count": null,
   "metadata": {},
   "outputs": [],
   "source": [
    "sns.boxplot(x=\"Experience\", y='Salary', hue='type',data=industriel_data_df[industriel_data_df.Status == \"בוגר/ת\"])"
   ]
  },
  {
   "cell_type": "markdown",
   "metadata": {},
   "source": [
    "#### salary vs college:"
   ]
  },
  {
   "cell_type": "code",
   "execution_count": null,
   "metadata": {
    "jupyter": {
     "source_hidden": true
    }
   },
   "outputs": [],
   "source": [
    "g3=industriel_data_df_filter[industriel_data_df_filter.type == 'מכללה'].groupby(\"Facility\").Salary.mean().rename(index={'אוניברסיטה פתוחה':'Open University','אוניברסיטת אריאל':'Ariel Unuversity','אוניברסיטת בן גוריון':'Ben-Gurion University','אוניברסיטת בר אילן':'Bar-Ilan University','אוניברסיטת חיפה':'University of Haifa','אוניברסיטת תל אביב':'Tel Aviv University','האקדמית עמק יזרעאל':'Yezreel Valley College','מכללת שנקר':'Shenkar College','טכניון':'Technion','מכללת ספיר':'Sapir Academic College','מכללת אורט בראודה':'ORT Braude College','מכללת סמי שמעון':'Sami Shamoon College','מכללת רופין':'Ruppin Academic Center','האקדמית עמק יזרעאל':'Yezreel Valley College','האקדמית תל אביב יפו':'Tel Aviv-Yafo Academic College','המכללה להנדסה ירושלים':'College of Engineering Jerusalem','מכללת אפקה':'Afeka College','האקדמית תל אביב יפו':'Tel Aviv-Yafo Academic College'}).plot(figsize=(13,5),kind=\"bar\",color=\"lightblue\")\n",
    "plt.title(\"Mean Salary Per College for students\",fontdict = font1)\n",
    "g3.set_xlabel(\"Facility\",fontdict = font2)\n",
    "g3.set_ylabel(\"Salary\",fontdict = font2)"
   ]
  },
  {
   "cell_type": "markdown",
   "metadata": {},
   "source": [
    "#### salary vs university for students:"
   ]
  },
  {
   "cell_type": "code",
   "execution_count": null,
   "metadata": {
    "jupyter": {
     "source_hidden": true
    },
    "tags": []
   },
   "outputs": [],
   "source": [
    "g3=industriel_data_df_filter[industriel_data_df_filter.type == 'אוניברסיטה'].groupby(\"Facility\").Salary.mean().rename(index={'אוניברסיטה פתוחה':'Open University','אוניברסיטת אריאל':'Ariel Unuversity','אוניברסיטת בן גוריון':'Ben-Gurion University','אוניברסיטת בר אילן':'Bar-Ilan University','אוניברסיטת חיפה':'University of Haifa','אוניברסיטת תל אביב':'Tel Aviv University','האקדמית עמק יזרעאל':'Yezreel Valley College','מכללת שנקר':'Shenkar College','טכניון':'Technion','מכללת ספיר':'Sapir Academic College','מכללת אורט בראודה':'ORT Braude College','מכללת סמי שמעון':'Sami Shamoon College','מכללת רופין':'Ruppin Academic Center','האקדמית עמק יזרעאל':'Yezreel Valley College','האקדמית תל אביב יפו':'Tel Aviv-Yafo Academic College','המכללה להנדסה ירושלים':'College of Engineering Jerusalem','מכללת אפקה':'Afeka College','האקדמית תל אביב יפו':'Tel Aviv-Yafo Academic College'}).plot(figsize=(13,5),kind=\"bar\",color=\"lightblue\")\n",
    "plt.title(\"Mean Salary Per University for students\",fontdict = font1)\n",
    "g3.set_xlabel(\"Facility\",fontdict = font2)\n",
    "g3.set_ylabel(\"Salary\",fontdict = font2)"
   ]
  },
  {
   "cell_type": "code",
   "execution_count": null,
   "metadata": {
    "tags": []
   },
   "outputs": [],
   "source": [
    "#industriel_data_df_filter[industriel_data_df_filter.type == 'אוניברסיטה'].groupby(\"Facility\").Salary.mean().plot(kind=\"bar\")"
   ]
  },
  {
   "cell_type": "markdown",
   "metadata": {},
   "source": [
    "2"
   ]
  },
  {
   "cell_type": "code",
   "execution_count": null,
   "metadata": {
    "jupyter": {
     "source_hidden": true
    }
   },
   "outputs": [],
   "source": [
    "pd.unique(industriel_data_df.Experience)"
   ]
  },
  {
   "cell_type": "code",
   "execution_count": null,
   "metadata": {
    "jupyter": {
     "source_hidden": true
    }
   },
   "outputs": [],
   "source": [
    "pd.value_counts(industriel_data_df.Experience)"
   ]
  },
  {
   "cell_type": "markdown",
   "metadata": {},
   "source": [
    "#### Amount vs Experience per type of facility:"
   ]
  },
  {
   "cell_type": "code",
   "execution_count": null,
   "metadata": {
    "jupyter": {
     "source_hidden": true
    }
   },
   "outputs": [],
   "source": [
    "order=[\"1\",\"2+\",\"10+\"]\n",
    "sns.countplot(x=\"Experience\", hue=\"type\" , data=industriel_data_df, palette=\"Set1\", edgecolor = 'black' ,order = order)\n",
    "plt.show()"
   ]
  },
  {
   "cell_type": "markdown",
   "metadata": {},
   "source": [
    "#### Salary distribution for graduets:"
   ]
  },
  {
   "cell_type": "code",
   "execution_count": null,
   "metadata": {},
   "outputs": [],
   "source": [
    "counts = pd.value_counts(industriel_data_df.Facility)\n",
    "industriel_data_df_filter = industriel_data_df.loc[industriel_data_df.Facility.isin(counts[counts > 10].index), :]\n",
    "industriel_data_df_filter = industriel_data_df_filter[industriel_data_df_filter.Status == \"בוגר/ת\"]"
   ]
  },
  {
   "cell_type": "code",
   "execution_count": null,
   "metadata": {},
   "outputs": [],
   "source": [
    "salary = industriel_data_df_filter['Salary']\n",
    "plt.hist(salary, bins = range(0, 100, 10) , edgecolor = 'black', color = \"tab:red\")\n",
    "plt.xticks(range(0, 100, 10))\n",
    "plt.style.context('fivethirtyeight')\n",
    "plt.xlabel('Salary')\n",
    "plt.ylabel('Amount')"
   ]
  },
  {
   "cell_type": "code",
   "execution_count": null,
   "metadata": {},
   "outputs": [],
   "source": [
    "counts = pd.value_counts(industriel_data_df.Facility)\n",
    "industriel_data_df_filter = industriel_data_df.loc[industriel_data_df.Facility.isin(counts[counts > 10].index), :]\n",
    "industriel_data_df_filter = industriel_data_df_filter[industriel_data_df_filter.Status == \"בוגר/ת\"]\n",
    "industriel_data_df_filter.Salary.hist()"
   ]
  },
  {
   "cell_type": "code",
   "execution_count": null,
   "metadata": {
    "jupyter": {
     "source_hidden": true
    }
   },
   "outputs": [],
   "source": [
    "!pip install -U seaborn"
   ]
  },
  {
   "cell_type": "code",
   "execution_count": null,
   "metadata": {
    "jupyter": {
     "source_hidden": true
    }
   },
   "outputs": [],
   "source": [
    "sns.distplot(industriel_data_df_filter, x=\"Salary\", hue=\"Classification\")"
   ]
  },
  {
   "cell_type": "code",
   "execution_count": null,
   "metadata": {
    "jupyter": {
     "source_hidden": true
    }
   },
   "outputs": [],
   "source": [
    "counts = pd.value_counts(industriel_data_df.Classification)\n",
    "industriel_data_df_filter_cls = industriel_data_df.loc[industriel_data_df.Classification.isin(counts[counts > 1].index), :]\n"
   ]
  },
  {
   "cell_type": "code",
   "execution_count": null,
   "metadata": {
    "jupyter": {
     "source_hidden": true
    }
   },
   "outputs": [],
   "source": [
    "fig, ax = plt.fi\n",
    "data = industriel_data_df_filter_cls.groupby(\"Classification\").Salary.count()\n",
    "data.plot.pie(autopct=\"%.1f%%\")"
   ]
  },
  {
   "cell_type": "code",
   "execution_count": 103,
   "metadata": {
    "jupyter": {
     "source_hidden": true
    }
   },
   "outputs": [],
   "source": [
    "df = industriel_data_df[industriel_data_df.Salary > 7000]\n"
   ]
  },
  {
   "cell_type": "code",
   "execution_count": 104,
   "metadata": {
    "jupyter": {
     "source_hidden": true
    }
   },
   "outputs": [
    {
     "data": {
      "text/plain": [
       "<matplotlib.axes._subplots.AxesSubplot at 0x19a9bf3e940>"
      ]
     },
     "execution_count": 104,
     "metadata": {},
     "output_type": "execute_result"
    },
    {
     "data": {
      "image/png": "[encoded data removed]",
      "text/plain": [
       "<Figure size 432x288 with 1 Axes>"
      ]
     },
     "metadata": {
      "needs_background": "light"
     },
     "output_type": "display_data"
    }
   ],
   "source": [
    "df.groupby(\"Year\").Salary.mean().plot()"
   ]
  }
 ],
 "metadata": {
  "kernelspec": {
   "display_name": "Python 3",
   "language": "python",
   "name": "python3"
  },
  "language_info": {
   "codemirror_mode": {
    "name": "ipython",
    "version": 3
   },
   "file_extension": ".py",
   "mimetype": "text/x-python",
   "name": "python",
   "nbconvert_exporter": "python",
   "pygments_lexer": "ipython3",
   "version": "3.8.3"
  }
 },
 "nbformat": 4,
 "nbformat_minor": 4
}
